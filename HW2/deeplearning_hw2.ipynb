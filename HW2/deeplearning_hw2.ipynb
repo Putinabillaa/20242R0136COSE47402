{
  "cells": [
    {
      "cell_type": "markdown",
      "metadata": {
        "id": "DrCtNXqhO_C4"
      },
      "source": [
        "Aidira Puti Nabilla (2024962097)"
      ]
    },
    {
      "cell_type": "markdown",
      "metadata": {
        "id": "OB9BJvvjI1ge"
      },
      "source": [
        "#7.1. From Fully Connected Layers to Convolutions"
      ]
    },
    {
      "cell_type": "markdown",
      "metadata": {
        "id": "iv6irJ3xErIX"
      },
      "source": [
        "## Exercises\n",
        "\n",
        "1. Assume that the size of the convolution kernel is $\\Delta = 0$.\n",
        "   Show that in this case the convolution kernel\n",
        "   implements an MLP independently for each set of channels. This leads to the Network in Network\n",
        "   architectures :cite:`Lin.Chen.Yan.2013`.\n",
        "   \n",
        "   When the convolution kernel size Δ=0, the operation effectively becomes a pointwise convolution, allowing the network to behave like an MLP that operates independently on each set of input channels. This forms the basis for the Network in Network architecture, enabling more expressive feature learning.\n",
        "1. Audio data is often represented as a one-dimensional sequence.\n",
        "    1. When might you want to impose locality and translation invariance for audio?\n",
        "      - Locality: Certain sounds can occur in short time frames, and local patterns can represent significant audio features (e.g., certain words etc.).\n",
        "      - Translation Invariance: Essential when recognizing patterns or features in audio regardless of their position in the audio sequence. For example, a particular words can occur at different times, and you want to recognize it regardless of when it appears.\n",
        "    1. Derive the convolution operations for audio.\n",
        "    \n",
        "      For a one-dimensional audio signal x(t) and a convolution kernel w(t), the convolution operation can be defined as:\n",
        "      \n",
        "      (y∗w)(t)=∫[−∞,∞] (x(τ)w(t−τ))dτ\n",
        "      \n",
        "      In discrete terms, if we consider a sampled audio signal:\n",
        "      \n",
        "      y[n]=(x∗w)[n]= ∑[m=−∞, ∞] x[m]w[n−m]\n",
        "\n",
        "      This operation allows us to apply a filter (or kernel) to the audio signal, producing a new sequence y[n] that captures features according to the kernel’s weights.\n",
        "\n",
        "    1. Can you treat audio using the same tools as computer vision? Hint: use the spectrogram.\n",
        "    \n",
        "    Yes, audio can be treated similarly to images in computer vision using a spectrogram, which represents the audio signal in the time-frequency domain.\n",
        "\n",
        "1. Why might translation invariance not be a good idea after all? Give an example.\n",
        "\n",
        " In speech recognition, the position of phonemes is crucial. If the system is too invariant to translation, it might overlook subtle but critical distinctions in timing that affect meaning\n",
        "\n",
        "1. Do you think that convolutional layers might also be applicable for text data?\n",
        "   Which problems might you encounter with language?\n",
        "\n",
        "    Convolutional layers can also be applicable for text data, especially for tasks like text classification or sentiment analysis. However, some challenges include:\n",
        "\n",
        "    Variable Lengths: Text data comes in variable lengths, and padding or truncating may be necessary.\n",
        "\n",
        "    Word Order: The order of words in sentences is crucial in language, and convolutions might not capture this well unless designed carefully (e.g., by using n-grams).\n",
        "\n",
        "\n",
        "1. What happens with convolutions when an object is at the boundary of an image?\n",
        "\n",
        "  When an object is at the boundary of an image, convolution operations can produce artifacts or reduced output sizes, particularly if no padding is used. This can lead to:\n",
        "\n",
        "  Loss of Information: Important features at the edges might not be fully captured.\n",
        "\n",
        "  Dimensionality Reduction: The output size may be smaller than the input size, affecting the network architecture.\n",
        "\n",
        "1. Prove that the convolution is symmetric, i.e., $f * g = g * f$.\n",
        "\n",
        "  1. **Convolution Definition**:\n",
        "    $[\n",
        "    (f * g)(t) = \\int_{-\\infty}^{\\infty} f(τ) g(t - τ) \\, d\\tau\n",
        "    $]\n",
        "\n",
        "  2. **Changing the Variable**:\n",
        "    Let $( u = t - \\tau $). Then, $( τ = t - u $) and $( d\\tau = -du $). The limits remain the same, so:\n",
        "    $[\n",
        "    (f * g)(t) = \\int_{-\\infty}^{\\infty} f(t - u) g(u) (-du) = \\int_{-\\infty}^{\\infty} f(t - u) g(u) \\, du\n",
        "    $]\n",
        "\n",
        "  3. **Rearranging the Integral**:\n",
        "    $[\n",
        "    (f * g)(t) = \\int_{-\\infty}^{\\infty} g(u) f(t - u) \\, du = (g * f)(t)\n",
        "    $]\n",
        "\n",
        "  Thus, we have shown that $( (f * g)(t) = (g * f)(t) $), proving that convolution is symmetric.\n"
      ]
    },
    {
      "cell_type": "markdown",
      "metadata": {
        "id": "i9Nd4FBZJvqN"
      },
      "source": [
        "##Discussion Points:\n",
        "- Translation Invariance: The network's earliest layers respond similarly to the same image patch, regardless of its position.\n",
        "- Locality Principle: Early layers focus on local regions of the image without considering distant areas (just like how human vision works).\n",
        "- Aggregation of Local Representations:\n",
        "  Local features from early layers are combined to make predictions for the entire image.\n",
        "- Deeper Layers:\n",
        "  As the network progresses, deeper layers capture longer-range features, resembling higher-level vision in nature."
      ]
    },
    {
      "cell_type": "markdown",
      "metadata": {
        "id": "8MQg1MoGJNLo"
      },
      "source": [
        "# 7.2. Convolutions for Images"
      ]
    },
    {
      "cell_type": "code",
      "execution_count": null,
      "metadata": {
        "id": "MvYwZ-Q7JO91"
      },
      "outputs": [],
      "source": [
        "!pip install d2l==1.0.3"
      ]
    },
    {
      "cell_type": "code",
      "execution_count": null,
      "metadata": {
        "id": "07444b49"
      },
      "outputs": [],
      "source": [
        "import torch\n",
        "from torch import nn\n",
        "from d2l import torch as d2l"
      ]
    },
    {
      "cell_type": "code",
      "execution_count": null,
      "metadata": {
        "id": "0adSJ6XPJlbC"
      },
      "outputs": [],
      "source": [
        "# The Cross-Correlation Operation\n",
        "def corr2d(X, K):\n",
        "    h, w = K.shape\n",
        "    Y = torch.zeros((X.shape[0] - h + 1, X.shape[1] - w + 1))\n",
        "    for i in range(Y.shape[0]):\n",
        "        for j in range(Y.shape[1]):\n",
        "            Y[i, j] = (X[i:i + h, j:j + w] * K).sum()\n",
        "    return Y"
      ]
    },
    {
      "cell_type": "code",
      "execution_count": null,
      "metadata": {
        "colab": {
          "base_uri": "https://localhost:8080/"
        },
        "id": "-vZuMbjFMb8Z",
        "outputId": "b6540697-f6ae-4623-e377-6558d22df5e0"
      },
      "outputs": [
        {
          "data": {
            "text/plain": [
              "tensor([[19., 25.],\n",
              "        [37., 43.]])"
            ]
          },
          "execution_count": 4,
          "metadata": {},
          "output_type": "execute_result"
        }
      ],
      "source": [
        "X = torch.tensor([[0.0, 1.0, 2.0], [3.0, 4.0, 5.0], [6.0, 7.0, 8.0]])\n",
        "K = torch.tensor([[0.0, 1.0], [2.0, 3.0]])\n",
        "corr2d(X, K)"
      ]
    },
    {
      "cell_type": "code",
      "execution_count": null,
      "metadata": {
        "id": "T4XnRGlJMimW"
      },
      "outputs": [],
      "source": [
        "# Convolutional Layers\n",
        "class Conv2D(nn.Module):\n",
        "    def __init__(self, kernel_size):\n",
        "        super().__init__()\n",
        "        self.weight = nn.Parameter(torch.rand(kernel_size))\n",
        "        self.bias = nn.Parameter(torch.zeros(1))\n",
        "\n",
        "    def forward(self, x):\n",
        "        return corr2d(x, self.weight) + self.bias"
      ]
    },
    {
      "cell_type": "code",
      "execution_count": null,
      "metadata": {
        "colab": {
          "base_uri": "https://localhost:8080/"
        },
        "id": "YlSB944IMpe9",
        "outputId": "37b6f21c-49bd-4320-c6b8-ab1dac1a032c"
      },
      "outputs": [
        {
          "data": {
            "text/plain": [
              "tensor([[1., 1., 0., 0., 0., 0., 1., 1.],\n",
              "        [1., 1., 0., 0., 0., 0., 1., 1.],\n",
              "        [1., 1., 0., 0., 0., 0., 1., 1.],\n",
              "        [1., 1., 0., 0., 0., 0., 1., 1.],\n",
              "        [1., 1., 0., 0., 0., 0., 1., 1.],\n",
              "        [1., 1., 0., 0., 0., 0., 1., 1.]])"
            ]
          },
          "execution_count": 26,
          "metadata": {},
          "output_type": "execute_result"
        }
      ],
      "source": [
        "# Object Edge Detection in Images\n",
        "X = torch.ones((6, 8))\n",
        "X[:, 2:6] = 0\n",
        "X"
      ]
    },
    {
      "cell_type": "code",
      "execution_count": null,
      "metadata": {
        "colab": {
          "base_uri": "https://localhost:8080/"
        },
        "id": "VcYowr-KMrD5",
        "outputId": "2000c75f-4a9a-41fd-efc4-a298c4cbd591"
      },
      "outputs": [
        {
          "data": {
            "text/plain": [
              "tensor([[ 1., -1.]])"
            ]
          },
          "execution_count": 8,
          "metadata": {},
          "output_type": "execute_result"
        }
      ],
      "source": [
        "K = torch.tensor([[1.0, -1.0]])\n",
        "K"
      ]
    },
    {
      "cell_type": "code",
      "execution_count": null,
      "metadata": {
        "colab": {
          "base_uri": "https://localhost:8080/"
        },
        "id": "coiIYE-dMzD1",
        "outputId": "e257f6ff-dec5-4dbd-bca4-ec76fcee5bc3"
      },
      "outputs": [
        {
          "data": {
            "text/plain": [
              "tensor([[ 0.,  1.,  0.,  0.,  0., -1.,  0.],\n",
              "        [ 0.,  1.,  0.,  0.,  0., -1.,  0.],\n",
              "        [ 0.,  1.,  0.,  0.,  0., -1.,  0.],\n",
              "        [ 0.,  1.,  0.,  0.,  0., -1.,  0.],\n",
              "        [ 0.,  1.,  0.,  0.,  0., -1.,  0.],\n",
              "        [ 0.,  1.,  0.,  0.,  0., -1.,  0.]])"
            ]
          },
          "execution_count": 9,
          "metadata": {},
          "output_type": "execute_result"
        }
      ],
      "source": [
        "Y = corr2d(X, K)\n",
        "Y"
      ]
    },
    {
      "cell_type": "code",
      "execution_count": null,
      "metadata": {
        "colab": {
          "base_uri": "https://localhost:8080/"
        },
        "id": "qnjmDfl4M3g5",
        "outputId": "e295a10f-765f-4d48-a46a-ec1a8d173749"
      },
      "outputs": [
        {
          "data": {
            "text/plain": [
              "tensor([[0., 0., 0., 0., 0.],\n",
              "        [0., 0., 0., 0., 0.],\n",
              "        [0., 0., 0., 0., 0.],\n",
              "        [0., 0., 0., 0., 0.],\n",
              "        [0., 0., 0., 0., 0.],\n",
              "        [0., 0., 0., 0., 0.],\n",
              "        [0., 0., 0., 0., 0.],\n",
              "        [0., 0., 0., 0., 0.]])"
            ]
          },
          "execution_count": 10,
          "metadata": {},
          "output_type": "execute_result"
        }
      ],
      "source": [
        "corr2d(X.t(), K)"
      ]
    },
    {
      "cell_type": "code",
      "execution_count": null,
      "metadata": {
        "colab": {
          "base_uri": "https://localhost:8080/"
        },
        "id": "VeirLCpiM6ut",
        "outputId": "5e05cbdc-8aee-405a-baed-496089d25484"
      },
      "outputs": [
        {
          "name": "stdout",
          "output_type": "stream",
          "text": [
            "epoch 2, loss 11.771\n",
            "epoch 4, loss 3.374\n",
            "epoch 6, loss 1.139\n",
            "epoch 8, loss 0.426\n",
            "epoch 10, loss 0.168\n"
          ]
        }
      ],
      "source": [
        "# Learning a Kernel\n",
        "conv2d = nn.LazyConv2d(1, kernel_size=(1, 2), bias=False)\n",
        "X = X.reshape((1, 1, 6, 8))\n",
        "Y = Y.reshape((1, 1, 6, 7))\n",
        "learning_rate = 3e-2\n",
        "for i in range(10):\n",
        "    Y_hat = conv2d(X)\n",
        "    l = (Y_hat - Y) ** 2\n",
        "    conv2d.zero_grad()\n",
        "    l.sum().backward()\n",
        "    conv2d.weight.data[:] -= learning_rate * conv2d.weight.grad\n",
        "    if (i + 1) % 2 == 0:\n",
        "        print(f'epoch {i + 1}, loss {l.sum():.3f}')"
      ]
    },
    {
      "cell_type": "code",
      "execution_count": null,
      "metadata": {
        "colab": {
          "base_uri": "https://localhost:8080/"
        },
        "id": "MkM-8dbzNLEX",
        "outputId": "e0cd4771-6ef8-41e5-bf72-93aae36d2e41"
      },
      "outputs": [
        {
          "data": {
            "text/plain": [
              "tensor([[ 0.9456, -1.0290]])"
            ]
          },
          "execution_count": 12,
          "metadata": {},
          "output_type": "execute_result"
        }
      ],
      "source": [
        "conv2d.weight.data.reshape((1, 2))"
      ]
    },
    {
      "cell_type": "markdown",
      "metadata": {
        "id": "nexxkVEkNev4"
      },
      "source": [
        "## Exercises\n",
        "\n",
        "1. Construct an image `X` with diagonal edges.\n",
        "    1. What happens if you apply the kernel `K` in this section to it?\n",
        "    1. What happens if you transpose `X`?\n",
        "    1. What happens if you transpose `K`?\n",
        "1. Design some kernels manually.\n",
        "    1. Given a directional vector v = (v_1, v_2), derive an edge-detection kernel that detects edges orthogonal to v, i.e., edges in the direction (v_2, -v_1).\n",
        "    \n",
        "    1. Derive a finite difference operator for the second derivative. What is the minimum size of the convolutional kernel associated with it? Which structures in images respond most strongly to it?\n",
        "    1. How would you design a blur kernel? Why might you want to use such a kernel?\n",
        "    1. What is the minimum size of a kernel to obtain a derivative of order $d$?\n",
        "1. When you try to automatically find the gradient for the `Conv2D` class we created, what kind of error message do you see?\n",
        "1. How do you represent a cross-correlation operation as a matrix multiplication by changing the input and kernel tensors?"
      ]
    },
    {
      "cell_type": "code",
      "execution_count": null,
      "metadata": {
        "colab": {
          "base_uri": "https://localhost:8080/"
        },
        "id": "0WvV5fAvN1lA",
        "outputId": "e270f87c-2633-4e5a-9ea6-12487bab5e6d"
      },
      "outputs": [
        {
          "name": "stdout",
          "output_type": "stream",
          "text": [
            "tensor([[ 1.,  0.,  0.,  0.],\n",
            "        [-1.,  1.,  0.,  0.],\n",
            "        [ 0., -1.,  1.,  0.],\n",
            "        [ 0.,  0., -1.,  1.],\n",
            "        [ 0.,  0.,  0., -1.]])\n",
            "tensor([[ 1.,  0.,  0.,  0.],\n",
            "        [-1.,  1.,  0.,  0.],\n",
            "        [ 0., -1.,  1.,  0.],\n",
            "        [ 0.,  0., -1.,  1.],\n",
            "        [ 0.,  0.,  0., -1.]])\n",
            "tensor([[ 1., -1.,  0.,  0.,  0.],\n",
            "        [ 0.,  1., -1.,  0.,  0.],\n",
            "        [ 0.,  0.,  1., -1.,  0.],\n",
            "        [ 0.,  0.,  0.,  1., -1.]])\n"
          ]
        }
      ],
      "source": [
        "#1)\n",
        "X = torch.tensor([[1, 0, 0, 0, 0],\n",
        "                  [0, 1, 0, 0, 0],\n",
        "                  [0, 0, 1, 0, 0],\n",
        "                  [0, 0, 0, 1, 0],\n",
        "                  [0, 0, 0, 0, 1]])\n",
        "\n",
        "K = torch.tensor([[1.0, -1.0]])\n",
        "print(corr2d(X, K))\n",
        "\n",
        "''' it detects the diagonal edges '''\n",
        "\n",
        "# Transpose X\n",
        "X_transposed = X.T\n",
        "print(corr2d(X_transposed, K))\n",
        "\n",
        "''' no changes, it still detects the diagonal edges '''\n",
        "\n",
        "# Transpose K\n",
        "K_transposed = K.T\n",
        "print(corr2d(X, K_transposed))\n",
        "\n",
        "''' the output get transposed, changes from detecting horizontal edges to detecting vertical edges. '''\n"
      ]
    },
    {
      "cell_type": "code",
      "execution_count": null,
      "metadata": {
        "colab": {
          "base_uri": "https://localhost:8080/"
        },
        "id": "fAez4IgQfz7Y",
        "outputId": "044aa634-8ba4-4950-b0ea-5a5228b632c7"
      },
      "outputs": [
        {
          "name": "stdout",
          "output_type": "stream",
          "text": [
            "epoch 2, loss 61564.938\n",
            "epoch 4, loss 3609764352.000\n",
            "epoch 6, loss 211699172900864.000\n",
            "epoch 8, loss 12415369741009420288.000\n",
            "epoch 10, loss 728115254385873722015744.000\n",
            "epoch 12, loss 42701248065077990571257102336.000\n",
            "epoch 14, loss 2504269757491692175642510063828992.000\n",
            "epoch 16, loss 146866084037389153685016211555365158912.000\n",
            "tensor([[-0.,  1.],\n",
            "        [-1., -0.]])\n",
            "tensor([[1., 1., 0., 0., 0., 0., 1., 1.],\n",
            "        [1., 1., 0., 0., 0., 0., 1., 1.],\n",
            "        [1., 1., 0., 0., 0., 0., 1., 1.],\n",
            "        [1., 1., 0., 0., 0., 0., 1., 1.],\n",
            "        [1., 1., 0., 0., 0., 0., 1., 1.],\n",
            "        [1., 1., 0., 0., 0., 0., 1., 1.]])\n",
            "tensor([[ 0., -1.,  0.,  0.,  0.,  1.,  0.],\n",
            "        [ 0., -1.,  0.,  0.,  0.,  1.,  0.],\n",
            "        [ 0., -1.,  0.,  0.,  0.,  1.,  0.],\n",
            "        [ 0., -1.,  0.,  0.,  0.,  1.,  0.],\n",
            "        [ 0., -1.,  0.,  0.,  0.,  1.,  0.]])\n"
          ]
        }
      ],
      "source": [
        "#2)\n",
        "#2.1)\n",
        "p = torch.roll(X, shifts=(1,),dims=(1,))+torch.roll(X, shifts=(2,),dims=(1,))+X\n",
        "Y = X+torch.roll(X, shifts=(2,),dims=(1,))\n",
        "conv2d = nn.LazyConv2d(1, kernel_size=(3, 3), bias=False,padding=1) #bias ignored\n",
        "\n",
        "train_X = p.reshape((1, 1, p.shape[0], p.shape[1]))\n",
        "train_Y = Y.reshape((1, 1, Y.shape[0], Y.shape[1]))\n",
        "lr = 1e-2\n",
        "\n",
        "# training\n",
        "for i in range(16):\n",
        "    Y_hat = conv2d(train_X)\n",
        "    l = (Y_hat - train_Y) ** 2\n",
        "    conv2d.zero_grad()\n",
        "    l.sum().backward()\n",
        "    conv2d.weight.data[:] -= lr * conv2d.weight.grad\n",
        "    if (i + 1) % 2 == 0:\n",
        "        print(f'epoch {i + 1}, loss {l.sum():.3f}')\n",
        "conv2d.weight.data.squeeze()\n",
        "\n",
        "corr2d(p,conv2d.weight.data.squeeze())\n",
        "\n",
        "# helper\n",
        "import torch.nn.functional as F\n",
        "import torchvision.transforms.functional as tF\n",
        "import math\n",
        "\n",
        "def stat_theta(r):\n",
        "    v = [1,0]\n",
        "    theta = math.acos(F.cosine_similarity(torch.tensor(r).type(torch.float32),torch.tensor(v).type(torch.float32),dim=0))/math.pi*180\n",
        "    return theta\n",
        "\n",
        "def gen_K(v):\n",
        "    v = torch.tensor(v, dtype=torch.float32)\n",
        "    u = v / torch.norm(v)\n",
        "    K = torch.tensor([[-u[1], u[0]],[-u[0], -u[1]]], dtype=torch.float32)\n",
        "    return K\n",
        "\n",
        "def test(r,a):\n",
        "    theta = stat_theta(r)\n",
        "    K = gen_K(r)\n",
        "    print(K)\n",
        "    b = tF.rotate(a.reshape(1,1,a.shape[0],-1,),angle=theta).reshape(a.shape[0],-1)\n",
        "    print(b)\n",
        "    print(corr2d(b,K))\n",
        "\n",
        "# test\n",
        "a = torch.ones((6, 8))\n",
        "a[:, 2:6] = 0\n",
        "test([1,0],a)\n"
      ]
    },
    {
      "cell_type": "markdown",
      "metadata": {
        "id": "t_-XqsBGg1ox"
      },
      "source": [
        "2.2)\n",
        "Central Difference Formula:\n",
        "![Screenshot 2024-10-10 at 17.20.28.png](data:image/png;base64,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)\n",
        "\n",
        "\n",
        "Discrete form of that can be expressed by K = [1 −2 1]\n",
        "\n"
      ]
    },
    {
      "cell_type": "code",
      "execution_count": null,
      "metadata": {
        "colab": {
          "base_uri": "https://localhost:8080/"
        },
        "id": "-53sNikkhVF-",
        "outputId": "933b253d-cc45-42f5-c11a-d4f558a892c6"
      },
      "outputs": [
        {
          "name": "stdout",
          "output_type": "stream",
          "text": [
            "tensor([[1., 1., 0., 0., 0., 0., 1., 1.],\n",
            "        [1., 1., 0., 0., 0., 0., 1., 1.],\n",
            "        [1., 1., 0., 0., 0., 0., 1., 1.],\n",
            "        [1., 1., 0., 0., 0., 0., 1., 1.],\n",
            "        [1., 1., 0., 0., 0., 0., 1., 1.],\n",
            "        [1., 1., 0., 0., 0., 0., 1., 1.]])\n"
          ]
        },
        {
          "data": {
            "text/plain": [
              "tensor([[-1.,  1.,  0.,  0.,  1., -1.],\n",
              "        [-1.,  1.,  0.,  0.,  1., -1.],\n",
              "        [-1.,  1.,  0.,  0.,  1., -1.],\n",
              "        [-1.,  1.,  0.,  0.,  1., -1.],\n",
              "        [-1.,  1.,  0.,  0.,  1., -1.],\n",
              "        [-1.,  1.,  0.,  0.,  1., -1.]])"
            ]
          },
          "execution_count": 28,
          "metadata": {},
          "output_type": "execute_result"
        }
      ],
      "source": [
        "K = torch.tensor([[1,-2,1]])\n",
        "print(a)\n",
        "corr2d(a,K)"
      ]
    },
    {
      "cell_type": "code",
      "execution_count": null,
      "metadata": {
        "colab": {
          "base_uri": "https://localhost:8080/"
        },
        "id": "sMUpQXPVhc7N",
        "outputId": "acffaa4c-486e-4916-846e-98becb58afc3"
      },
      "outputs": [
        {
          "name": "stdout",
          "output_type": "stream",
          "text": [
            "Blur kernel sum:1.0\n",
            "tensor([[0.0751, 0.1238, 0.0751],\n",
            "        [0.1238, 0.2042, 0.1238],\n",
            "        [0.0751, 0.1238, 0.0751]], dtype=torch.float64)\n",
            "tensor([[1., 1., 0., 0., 0., 0., 1., 1.],\n",
            "        [1., 1., 0., 0., 0., 0., 1., 1.],\n",
            "        [1., 1., 0., 0., 0., 0., 1., 1.],\n",
            "        [1., 1., 0., 0., 0., 0., 1., 1.],\n",
            "        [1., 1., 0., 0., 0., 0., 1., 1.],\n",
            "        [1., 1., 0., 0., 0., 0., 1., 1.]])\n"
          ]
        },
        {
          "data": {
            "text/plain": [
              "tensor([[0.7259, 0.2741, 0.0000, 0.0000, 0.2741, 0.7259],\n",
              "        [0.7259, 0.2741, 0.0000, 0.0000, 0.2741, 0.7259],\n",
              "        [0.7259, 0.2741, 0.0000, 0.0000, 0.2741, 0.7259],\n",
              "        [0.7259, 0.2741, 0.0000, 0.0000, 0.2741, 0.7259]])"
            ]
          },
          "execution_count": 29,
          "metadata": {},
          "output_type": "execute_result"
        }
      ],
      "source": [
        "#2.3) Gaussian Blur Kernel\n",
        "import numpy as np\n",
        "def gaussian_kernel(size, sigma):\n",
        "    kernel = np.fromfunction(\n",
        "        lambda x, y: (1/(2*np.pi*sigma**2)) * np.exp(-((x-size//2)**2 + (y-size//2)**2) / (2*sigma**2)),\n",
        "        (size, size)\n",
        "    )\n",
        "    kernel /= np.sum(kernel)\n",
        "    return kernel\n",
        "\n",
        "kernel_size = 3\n",
        "sigma = 1.0\n",
        "blur_kernel = torch.tensor(gaussian_kernel(kernel_size, sigma))\n",
        "\n",
        "print(f\"Blur kernel sum:{blur_kernel.sum()}\")\n",
        "print(blur_kernel)\n",
        "print(a)\n",
        "corr2d(a,blur_kernel)"
      ]
    },
    {
      "cell_type": "markdown",
      "metadata": {
        "id": "JBNvS4YEhskh"
      },
      "source": [
        "A blur kernel is used to reduce noise, smooth textures, and create a cleaner image by softening fine details, while sometimes preserving edges. It's useful for preprocessing in tasks like object detection, privacy protection, or creating artistic effects."
      ]
    },
    {
      "cell_type": "markdown",
      "metadata": {
        "id": "3AxH-kCLh3GI"
      },
      "source": [
        "2.4 2d+1"
      ]
    },
    {
      "cell_type": "code",
      "execution_count": null,
      "metadata": {
        "colab": {
          "base_uri": "https://localhost:8080/",
          "height": 365
        },
        "id": "rqMsfbxph-M7",
        "outputId": "670f42a0-92b3-4f71-cffd-12ff6019e91a"
      },
      "outputs": [
        {
          "ename": "RuntimeError",
          "evalue": "grad can be implicitly created only for scalar outputs",
          "output_type": "error",
          "traceback": [
            "\u001b[0;31m---------------------------------------------------------------------------\u001b[0m",
            "\u001b[0;31mRuntimeError\u001b[0m                              Traceback (most recent call last)",
            "\u001b[0;32m<ipython-input-32-102ed9327046>\u001b[0m in \u001b[0;36m<cell line: 6>\u001b[0;34m()\u001b[0m\n\u001b[1;32m      4\u001b[0m \u001b[0mx\u001b[0m\u001b[0;34m.\u001b[0m\u001b[0mrequires_grad\u001b[0m \u001b[0;34m=\u001b[0m \u001b[0;32mTrue\u001b[0m\u001b[0;34m\u001b[0m\u001b[0;34m\u001b[0m\u001b[0m\n\u001b[1;32m      5\u001b[0m \u001b[0mo\u001b[0m \u001b[0;34m=\u001b[0m \u001b[0mcustom_conv2d\u001b[0m\u001b[0;34m(\u001b[0m\u001b[0mx\u001b[0m\u001b[0;34m)\u001b[0m\u001b[0;34m\u001b[0m\u001b[0;34m\u001b[0m\u001b[0m\n\u001b[0;32m----> 6\u001b[0;31m \u001b[0mo\u001b[0m\u001b[0;34m.\u001b[0m\u001b[0mbackward\u001b[0m\u001b[0;34m(\u001b[0m\u001b[0;34m)\u001b[0m\u001b[0;34m\u001b[0m\u001b[0;34m\u001b[0m\u001b[0m\n\u001b[0m\u001b[1;32m      7\u001b[0m \u001b[0;34m\u001b[0m\u001b[0m\n\u001b[1;32m      8\u001b[0m \u001b[0mprint\u001b[0m\u001b[0;34m(\u001b[0m\u001b[0;34m\"Gradient of weight:\"\u001b[0m\u001b[0;34m,\u001b[0m \u001b[0mcustom_conv2d\u001b[0m\u001b[0;34m.\u001b[0m\u001b[0mweight\u001b[0m\u001b[0;34m.\u001b[0m\u001b[0mgrad\u001b[0m\u001b[0;34m)\u001b[0m\u001b[0;34m\u001b[0m\u001b[0;34m\u001b[0m\u001b[0m\n",
            "\u001b[0;32m/usr/local/lib/python3.10/dist-packages/torch/_tensor.py\u001b[0m in \u001b[0;36mbackward\u001b[0;34m(self, gradient, retain_graph, create_graph, inputs)\u001b[0m\n\u001b[1;32m    519\u001b[0m                 \u001b[0minputs\u001b[0m\u001b[0;34m=\u001b[0m\u001b[0minputs\u001b[0m\u001b[0;34m,\u001b[0m\u001b[0;34m\u001b[0m\u001b[0;34m\u001b[0m\u001b[0m\n\u001b[1;32m    520\u001b[0m             )\n\u001b[0;32m--> 521\u001b[0;31m         torch.autograd.backward(\n\u001b[0m\u001b[1;32m    522\u001b[0m             \u001b[0mself\u001b[0m\u001b[0;34m,\u001b[0m \u001b[0mgradient\u001b[0m\u001b[0;34m,\u001b[0m \u001b[0mretain_graph\u001b[0m\u001b[0;34m,\u001b[0m \u001b[0mcreate_graph\u001b[0m\u001b[0;34m,\u001b[0m \u001b[0minputs\u001b[0m\u001b[0;34m=\u001b[0m\u001b[0minputs\u001b[0m\u001b[0;34m\u001b[0m\u001b[0;34m\u001b[0m\u001b[0m\n\u001b[1;32m    523\u001b[0m         )\n",
            "\u001b[0;32m/usr/local/lib/python3.10/dist-packages/torch/autograd/__init__.py\u001b[0m in \u001b[0;36mbackward\u001b[0;34m(tensors, grad_tensors, retain_graph, create_graph, grad_variables, inputs)\u001b[0m\n\u001b[1;32m    280\u001b[0m \u001b[0;34m\u001b[0m\u001b[0m\n\u001b[1;32m    281\u001b[0m     \u001b[0mgrad_tensors_\u001b[0m \u001b[0;34m=\u001b[0m \u001b[0m_tensor_or_tensors_to_tuple\u001b[0m\u001b[0;34m(\u001b[0m\u001b[0mgrad_tensors\u001b[0m\u001b[0;34m,\u001b[0m \u001b[0mlen\u001b[0m\u001b[0;34m(\u001b[0m\u001b[0mtensors\u001b[0m\u001b[0;34m)\u001b[0m\u001b[0;34m)\u001b[0m\u001b[0;34m\u001b[0m\u001b[0;34m\u001b[0m\u001b[0m\n\u001b[0;32m--> 282\u001b[0;31m     \u001b[0mgrad_tensors_\u001b[0m \u001b[0;34m=\u001b[0m \u001b[0m_make_grads\u001b[0m\u001b[0;34m(\u001b[0m\u001b[0mtensors\u001b[0m\u001b[0;34m,\u001b[0m \u001b[0mgrad_tensors_\u001b[0m\u001b[0;34m,\u001b[0m \u001b[0mis_grads_batched\u001b[0m\u001b[0;34m=\u001b[0m\u001b[0;32mFalse\u001b[0m\u001b[0;34m)\u001b[0m\u001b[0;34m\u001b[0m\u001b[0;34m\u001b[0m\u001b[0m\n\u001b[0m\u001b[1;32m    283\u001b[0m     \u001b[0;32mif\u001b[0m \u001b[0mretain_graph\u001b[0m \u001b[0;32mis\u001b[0m \u001b[0;32mNone\u001b[0m\u001b[0;34m:\u001b[0m\u001b[0;34m\u001b[0m\u001b[0;34m\u001b[0m\u001b[0m\n\u001b[1;32m    284\u001b[0m         \u001b[0mretain_graph\u001b[0m \u001b[0;34m=\u001b[0m \u001b[0mcreate_graph\u001b[0m\u001b[0;34m\u001b[0m\u001b[0;34m\u001b[0m\u001b[0m\n",
            "\u001b[0;32m/usr/local/lib/python3.10/dist-packages/torch/autograd/__init__.py\u001b[0m in \u001b[0;36m_make_grads\u001b[0;34m(outputs, grads, is_grads_batched)\u001b[0m\n\u001b[1;32m    149\u001b[0m             \u001b[0;32mif\u001b[0m \u001b[0mout\u001b[0m\u001b[0;34m.\u001b[0m\u001b[0mrequires_grad\u001b[0m\u001b[0;34m:\u001b[0m\u001b[0;34m\u001b[0m\u001b[0;34m\u001b[0m\u001b[0m\n\u001b[1;32m    150\u001b[0m                 \u001b[0;32mif\u001b[0m \u001b[0mout\u001b[0m\u001b[0;34m.\u001b[0m\u001b[0mnumel\u001b[0m\u001b[0;34m(\u001b[0m\u001b[0;34m)\u001b[0m \u001b[0;34m!=\u001b[0m \u001b[0;36m1\u001b[0m\u001b[0;34m:\u001b[0m\u001b[0;34m\u001b[0m\u001b[0;34m\u001b[0m\u001b[0m\n\u001b[0;32m--> 151\u001b[0;31m                     raise RuntimeError(\n\u001b[0m\u001b[1;32m    152\u001b[0m                         \u001b[0;34m\"grad can be implicitly created only for scalar outputs\"\u001b[0m\u001b[0;34m\u001b[0m\u001b[0;34m\u001b[0m\u001b[0m\n\u001b[1;32m    153\u001b[0m                     )\n",
            "\u001b[0;31mRuntimeError\u001b[0m: grad can be implicitly created only for scalar outputs"
          ]
        }
      ],
      "source": [
        "#3)\n",
        "x = p\n",
        "custom_conv2d = Conv2D(kernel_size=(3, 3))\n",
        "x.requires_grad = True\n",
        "o = custom_conv2d(x)\n",
        "o.backward()\n",
        "\n",
        "print(\"Gradient of weight:\", custom_conv2d.weight.grad)\n",
        "print(\"Gradient of bias:\", custom_conv2d.bias.grad)"
      ]
    },
    {
      "cell_type": "code",
      "execution_count": null,
      "metadata": {
        "colab": {
          "base_uri": "https://localhost:8080/"
        },
        "id": "SsTMTSFYiIK2",
        "outputId": "e84a0dfa-a90f-4f22-f1d0-8ecfd265cbab"
      },
      "outputs": [
        {
          "name": "stdout",
          "output_type": "stream",
          "text": [
            "tensor([[1., 1., 0., 1., 1., 0., 0., 0., 0.],\n",
            "        [0., 1., 1., 0., 1., 1., 0., 0., 0.],\n",
            "        [0., 0., 0., 1., 1., 0., 1., 1., 0.],\n",
            "        [0., 0., 0., 0., 1., 1., 0., 1., 1.]])\n"
          ]
        },
        {
          "data": {
            "text/plain": [
              "tensor(True)"
            ]
          },
          "execution_count": 34,
          "metadata": {},
          "output_type": "execute_result"
        }
      ],
      "source": [
        "#4)\n",
        "\n",
        "'''\n",
        "- Flatten and reshape the input tensor X into matrix A where each column represents a patch of the image that corresponds to the kernel size.\n",
        "- Flatten the kernel K into a vector.\n",
        "'''\n",
        "def corr2d_matmul(pic, K):\n",
        "    pad_K = F.pad(K,(0,pic.shape[1]-K.shape[1],0,pic.shape[0]-K.shape[0])).type(torch.float32)\n",
        "    l = []\n",
        "    for i in range(pic.shape[0]-K.shape[0]+1):\n",
        "        for j in range(pic.shape[1]-K.shape[1]+1):\n",
        "            l.append(torch.roll(pad_K,(i,j),(0,1)).reshape(1,-1))\n",
        "    print(torch.cat(l,dim=0))\n",
        "    return (torch.cat(l,dim=0)@pic.reshape(-1,1)).reshape(pic.shape[0]-K.shape[0]+1,pic.shape[1]-K.shape[1]+1)\n",
        "\n",
        "K = torch.tensor([[1,1],[1,1]])\n",
        "x = torch.ones(3,3)\n",
        "(corr2d_matmul(x,K) == corr2d(x,K)).all()"
      ]
    },
    {
      "cell_type": "markdown",
      "metadata": {
        "id": "Y9F5KO-Ni0R4"
      },
      "source": [
        "## Discussion Points\n",
        "- Convolutional layers use cross-correlation operations for computation.\n",
        "- Multiple input/output channels involve matrix-matrix operations.\n",
        "- The process is straightforward and local, allowing hardware optimization.\n",
        "- Optimizing for convolutions focuses on fast computation, not memory, making computer vision more accessible.\n",
        "- Convolutions can detect edges, blur, or sharpen images, among other tasks.\n",
        "- Filters don't need to be hand-crafted; they can be learned from data, replacing manual feature engineering.\n",
        "- These filters resemble brain functions, reinforcing their effectiveness in deep networks."
      ]
    },
    {
      "cell_type": "markdown",
      "metadata": {
        "id": "O-phcU-Hx9AU"
      },
      "source": [
        "# 7.3. Padding and Stride"
      ]
    },
    {
      "cell_type": "code",
      "execution_count": null,
      "metadata": {
        "id": "5Mgg0JgcyCVK"
      },
      "outputs": [],
      "source": [
        "import torch\n",
        "from torch import nn"
      ]
    },
    {
      "cell_type": "code",
      "execution_count": null,
      "metadata": {
        "colab": {
          "base_uri": "https://localhost:8080/"
        },
        "id": "C4m6d_4iyD9b",
        "outputId": "051a2f1e-1bde-41cf-d705-73ddaa5386c5"
      },
      "outputs": [
        {
          "data": {
            "text/plain": [
              "torch.Size([8, 8])"
            ]
          },
          "execution_count": 36,
          "metadata": {},
          "output_type": "execute_result"
        }
      ],
      "source": [
        "# Padding\n",
        "def comp_conv2d(conv2d, X):\n",
        "    X = X.reshape((1, 1) + X.shape)\n",
        "    Y = conv2d(X)\n",
        "    return Y.reshape(Y.shape[2:])\n",
        "\n",
        "conv2d = nn.LazyConv2d(1, kernel_size=3, padding=1)\n",
        "X = torch.rand(size=(8, 8))\n",
        "comp_conv2d(conv2d, X).shape"
      ]
    },
    {
      "cell_type": "code",
      "execution_count": null,
      "metadata": {
        "colab": {
          "base_uri": "https://localhost:8080/"
        },
        "id": "B8evv58byIRw",
        "outputId": "6182f0e6-1fd4-4336-dac7-448ed56b3c07"
      },
      "outputs": [
        {
          "data": {
            "text/plain": [
              "torch.Size([8, 8])"
            ]
          },
          "execution_count": 37,
          "metadata": {},
          "output_type": "execute_result"
        }
      ],
      "source": [
        "# top-bottom padding = 2, left-right padding = 1\n",
        "conv2d = nn.LazyConv2d(1, kernel_size=(5, 3), padding=(2, 1))\n",
        "comp_conv2d(conv2d, X).shape"
      ]
    },
    {
      "cell_type": "code",
      "execution_count": null,
      "metadata": {
        "colab": {
          "base_uri": "https://localhost:8080/"
        },
        "id": "9k_Fx8LpynC6",
        "outputId": "5f759d06-328a-4ec6-f01e-a9359613e19e"
      },
      "outputs": [
        {
          "data": {
            "text/plain": [
              "torch.Size([8, 8])"
            ]
          },
          "execution_count": 38,
          "metadata": {},
          "output_type": "execute_result"
        }
      ],
      "source": [
        "# Stride\n",
        "# Height-width stride = 2\n",
        "conv2d = nn.LazyConv2d(1, kernel_size=(5, 3), padding=(2, 1))\n",
        "comp_conv2d(conv2d, X).shape"
      ]
    },
    {
      "cell_type": "code",
      "execution_count": null,
      "metadata": {
        "colab": {
          "base_uri": "https://localhost:8080/"
        },
        "id": "MLVjQB3TysNv",
        "outputId": "b90848ce-367e-4b5d-bc33-96046a658fbe"
      },
      "outputs": [
        {
          "data": {
            "text/plain": [
              "torch.Size([2, 2])"
            ]
          },
          "execution_count": 39,
          "metadata": {},
          "output_type": "execute_result"
        }
      ],
      "source": [
        "conv2d = nn.LazyConv2d(1, kernel_size=(3, 5), padding=(0, 1), stride=(3, 4))\n",
        "comp_conv2d(conv2d, X).shape"
      ]
    },
    {
      "cell_type": "markdown",
      "metadata": {
        "id": "Vea1qv5xzMPa"
      },
      "source": [
        "## Exercises\n",
        "\n",
        "1. Given the final code example in this section with kernel size $(3, 5)$, padding $(0, 1)$, and stride $(3, 4)$,\n",
        "   calculate the output shape to check if it is consistent with the experimental result.\n",
        "\n",
        "   $h_o = ⌊((8 - 3 + 2*0)/3)⌋ + 1 = 2$\n",
        "   \n",
        "   $w_o = ⌊((8 - 5 + 2*1)/3)⌋ + 1 = 2$\n",
        "\n",
        "1. For audio signals, what does a stride of 2 correspond to?\n",
        "\n",
        "    A stride of 2 in audio signals corresponds to downsampling by a factor of 2, effectively halving the temporal resolution of the signal. This reduces the amount of data but retains key features of the signal.\n",
        "\n",
        "1. Implement mirror padding, i.e., padding where the border values are simply mirrored to extend tensors.\n",
        "\n",
        "    (code)\n",
        "\n",
        "1. What are the computational benefits of a stride larger than 1?\n",
        "\n",
        "    Larger strides reduce the computational complexity by decreasing the number of operations. Since fewer convolutions are performed across the input tensor, the processing time is reduced.\n",
        "\n",
        "1. What might be statistical benefits of a stride larger than 1?\n",
        "\n",
        "    Larger strides help reduce overfitting by aggregating broader regions of the input, focusing on more general features rather than fine details. This leads to better generalization in the model.\n",
        "\n",
        "1. How would you implement a stride of $\\frac{1}{2}$? What does it correspond to? When would this be useful?\n",
        "\n",
        "    A stride of $\\frac{1}{2}$ would involve interpolating between the original data points, effectively upsampling the input. This could be useful when increased spatial or temporal resolution is required without losing continuity in the data."
      ]
    },
    {
      "cell_type": "code",
      "execution_count": null,
      "metadata": {
        "colab": {
          "base_uri": "https://localhost:8080/"
        },
        "id": "NmbPURDp1WpT",
        "outputId": "ad547f50-55d4-4a79-e1dd-23fcb3d8a53f"
      },
      "outputs": [
        {
          "name": "stdout",
          "output_type": "stream",
          "text": [
            "tensor([[5., 4., 5., 6., 5.],\n",
            "        [2., 1., 2., 3., 2.],\n",
            "        [5., 4., 5., 6., 5.],\n",
            "        [8., 7., 8., 9., 8.],\n",
            "        [5., 4., 5., 6., 5.]])\n"
          ]
        }
      ],
      "source": [
        "#3)\n",
        "import torch\n",
        "import torch.nn.functional as F\n",
        "\n",
        "# Example tensor\n",
        "X = torch.tensor([[1, 2, 3],\n",
        "                  [4, 5, 6],\n",
        "                  [7, 8, 9]], dtype=torch.float32)\n",
        "\n",
        "padded_X = F.pad(X.unsqueeze(0).unsqueeze(0), (1, 1, 1, 1), mode='reflect')\n",
        "padded_X = padded_X.squeeze(0).squeeze(0)\n",
        "\n",
        "print(padded_X)\n"
      ]
    },
    {
      "cell_type": "markdown",
      "metadata": {
        "id": "hL1Fx-5k1gg1"
      },
      "source": [
        "## Discussion Points\n",
        "- Padding\n",
        "  - Padding increases the height by $p_\\textrm{h}$ and the width by $p_\\textrm{w}$.\n",
        "  - For equal input and output dimensions, set $p_\\textrm{h} = k_\\textrm{h} - 1$ and $p_\\textrm{w} = k_\\textrm{w} - 1$.\n",
        "  - With odd kernel sizes, pad evenly on both sides of height and width.\n",
        "  - For even kernel sizes, pad unevenly, e.g., $\\lceil p_\\textrm{h}/2\\rceil$ on top and $\\lfloor p_\\textrm{h}/2\\rfloor$ on bottom.\n",
        "  - Odd kernel sizes like 1, 3, 5, and 7 are preferred to maintain symmetry and simplify output prediction.\n",
        "  - Centering the kernel on input elements helps compute the output.\n",
        "- Stride\n",
        "  - Stride refers to how many rows and columns the window moves at each step.\n",
        "  - Larger strides can be used for computational efficiency or downsampling.\n",
        "  - The output shape with strides $(s_\\text{h}) (height) and (s_\\text{w})(width)$ is given by:  \n",
        "      $[\n",
        "      \\left\\lfloor\\frac{n_\\text{h}-k_\\text{h}+p_\\text{h}+s_\\text{h}}{s_\\text{h}}\\right\\rfloor \\times \\left\\lfloor\\frac{n_\\text{w}-k_\\text{w}+p_\\text{w}+s_\\text{w}}{s_\\text{w}}\\right\\rfloor.\n",
        "      $]\n",
        "  - Setting $(p_\\text{h} = k_\\text{h} - 1)$ and $(p_\\text{w} = k_\\text{w} - 1$) simplifies the output shape to:  \n",
        "      $[\n",
        "      \\left\\lfloor\\frac{n_\\text{h}+s_\\text{h}-1}{s_\\text{h}}\\right\\rfloor \\times \\left\\lfloor\\frac{n_\\text{w}+s_\\text{w}-1}{s_\\text{w}}\\right\\rfloor.\n",
        "      $]\n",
        "  - If the input dimensions are divisible by the strides, the output shape will be:  \n",
        "      $[\n",
        "      \\left(\\frac{n_\\text{h}}{s_\\text{h}}\\right) \\times \\left(\\frac{n_\\text{w}}{s_\\text{w}}\\right).\n",
        "      $]"
      ]
    },
    {
      "cell_type": "markdown",
      "metadata": {
        "id": "5ez_jz4z3__S"
      },
      "source": [
        "#7.4 Multiple Input and Multiple Output Channels"
      ]
    },
    {
      "cell_type": "code",
      "execution_count": null,
      "metadata": {
        "id": "MHsEKvQR4MaR"
      },
      "outputs": [],
      "source": [
        "import torch\n",
        "from d2l import torch as d2l"
      ]
    },
    {
      "cell_type": "code",
      "execution_count": null,
      "metadata": {
        "id": "stOp8B-P4M1E"
      },
      "outputs": [],
      "source": [
        "def corr2d_multi_in(X, K):\n",
        "    return sum(d2l.corr2d(x, k) for x, k in zip(X, K))"
      ]
    },
    {
      "cell_type": "code",
      "execution_count": null,
      "metadata": {
        "colab": {
          "base_uri": "https://localhost:8080/"
        },
        "id": "mq2vVBbs6OyJ",
        "outputId": "2935d6e0-e230-4b44-b0cc-c34d6b621ce4"
      },
      "outputs": [
        {
          "data": {
            "text/plain": [
              "tensor([[ 56.,  72.],\n",
              "        [104., 120.]])"
            ]
          },
          "execution_count": 6,
          "metadata": {},
          "output_type": "execute_result"
        }
      ],
      "source": [
        "X = torch.tensor([[[0.0, 1.0, 2.0], [3.0, 4.0, 5.0], [6.0, 7.0, 8.0]],\n",
        "               [[1.0, 2.0, 3.0], [4.0, 5.0, 6.0], [7.0, 8.0, 9.0]]])\n",
        "K = torch.tensor([[[0.0, 1.0], [2.0, 3.0]], [[1.0, 2.0], [3.0, 4.0]]])\n",
        "\n",
        "corr2d_multi_in(X, K)"
      ]
    },
    {
      "cell_type": "code",
      "execution_count": null,
      "metadata": {
        "id": "HSoVWw3N6RK-"
      },
      "outputs": [],
      "source": [
        "def corr2d_multi_in_out(X, K):\n",
        "    return torch.stack([corr2d_multi_in(X, k) for k in K], 0)"
      ]
    },
    {
      "cell_type": "code",
      "execution_count": null,
      "metadata": {
        "colab": {
          "base_uri": "https://localhost:8080/"
        },
        "id": "_oa8ZYuH6ST9",
        "outputId": "ade304d9-3d25-4fca-e01c-30ccc8cf9faf"
      },
      "outputs": [
        {
          "data": {
            "text/plain": [
              "torch.Size([3, 2, 2, 2])"
            ]
          },
          "execution_count": 46,
          "metadata": {},
          "output_type": "execute_result"
        }
      ],
      "source": [
        "K = torch.stack((K, K + 1, K + 2), 0)\n",
        "K.shape"
      ]
    },
    {
      "cell_type": "code",
      "execution_count": null,
      "metadata": {
        "colab": {
          "base_uri": "https://localhost:8080/"
        },
        "id": "6e1OYRBT6XWP",
        "outputId": "821cb0ce-3f83-4ea6-bd28-dffaeea7aa93"
      },
      "outputs": [
        {
          "data": {
            "text/plain": [
              "tensor([[[ 56.,  72.],\n",
              "         [104., 120.]],\n",
              "\n",
              "        [[ 76., 100.],\n",
              "         [148., 172.]],\n",
              "\n",
              "        [[ 96., 128.],\n",
              "         [192., 224.]]])"
            ]
          },
          "execution_count": 47,
          "metadata": {},
          "output_type": "execute_result"
        }
      ],
      "source": [
        "corr2d_multi_in_out(X, K)"
      ]
    },
    {
      "cell_type": "code",
      "execution_count": null,
      "metadata": {
        "id": "fgOV2wDm6ZGd"
      },
      "outputs": [],
      "source": [
        "def corr2d_multi_in_out_1x1(X, K):\n",
        "    c_i, h, w = X.shape\n",
        "    c_o = K.shape[0]\n",
        "    X = X.reshape((c_i, h * w))\n",
        "    K = K.reshape((c_o, c_i))\n",
        "    Y = torch.matmul(K, X)\n",
        "    return Y.reshape((c_o, h, w))"
      ]
    },
    {
      "cell_type": "code",
      "execution_count": null,
      "metadata": {
        "id": "Iw7y_y8I6Z-i"
      },
      "outputs": [],
      "source": [
        "X = torch.normal(0, 1, (3, 3, 3))\n",
        "K = torch.normal(0, 1, (2, 3, 1, 1))\n",
        "Y1 = corr2d_multi_in_out_1x1(X, K)\n",
        "Y2 = corr2d_multi_in_out(X, K)\n",
        "assert float(torch.abs(Y1 - Y2).sum()) < 1e-6"
      ]
    },
    {
      "cell_type": "markdown",
      "metadata": {
        "id": "N7YuUEQW7VI1"
      },
      "source": [
        "## Exercises\n",
        "\n",
        "1. Assume that we have two convolution kernels of size $k_1$ and $k_2$, respectively\n",
        "   (with no nonlinearity in between).\n",
        "    1. Prove that the result of the operation can be expressed by a single convolution.\n",
        "    Assume we have two convolution kernels \\( K_1 \\) of size \\( k_1 \\) and \\( K_2 \\) of size \\( k_2 \\). The operation of convolving an input \\( I \\) with these kernels can be expressed as follows:\n",
        "\n",
        "      1. Convolve the Input with the First Kernel:\n",
        "        $[\n",
        "        Y_1 = I * K_1\n",
        "        $]\n",
        "\n",
        "      2. Convolve the Result with the Second Kernel:\n",
        "        $[\n",
        "        Y_2 = Y_1 * K_2 = (I * K_1) * K_2\n",
        "        $]\n",
        "\n",
        "      Using the associative property of convolution, we can rearrange the operations:\n",
        "      $[\n",
        "      Y_2 = I * (K_1 * K_2)\n",
        "      $]\n",
        "      Thus, the result of convolving with two kernels can be expressed as a single convolution with the combined kernel $( K = K_1 * K_2 $).\n",
        "\n",
        "    1. What is the dimensionality of the equivalent single convolution?\n",
        "    \n",
        "    If the input $( I $) has a spatial dimension of $( (h, w) $) and $( K_1 $) and $( K_2 $) have sizes $( k_1 $) and $( k_2 $) respectively, the equivalent single convolution kernel $( K $) will have a size $( k_1 + k_2 - 1 $). The output dimension after applying this kernel will be:\n",
        "    \n",
        "    $\n",
        "    \\text{Output Dimension} = (h - (k_1 + k_2 - 1) + 1) \\times (w - (k_1 + k_2 - 1) + 1) = (h - k + 1) \\times (w - k + 1)\n",
        "    $\n",
        "    \n",
        "    where $( k = k_1 + k_2 - 1 $).\n",
        "\n",
        "    1. Is the converse true, i.e., can you always decompose a convolution into two smaller ones?\n",
        "    \n",
        "    No, the converse is not necessarily true. Not every convolution can be decomposed into two smaller convolutions. For example, a convolution with a non-separable kernel (such as a Gaussian kernel in two dimensions) cannot be expressed as the composition of two smaller convolutions. The composition is dependent on the specific properties of the kernels involved.\n",
        "\n",
        "1. Assume an input of shape $c_\\textrm{i}\\times h\\times w$ and a convolution kernel of shape\n",
        "   $c_\\textrm{o}\\times c_\\textrm{i}\\times k_\\textrm{h}\\times k_\\textrm{w}$, padding of $(p_\\textrm{h}, p_\\textrm{w})$, and stride of $(s_\\textrm{h}, s_\\textrm{w})$.\n",
        "    1. What is the computational cost (multiplications and additions) for the forward propagation?\n",
        "\n",
        "      For an input of shape $ c_i \\times h \\times w $ and a kernel of shape $ c_o \\times c_i \\times k_h \\times k_w $:\n",
        "\n",
        "      - **Total Multiplications**:\n",
        "      $$\n",
        "      \\text{Total Multiplications} = c_o \\times h_{out} \\times w_{out} \\times c_i \\times k_h \\times k_w\n",
        "      $$\n",
        "      Where $ h_{out} = \\frac{h + 2p_h - k_h}{s_h} + 1 $ and $ w_{out} = \\frac{w + 2p_w - k_w}{s_w} + 1 $.\n",
        "\n",
        "      - **Total Additions**: Each multiplication corresponds to an addition, so the total additions is the same as the multiplications:\n",
        "      $$\n",
        "      \\text{Total Additions} = \\text{Total Multiplications}\n",
        "      $$\n",
        "\n",
        "    1. What is the memory footprint?\n",
        "          \n",
        "        1. **Input Size**: $ c_i \\times h \\times w $\n",
        "        2. **Kernel Size**: $ c_o \\times c_i \\times k_h \\times k_w $\n",
        "        3. **Output Size**: $ c_o \\times h_{out} \\times w_{out} $\n",
        "\n",
        "        Thus, the total memory footprint is:\n",
        "        $$\n",
        "        \\text{Memory Footprint} = c_i \\times h \\times w + c_o \\times c_i \\times k_h \\times k_w + c_o \\times h_{out} \\times w_{out}\n",
        "        $$\n",
        "\n",
        "    1. What is the memory footprint for the backward computation?\n",
        "          \n",
        "          The memory footprint for the backward pass is similar to the forward pass, as you need to store the input, kernel, and gradients with respect to the output.\n",
        "          \n",
        "          Thus, it remains:\n",
        "          $$\n",
        "          \\text{Memory Footprint for Backpropagation} = c_i \\times h \\times w + c_o \\times c_i \\times k_h \\times k_w + c_o \\times h_{out} \\times w_{out}\n",
        "          $$\n",
        "\n",
        "    1. What is the computational cost for the backpropagation?\n",
        "\n",
        "      The computational cost for backpropagation consists of calculating the gradients for both the input and the kernel, which would involve the same number of multiplications and additions as the forward pass.\n",
        "      \n",
        "      Thus:\n",
        "      $$\n",
        "      \\text{Total Multiplications (Backpropagation)} = \\text{Total Additions (Backpropagation)} = c_o \\times h_{out} \\times w_{out} \\times c_i \\times k_h \\times k_w\n",
        "      $$\n",
        "\n",
        "1. By what factor does the number of calculations increase if we double both the number of input channels\n",
        "   $c_\\textrm{i}$ and the number of output channels $c_\\textrm{o}$? What happens if we double the padding?\n",
        "    \n",
        "    When we double both the input channels $ c_i $ and the output channels $ c_o $:\n",
        "\n",
        "    - **New Computations**: The computational cost increases by a factor of $ 2 \\times 2 = 4 $.\n",
        "    - **Doubling Padding**: Doubling padding increases the spatial dimensions $ h_{out} $ and $ w_{out} $ as it adds more effective area for convolution, which may lead to an increase in computational cost, but the factor is more complex and depends on the kernel size and stride.\n",
        "\n",
        "1. Are the variables `Y1` and `Y2` in the final example of this section exactly the same? Why?\n",
        "\n",
        "    If `Y1` is obtained by convolving the input with the first kernel and `Y2` is obtained by convolving `Y1` with the second kernel, they will not be exactly the same if there is any difference in the convolution parameters (e.g., padding, stride). However, if both are computed correctly without any parameters changing, they can be equal since $ Y_2 = I * (K_1 * K_2) $.\n",
        "\n",
        "1. Express convolutions as a matrix multiplication, even when the convolution window is not $1 \\times 1$.\n",
        "\n",
        "    Convolutions can be expressed as matrix multiplications through a technique known as the **im2col** transformation. This involves rearranging the input into a matrix where each row corresponds to a region covered by the kernel, effectively flattening the spatial and channel dimensions into a 2D matrix. The kernel is also reshaped into a matrix form, and the convolution can then be expressed as:\n",
        "    $$\n",
        "    Y = W \\cdot X\n",
        "    $$\n",
        "    where $ W $ is the reshaped kernel matrix, and $ X $ is the reshaped input matrix.\n",
        "\n",
        "\n",
        "1. Your task is to implement fast convolutions with a $k \\times k$ kernel. One of the algorithm candidates\n",
        "   is to scan horizontally across the source, reading a $k$-wide strip and computing the $1$-wide output strip\n",
        "   one value at a time. The alternative is to read a $k + \\Delta$ wide strip and compute a $\\Delta$-wide\n",
        "   output strip. Why is the latter preferable? Is there a limit to how large you should choose $\\Delta$?\n",
        "    \n",
        "    #### Why is reading a $ k + \\Delta $ wide strip preferable?\n",
        "\n",
        "    Reading a $ k + \\Delta $ wide strip allows for more parallel processing as it computes multiple output values simultaneously. This leads to reduced overall computational time and improved cache coherence, minimizing memory access latency.\n",
        "\n",
        "    #### Is there a limit to how large you should choose $ \\Delta $?\n",
        "\n",
        "    Yes, choosing $ \\Delta $ too large can lead to diminishing returns due to increased memory usage and potential cache thrashing. The optimal size for $ \\Delta $ balances the benefits of parallelism with the overhead of memory management.\n",
        "\n",
        "1. Assume that we have a $c \\times c$ matrix.\n",
        "    1. How much faster is it to multiply with a block-diagonal matrix if the matrix is broken up into $b$ blocks?\n",
        "\n",
        "    If a $ c \\times c $ matrix is broken into $ b $ blocks, the computation can be reduced to multiplying smaller matrices:\n",
        "    $$\n",
        "    O(b \\cdot (c/b)^2) \\text{ instead of } O(c^3)\n",
        "    $$\n",
        "    This results in a significant speedup, particularly when $ b $ is small compared to $ c $.\n",
        "\n",
        "    1. What is the downside of having $b$ blocks? How could you fix it, at least partly?\n",
        "\n",
        "    The downside of having $ b $ blocks is that it increases overhead in terms of managing multiple smaller matrix operations rather than one larger operation. This could lead to increased constant factors in computation time and additional memory overhead for storing intermediate results. To address the downsides, we could utilize techniques such as matrix caching, optimizing the size of blocks to balance performance, and using efficient linear algebra libraries that handle block operations more efficiently, thereby reducing overhead."
      ]
    },
    {
      "cell_type": "markdown",
      "metadata": {
        "id": "5OM6YZq47Jsj"
      },
      "source": [
        "## Discussion Points\n",
        "- Input and Output Channels: When dealing with multi-channel inputs (e.g., RGB images), both inputs and convolution kernels become three-dimensional tensors, requiring the kernel to match the input channel count.\n",
        "- Cross-Correlation: The convolution process involves performing cross-correlation for each input channel, summing the results to produce a two-dimensional output tensor.\n",
        "- Multiple Output Channels: To achieve multiple output channels, each output channel has its own kernel that processes all input channels, allowing the network to learn diverse features.\n",
        "- 1x1 Convolution: The 1x1 convolution performs linear combinations across channels while maintaining spatial dimensions, functioning similarly to fully connected layers applied at each pixel.\n",
        "- Computational Cost: The computation cost of convolutions increases significantly with the size of the input and output channels, necessitating strategies to optimize performance in deep learning architectures.\n",
        "\n",
        "\n"
      ]
    },
    {
      "cell_type": "markdown",
      "metadata": {
        "id": "N-3Sr36_-n6y"
      },
      "source": [
        "#7.5. Pooling\n"
      ]
    },
    {
      "cell_type": "code",
      "execution_count": null,
      "metadata": {
        "id": "1tYhuH06_QWZ"
      },
      "outputs": [],
      "source": [
        "import torch\n",
        "from torch import nn\n",
        "from d2l import torch as d2l"
      ]
    },
    {
      "cell_type": "code",
      "execution_count": null,
      "metadata": {
        "id": "QQrdk1d1_Rbl"
      },
      "outputs": [],
      "source": [
        "def pool2d(X, pool_size, mode='max'):\n",
        "    p_h, p_w = pool_size\n",
        "    Y = torch.zeros((X.shape[0] - p_h + 1, X.shape[1] - p_w + 1))\n",
        "    for i in range(Y.shape[0]):\n",
        "        for j in range(Y.shape[1]):\n",
        "            if mode == 'max':\n",
        "                Y[i, j] = X[i: i + p_h, j: j + p_w].max()\n",
        "            elif mode == 'avg':\n",
        "                Y[i, j] = X[i: i + p_h, j: j + p_w].mean()\n",
        "    return Y"
      ]
    },
    {
      "cell_type": "code",
      "execution_count": null,
      "metadata": {
        "colab": {
          "base_uri": "https://localhost:8080/"
        },
        "id": "GGzOhs_l_4H-",
        "outputId": "fb6ed86e-1c41-4e9d-9d17-5ba539c171a4"
      },
      "outputs": [
        {
          "data": {
            "text/plain": [
              "tensor([[4., 5.],\n",
              "        [7., 8.]])"
            ]
          },
          "execution_count": 52,
          "metadata": {},
          "output_type": "execute_result"
        }
      ],
      "source": [
        "X = torch.tensor([[0.0, 1.0, 2.0], [3.0, 4.0, 5.0], [6.0, 7.0, 8.0]])\n",
        "pool2d(X, (2, 2))"
      ]
    },
    {
      "cell_type": "code",
      "execution_count": null,
      "metadata": {
        "colab": {
          "base_uri": "https://localhost:8080/"
        },
        "id": "vVG5so_G_5NB",
        "outputId": "5883c3ae-74b9-44d1-b82d-01cfba589afd"
      },
      "outputs": [
        {
          "data": {
            "text/plain": [
              "tensor([[2., 3.],\n",
              "        [5., 6.]])"
            ]
          },
          "execution_count": 53,
          "metadata": {},
          "output_type": "execute_result"
        }
      ],
      "source": [
        "pool2d(X, (2, 2), 'avg')"
      ]
    },
    {
      "cell_type": "code",
      "execution_count": null,
      "metadata": {
        "colab": {
          "base_uri": "https://localhost:8080/"
        },
        "id": "-8T06aGc_8l1",
        "outputId": "182e9773-7473-42af-e1f5-d8b726e50928"
      },
      "outputs": [
        {
          "data": {
            "text/plain": [
              "tensor([[[[ 0.,  1.,  2.,  3.],\n",
              "          [ 4.,  5.,  6.,  7.],\n",
              "          [ 8.,  9., 10., 11.],\n",
              "          [12., 13., 14., 15.]]]])"
            ]
          },
          "execution_count": 54,
          "metadata": {},
          "output_type": "execute_result"
        }
      ],
      "source": [
        "# Padding and Stride\n",
        "X = torch.arange(16, dtype=torch.float32).reshape((1, 1, 4, 4))\n",
        "X"
      ]
    },
    {
      "cell_type": "code",
      "execution_count": null,
      "metadata": {
        "colab": {
          "base_uri": "https://localhost:8080/"
        },
        "id": "fnMuJgzW_-0M",
        "outputId": "7c4a1586-4c82-40cd-dee4-86c97dd083dc"
      },
      "outputs": [
        {
          "data": {
            "text/plain": [
              "tensor([[[[10.]]]])"
            ]
          },
          "execution_count": 55,
          "metadata": {},
          "output_type": "execute_result"
        }
      ],
      "source": [
        "pool2d = nn.MaxPool2d(3)\n",
        "pool2d(X)"
      ]
    },
    {
      "cell_type": "code",
      "execution_count": null,
      "metadata": {
        "colab": {
          "base_uri": "https://localhost:8080/"
        },
        "id": "YUQ82BQmAAbV",
        "outputId": "b683039a-eb98-4f8f-a1a3-78493ca2786e"
      },
      "outputs": [
        {
          "data": {
            "text/plain": [
              "tensor([[[[ 5.,  7.],\n",
              "          [13., 15.]]]])"
            ]
          },
          "execution_count": 56,
          "metadata": {},
          "output_type": "execute_result"
        }
      ],
      "source": [
        "pool2d = nn.MaxPool2d(3, padding=1, stride=2)\n",
        "pool2d(X)"
      ]
    },
    {
      "cell_type": "code",
      "execution_count": null,
      "metadata": {
        "colab": {
          "base_uri": "https://localhost:8080/"
        },
        "id": "zp8qdmeLALrU",
        "outputId": "01b1f852-2107-49ac-8add-48c6b3151811"
      },
      "outputs": [
        {
          "data": {
            "text/plain": [
              "tensor([[[[ 0.,  1.,  2.,  3.],\n",
              "          [ 4.,  5.,  6.,  7.],\n",
              "          [ 8.,  9., 10., 11.],\n",
              "          [12., 13., 14., 15.]],\n",
              "\n",
              "         [[ 1.,  2.,  3.,  4.],\n",
              "          [ 5.,  6.,  7.,  8.],\n",
              "          [ 9., 10., 11., 12.],\n",
              "          [13., 14., 15., 16.]]]])"
            ]
          },
          "execution_count": 57,
          "metadata": {},
          "output_type": "execute_result"
        }
      ],
      "source": [
        "# Multiple Channels\n",
        "X = torch.cat((X, X + 1), 1)\n",
        "X"
      ]
    },
    {
      "cell_type": "code",
      "execution_count": null,
      "metadata": {
        "colab": {
          "base_uri": "https://localhost:8080/"
        },
        "id": "nuo7Tut3AQ0M",
        "outputId": "5065b6be-0776-4bce-f5e6-646ba6429ba0"
      },
      "outputs": [
        {
          "data": {
            "text/plain": [
              "tensor([[[[ 5.,  7.],\n",
              "          [13., 15.]],\n",
              "\n",
              "         [[ 6.,  8.],\n",
              "          [14., 16.]]]])"
            ]
          },
          "execution_count": 58,
          "metadata": {},
          "output_type": "execute_result"
        }
      ],
      "source": [
        "pool2d = nn.MaxPool2d(3, padding=1, stride=2)\n",
        "pool2d(X)"
      ]
    },
    {
      "cell_type": "markdown",
      "metadata": {
        "id": "t1_A2SlIBAcO"
      },
      "source": [
        "## Exercises\n",
        "\n",
        "1. Implement average pooling through a convolution.\n",
        "   - Average pooling can be achieved using a convolution operation by using a kernel where all elements are set to $\\frac{1}{N}$, where $N$ is the number of elements in the pooling window. For example, for a $2 \\times 2$ average pooling, the convolution kernel would be:\n",
        "   $$\n",
        "   \\text{Kernel} = \\begin{bmatrix}\n",
        "   \\frac{1}{4} & \\frac{1}{4} \\\\\n",
        "   \\frac{1}{4} & \\frac{1}{4}\n",
        "   \\end{bmatrix}\n",
        "   $$\n",
        "\n",
        "1. Prove that max-pooling cannot be implemented through a convolution alone.\n",
        "\n",
        "    Max-pooling selects the maximum value from a set of values, while convolution is a linear operation that computes a weighted sum of inputs. Since the max operation is nonlinear, it cannot be represented as a single convolution layer.\n",
        "\n",
        "1. Max-pooling can be accomplished using ReLU operations, i.e., $\\textrm{ReLU}(x) = \\max(0, x)$.\n",
        "    1. Express $\\max (a, b)$ by using only ReLU operations.\n",
        "\n",
        "    $$\n",
        "    \\max(a, b) = \\frac{1}{2}(a + b + \\textrm{ReLU}(a - b))\n",
        "    $$\n",
        "\n",
        "    1. Use this to implement max-pooling by means of convolutions and ReLU layers.\n",
        "    \n",
        "    (code)\n",
        "    \n",
        "    1. How many channels and layers do you need for a $2 \\times 2$ convolution? How many for a $3 \\times 3$ convolution?\n",
        "      - For a $2 \\times 2$ convolution, we would need 2 channels (one for each value) and 1 layer.\n",
        "      - For a $3 \\times 3$ convolution, we would need 3 channels (to capture the maximum from the neighborhood) and 1 layer.\n",
        "\n",
        "1. What is the computational cost of the pooling layer? Assume that the input to the pooling layer is of size $c\\times h\\times w$, the pooling window has a shape of $p_\\textrm{h}\\times p_\\textrm{w}$ with a padding of $(p_\\textrm{h}, p_\\textrm{w})$ and a stride of $(s_\\textrm{h}, s_\\textrm{w})$.\n",
        "\n",
        "    - Given an input of size $c \\times h \\times w$, the computational cost of the pooling layer with a window size of $p_\\textrm{h} \\times p_\\textrm{w}$, padding $(p_\\textrm{h}, p_\\textrm{w})$, and stride $(s_\\textrm{h}, s_\\textrm{w})$ can be calculated as:\n",
        "      $$\n",
        "      \\text{Cost} = c \\cdot \\left( \\left\\lceil \\frac{h + 2 \\cdot p_\\textrm{h} - p_\\textrm{h}}{s_\\textrm{h}} \\right\\rceil \\cdot \\left\\lceil \\frac{w + 2 \\cdot p_\\textrm{w} - p_\\textrm{w}}{s_\\textrm{w}} \\right\\rceil \\right)\n",
        "      $$\n",
        "      where each output requires evaluating $p_\\textrm{h} \\times p_\\textrm{w}$ elements.\n",
        "\n",
        "1. Why do you expect max-pooling and average pooling to work differently?\n",
        "\n",
        "    Max-pooling focuses on the most significant features by taking the maximum value, making it robust to noise. Average pooling, however, averages values, which can smooth out important features and may lead to loss of critical information.\n",
        "\n",
        "1. Do we need a separate minimum pooling layer? Can you replace it with another operation?\n",
        "\n",
        "    A separate minimum pooling layer is not strictly necessary. You can achieve similar results using negative max-pooling, where you negate the input values, apply max-pooling, and negate the output.\n",
        "\n",
        "1. We could use the softmax operation for pooling. Why might it not be so popular?\n",
        "\n",
        "    Softmax outputs a probability distribution, which can lose the actual values of the features and does not effectively retain spatial information. Additionally, it is computationally more expensive and not suited for tasks where retaining maximum or average values is critical."
      ]
    },
    {
      "cell_type": "code",
      "execution_count": null,
      "metadata": {
        "colab": {
          "base_uri": "https://localhost:8080/"
        },
        "id": "js5O9Ct-C7lN",
        "outputId": "281211bf-5e3a-4675-b346-7342addf261c"
      },
      "outputs": [
        {
          "name": "stdout",
          "output_type": "stream",
          "text": [
            "tensor([[[[0.0000, 0.0089],\n",
            "          [0.0000, 0.0000]],\n",
            "\n",
            "         [[0.0000, 1.7169],\n",
            "          [0.0000, 0.0000]],\n",
            "\n",
            "         [[0.0000, 0.0000],\n",
            "          [0.0000, 0.2052]],\n",
            "\n",
            "         [[1.2319, 0.0000],\n",
            "          [0.0777, 0.5081]]]], grad_fn=<ReluBackward0>)\n"
          ]
        }
      ],
      "source": [
        "import torch\n",
        "import torch.nn as nn\n",
        "\n",
        "class MaxPoolingWithReLU(nn.Module):\n",
        "    def __init__(self):\n",
        "        super(MaxPoolingWithReLU, self).__init__()\n",
        "        # Using a 2x2 kernel with stride 2 and padding 0\n",
        "        self.conv = nn.Conv2d(in_channels=1, out_channels=4, kernel_size=2, stride=2, padding=0, bias=False)\n",
        "\n",
        "        # Initialize weights manually to simulate max-pooling\n",
        "        # Each input value is treated as separate channels\n",
        "        with torch.no_grad():\n",
        "            self.conv.weight = nn.Parameter(torch.tensor([[[[1.0, 0.0], [0.0, 0.0]]],\n",
        "                                                          [[[0.0, 1.0], [0.0, 0.0]]],\n",
        "                                                          [[[0.0, 0.0], [1.0, 0.0]]],\n",
        "                                                          [[[0.0, 0.0], [0.0, 1.0]]]], dtype=torch.float32))\n",
        "\n",
        "    def forward(self, x):\n",
        "        x = self.conv(x)  # Perform convolution\n",
        "        return nn.ReLU()(x)  # Apply ReLU activation\n",
        "\n",
        "# Example usage\n",
        "input_tensor = torch.randn(1, 1, 4, 4)  # Batch size 1, 1 channel, 4x4 image\n",
        "pool = MaxPoolingWithReLU()\n",
        "output_tensor = pool(input_tensor)\n",
        "print(output_tensor)\n"
      ]
    },
    {
      "cell_type": "markdown",
      "metadata": {
        "id": "8eSYrXfQAdWK"
      },
      "source": [
        "## Discussion Points\n",
        "- Pooling aggregates values over a defined window, reducing the spatial resolution of the output.\n",
        "- Definition: Pooling aggregates values over a defined window, reducing the spatial resolution of the output.\n",
        "Channel Independence: Pooling operates on each channel separately, maintaining the number of channels in the output.\n",
        "- Types of Pooling:\n",
        "    - Max-Pooling: Preferred over average pooling as it offers some invariance to output.\n",
        "    - Average Pooling: Commonly uses a pooling window size to quarter the spatial resolution of the output.\n",
        "- Alternative Methods:\n",
        "    - Stochastic Pooling: Introduces randomness during aggregation, which can enhance accuracy.\n",
        "    - Fractional Max-Pooling: Similar to stochastic pooling but with a focus on fractional output sizes.\n",
        "- Advanced Techniques: Methods like attention mechanisms use alignment between query and representation vectors for more refined output aggregation.\n",
        "\n"
      ]
    },
    {
      "cell_type": "markdown",
      "metadata": {
        "id": "V1tgsr2BDA8a"
      },
      "source": [
        "#7.6. Convolutional Neural Networks (LeNet)"
      ]
    },
    {
      "cell_type": "code",
      "execution_count": null,
      "metadata": {
        "id": "KguylfQYDl9I"
      },
      "outputs": [],
      "source": [
        "import torch\n",
        "from torch import nn\n",
        "from d2l import torch as d2l"
      ]
    },
    {
      "cell_type": "code",
      "execution_count": null,
      "metadata": {
        "id": "OyLo9HVcD2g9"
      },
      "outputs": [],
      "source": [
        "def init_cnn(module):\n",
        "    if type(module) == nn.Linear or type(module) == nn.Conv2d:\n",
        "        nn.init.xavier_uniform_(module.weight)\n",
        "\n",
        "class LeNet(d2l.Classifier):\n",
        "    def __init__(self, lr=0.1, num_classes=10):\n",
        "        super().__init__()\n",
        "        self.save_hyperparameters()\n",
        "        self.net = nn.Sequential(\n",
        "            nn.LazyConv2d(6, kernel_size=5, padding=2), nn.Sigmoid(),\n",
        "            nn.AvgPool2d(kernel_size=2, stride=2),\n",
        "            nn.LazyConv2d(16, kernel_size=5), nn.Sigmoid(),\n",
        "            nn.AvgPool2d(kernel_size=2, stride=2),\n",
        "            nn.Flatten(),\n",
        "            nn.LazyLinear(120), nn.Sigmoid(),\n",
        "            nn.LazyLinear(84), nn.Sigmoid(),\n",
        "            nn.LazyLinear(num_classes))"
      ]
    },
    {
      "cell_type": "code",
      "execution_count": null,
      "metadata": {
        "colab": {
          "base_uri": "https://localhost:8080/"
        },
        "id": "9isbUjPnEHGM",
        "outputId": "1ca7e03c-e281-42f3-fe8a-f87ae09d813a"
      },
      "outputs": [
        {
          "name": "stdout",
          "output_type": "stream",
          "text": [
            "Conv2d output shape:\t torch.Size([1, 6, 28, 28])\n",
            "Sigmoid output shape:\t torch.Size([1, 6, 28, 28])\n",
            "AvgPool2d output shape:\t torch.Size([1, 6, 14, 14])\n",
            "Conv2d output shape:\t torch.Size([1, 16, 10, 10])\n",
            "Sigmoid output shape:\t torch.Size([1, 16, 10, 10])\n",
            "AvgPool2d output shape:\t torch.Size([1, 16, 5, 5])\n",
            "Flatten output shape:\t torch.Size([1, 400])\n",
            "Linear output shape:\t torch.Size([1, 120])\n",
            "Sigmoid output shape:\t torch.Size([1, 120])\n",
            "Linear output shape:\t torch.Size([1, 84])\n",
            "Sigmoid output shape:\t torch.Size([1, 84])\n",
            "Linear output shape:\t torch.Size([1, 10])\n"
          ]
        }
      ],
      "source": [
        "@d2l.add_to_class(d2l.Classifier)\n",
        "def layer_summary(self, X_shape):\n",
        "    X = torch.randn(*X_shape)\n",
        "    for layer in self.net:\n",
        "        X = layer(X)\n",
        "        print(layer.__class__.__name__, 'output shape:\\t', X.shape)\n",
        "\n",
        "model = LeNet()\n",
        "model.layer_summary((1, 1, 28, 28))"
      ]
    },
    {
      "cell_type": "code",
      "execution_count": null,
      "metadata": {
        "colab": {
          "base_uri": "https://localhost:8080/",
          "height": 265
        },
        "id": "8_s2cWduEMJX",
        "outputId": "dcd19ea8-9a22-4891-87b3-8e5e5c745ad9"
      },
      "outputs": [
        {
          "data": {
            "image/svg+xml": "<?xml version=\"1.0\" encoding=\"utf-8\" standalone=\"no\"?>\n<!DOCTYPE svg PUBLIC \"-//W3C//DTD SVG 1.1//EN\"\n  \"http://www.w3.org/Graphics/SVG/1.1/DTD/svg11.dtd\">\n<svg xmlns:xlink=\"http://www.w3.org/1999/xlink\" width=\"238.965625pt\" height=\"183.35625pt\" viewBox=\"0 0 238.965625 183.35625\" xmlns=\"http://www.w3.org/2000/svg\" version=\"1.1\">\n <metadata>\n  <rdf:RDF xmlns:dc=\"http://purl.org/dc/elements/1.1/\" xmlns:cc=\"http://creativecommons.org/ns#\" xmlns:rdf=\"http://www.w3.org/1999/02/22-rdf-syntax-ns#\">\n   <cc:Work>\n    <dc:type rdf:resource=\"http://purl.org/dc/dcmitype/StillImage\"/>\n    <dc:date>2024-10-10T11:00:47.081767</dc:date>\n    <dc:format>image/svg+xml</dc:format>\n    <dc:creator>\n     <cc:Agent>\n      <dc:title>Matplotlib v3.7.2, https://matplotlib.org/</dc:title>\n     </cc:Agent>\n    </dc:creator>\n   </cc:Work>\n  </rdf:RDF>\n </metadata>\n <defs>\n  <style type=\"text/css\">*{stroke-linejoin: round; stroke-linecap: butt}</style>\n </defs>\n <g id=\"figure_1\">\n  <g id=\"patch_1\">\n   <path d=\"M 0 183.35625 \nL 238.965625 183.35625 \nL 238.965625 0 \nL 0 0 \nz\n\" style=\"fill: #ffffff\"/>\n  </g>\n  <g id=\"axes_1\">\n   <g id=\"patch_2\">\n    <path d=\"M 30.103125 145.8 \nL 225.403125 145.8 \nL 225.403125 7.2 \nL 30.103125 7.2 \nz\n\" style=\"fill: #ffffff\"/>\n   </g>\n   <g id=\"matplotlib.axis_1\">\n    <g id=\"xtick_1\">\n     <g id=\"line2d_1\">\n      <defs>\n       <path id=\"ma60598efb2\" d=\"M 0 0 \nL 0 3.5 \n\" style=\"stroke: #000000; stroke-width: 0.8\"/>\n      </defs>\n      <g>\n       <use xlink:href=\"#ma60598efb2\" x=\"30.103125\" y=\"145.8\" style=\"stroke: #000000; stroke-width: 0.8\"/>\n      </g>\n     </g>\n     <g id=\"text_1\">\n      <!-- 0 -->\n      <g transform=\"translate(26.921875 160.398438) scale(0.1 -0.1)\">\n       <defs>\n        <path id=\"DejaVuSans-30\" d=\"M 2034 4250 \nQ 1547 4250 1301 3770 \nQ 1056 3291 1056 2328 \nQ 1056 1369 1301 889 \nQ 1547 409 2034 409 \nQ 2525 409 2770 889 \nQ 3016 1369 3016 2328 \nQ 3016 3291 2770 3770 \nQ 2525 4250 2034 4250 \nz\nM 2034 4750 \nQ 2819 4750 3233 4129 \nQ 3647 3509 3647 2328 \nQ 3647 1150 3233 529 \nQ 2819 -91 2034 -91 \nQ 1250 -91 836 529 \nQ 422 1150 422 2328 \nQ 422 3509 836 4129 \nQ 1250 4750 2034 4750 \nz\n\" transform=\"scale(0.015625)\"/>\n       </defs>\n       <use xlink:href=\"#DejaVuSans-30\"/>\n      </g>\n     </g>\n    </g>\n    <g id=\"xtick_2\">\n     <g id=\"line2d_2\">\n      <g>\n       <use xlink:href=\"#ma60598efb2\" x=\"69.163125\" y=\"145.8\" style=\"stroke: #000000; stroke-width: 0.8\"/>\n      </g>\n     </g>\n     <g id=\"text_2\">\n      <!-- 2 -->\n      <g transform=\"translate(65.981875 160.398438) scale(0.1 -0.1)\">\n       <defs>\n        <path id=\"DejaVuSans-32\" d=\"M 1228 531 \nL 3431 531 \nL 3431 0 \nL 469 0 \nL 469 531 \nQ 828 903 1448 1529 \nQ 2069 2156 2228 2338 \nQ 2531 2678 2651 2914 \nQ 2772 3150 2772 3378 \nQ 2772 3750 2511 3984 \nQ 2250 4219 1831 4219 \nQ 1534 4219 1204 4116 \nQ 875 4013 500 3803 \nL 500 4441 \nQ 881 4594 1212 4672 \nQ 1544 4750 1819 4750 \nQ 2544 4750 2975 4387 \nQ 3406 4025 3406 3419 \nQ 3406 3131 3298 2873 \nQ 3191 2616 2906 2266 \nQ 2828 2175 2409 1742 \nQ 1991 1309 1228 531 \nz\n\" transform=\"scale(0.015625)\"/>\n       </defs>\n       <use xlink:href=\"#DejaVuSans-32\"/>\n      </g>\n     </g>\n    </g>\n    <g id=\"xtick_3\">\n     <g id=\"line2d_3\">\n      <g>\n       <use xlink:href=\"#ma60598efb2\" x=\"108.223125\" y=\"145.8\" style=\"stroke: #000000; stroke-width: 0.8\"/>\n      </g>\n     </g>\n     <g id=\"text_3\">\n      <!-- 4 -->\n      <g transform=\"translate(105.041875 160.398438) scale(0.1 -0.1)\">\n       <defs>\n        <path id=\"DejaVuSans-34\" d=\"M 2419 4116 \nL 825 1625 \nL 2419 1625 \nL 2419 4116 \nz\nM 2253 4666 \nL 3047 4666 \nL 3047 1625 \nL 3713 1625 \nL 3713 1100 \nL 3047 1100 \nL 3047 0 \nL 2419 0 \nL 2419 1100 \nL 313 1100 \nL 313 1709 \nL 2253 4666 \nz\n\" transform=\"scale(0.015625)\"/>\n       </defs>\n       <use xlink:href=\"#DejaVuSans-34\"/>\n      </g>\n     </g>\n    </g>\n    <g id=\"xtick_4\">\n     <g id=\"line2d_4\">\n      <g>\n       <use xlink:href=\"#ma60598efb2\" x=\"147.283125\" y=\"145.8\" style=\"stroke: #000000; stroke-width: 0.8\"/>\n      </g>\n     </g>\n     <g id=\"text_4\">\n      <!-- 6 -->\n      <g transform=\"translate(144.101875 160.398438) scale(0.1 -0.1)\">\n       <defs>\n        <path id=\"DejaVuSans-36\" d=\"M 2113 2584 \nQ 1688 2584 1439 2293 \nQ 1191 2003 1191 1497 \nQ 1191 994 1439 701 \nQ 1688 409 2113 409 \nQ 2538 409 2786 701 \nQ 3034 994 3034 1497 \nQ 3034 2003 2786 2293 \nQ 2538 2584 2113 2584 \nz\nM 3366 4563 \nL 3366 3988 \nQ 3128 4100 2886 4159 \nQ 2644 4219 2406 4219 \nQ 1781 4219 1451 3797 \nQ 1122 3375 1075 2522 \nQ 1259 2794 1537 2939 \nQ 1816 3084 2150 3084 \nQ 2853 3084 3261 2657 \nQ 3669 2231 3669 1497 \nQ 3669 778 3244 343 \nQ 2819 -91 2113 -91 \nQ 1303 -91 875 529 \nQ 447 1150 447 2328 \nQ 447 3434 972 4092 \nQ 1497 4750 2381 4750 \nQ 2619 4750 2861 4703 \nQ 3103 4656 3366 4563 \nz\n\" transform=\"scale(0.015625)\"/>\n       </defs>\n       <use xlink:href=\"#DejaVuSans-36\"/>\n      </g>\n     </g>\n    </g>\n    <g id=\"xtick_5\">\n     <g id=\"line2d_5\">\n      <g>\n       <use xlink:href=\"#ma60598efb2\" x=\"186.343125\" y=\"145.8\" style=\"stroke: #000000; stroke-width: 0.8\"/>\n      </g>\n     </g>\n     <g id=\"text_5\">\n      <!-- 8 -->\n      <g transform=\"translate(183.161875 160.398438) scale(0.1 -0.1)\">\n       <defs>\n        <path id=\"DejaVuSans-38\" d=\"M 2034 2216 \nQ 1584 2216 1326 1975 \nQ 1069 1734 1069 1313 \nQ 1069 891 1326 650 \nQ 1584 409 2034 409 \nQ 2484 409 2743 651 \nQ 3003 894 3003 1313 \nQ 3003 1734 2745 1975 \nQ 2488 2216 2034 2216 \nz\nM 1403 2484 \nQ 997 2584 770 2862 \nQ 544 3141 544 3541 \nQ 544 4100 942 4425 \nQ 1341 4750 2034 4750 \nQ 2731 4750 3128 4425 \nQ 3525 4100 3525 3541 \nQ 3525 3141 3298 2862 \nQ 3072 2584 2669 2484 \nQ 3125 2378 3379 2068 \nQ 3634 1759 3634 1313 \nQ 3634 634 3220 271 \nQ 2806 -91 2034 -91 \nQ 1263 -91 848 271 \nQ 434 634 434 1313 \nQ 434 1759 690 2068 \nQ 947 2378 1403 2484 \nz\nM 1172 3481 \nQ 1172 3119 1398 2916 \nQ 1625 2713 2034 2713 \nQ 2441 2713 2670 2916 \nQ 2900 3119 2900 3481 \nQ 2900 3844 2670 4047 \nQ 2441 4250 2034 4250 \nQ 1625 4250 1398 4047 \nQ 1172 3844 1172 3481 \nz\n\" transform=\"scale(0.015625)\"/>\n       </defs>\n       <use xlink:href=\"#DejaVuSans-38\"/>\n      </g>\n     </g>\n    </g>\n    <g id=\"xtick_6\">\n     <g id=\"line2d_6\">\n      <g>\n       <use xlink:href=\"#ma60598efb2\" x=\"225.403125\" y=\"145.8\" style=\"stroke: #000000; stroke-width: 0.8\"/>\n      </g>\n     </g>\n     <g id=\"text_6\">\n      <!-- 10 -->\n      <g transform=\"translate(219.040625 160.398438) scale(0.1 -0.1)\">\n       <defs>\n        <path id=\"DejaVuSans-31\" d=\"M 794 531 \nL 1825 531 \nL 1825 4091 \nL 703 3866 \nL 703 4441 \nL 1819 4666 \nL 2450 4666 \nL 2450 531 \nL 3481 531 \nL 3481 0 \nL 794 0 \nL 794 531 \nz\n\" transform=\"scale(0.015625)\"/>\n       </defs>\n       <use xlink:href=\"#DejaVuSans-31\"/>\n       <use xlink:href=\"#DejaVuSans-30\" x=\"63.623047\"/>\n      </g>\n     </g>\n    </g>\n    <g id=\"text_7\">\n     <!-- epoch -->\n     <g transform=\"translate(112.525 174.076563) scale(0.1 -0.1)\">\n      <defs>\n       <path id=\"DejaVuSans-65\" d=\"M 3597 1894 \nL 3597 1613 \nL 953 1613 \nQ 991 1019 1311 708 \nQ 1631 397 2203 397 \nQ 2534 397 2845 478 \nQ 3156 559 3463 722 \nL 3463 178 \nQ 3153 47 2828 -22 \nQ 2503 -91 2169 -91 \nQ 1331 -91 842 396 \nQ 353 884 353 1716 \nQ 353 2575 817 3079 \nQ 1281 3584 2069 3584 \nQ 2775 3584 3186 3129 \nQ 3597 2675 3597 1894 \nz\nM 3022 2063 \nQ 3016 2534 2758 2815 \nQ 2500 3097 2075 3097 \nQ 1594 3097 1305 2825 \nQ 1016 2553 972 2059 \nL 3022 2063 \nz\n\" transform=\"scale(0.015625)\"/>\n       <path id=\"DejaVuSans-70\" d=\"M 1159 525 \nL 1159 -1331 \nL 581 -1331 \nL 581 3500 \nL 1159 3500 \nL 1159 2969 \nQ 1341 3281 1617 3432 \nQ 1894 3584 2278 3584 \nQ 2916 3584 3314 3078 \nQ 3713 2572 3713 1747 \nQ 3713 922 3314 415 \nQ 2916 -91 2278 -91 \nQ 1894 -91 1617 61 \nQ 1341 213 1159 525 \nz\nM 3116 1747 \nQ 3116 2381 2855 2742 \nQ 2594 3103 2138 3103 \nQ 1681 3103 1420 2742 \nQ 1159 2381 1159 1747 \nQ 1159 1113 1420 752 \nQ 1681 391 2138 391 \nQ 2594 391 2855 752 \nQ 3116 1113 3116 1747 \nz\n\" transform=\"scale(0.015625)\"/>\n       <path id=\"DejaVuSans-6f\" d=\"M 1959 3097 \nQ 1497 3097 1228 2736 \nQ 959 2375 959 1747 \nQ 959 1119 1226 758 \nQ 1494 397 1959 397 \nQ 2419 397 2687 759 \nQ 2956 1122 2956 1747 \nQ 2956 2369 2687 2733 \nQ 2419 3097 1959 3097 \nz\nM 1959 3584 \nQ 2709 3584 3137 3096 \nQ 3566 2609 3566 1747 \nQ 3566 888 3137 398 \nQ 2709 -91 1959 -91 \nQ 1206 -91 779 398 \nQ 353 888 353 1747 \nQ 353 2609 779 3096 \nQ 1206 3584 1959 3584 \nz\n\" transform=\"scale(0.015625)\"/>\n       <path id=\"DejaVuSans-63\" d=\"M 3122 3366 \nL 3122 2828 \nQ 2878 2963 2633 3030 \nQ 2388 3097 2138 3097 \nQ 1578 3097 1268 2742 \nQ 959 2388 959 1747 \nQ 959 1106 1268 751 \nQ 1578 397 2138 397 \nQ 2388 397 2633 464 \nQ 2878 531 3122 666 \nL 3122 134 \nQ 2881 22 2623 -34 \nQ 2366 -91 2075 -91 \nQ 1284 -91 818 406 \nQ 353 903 353 1747 \nQ 353 2603 823 3093 \nQ 1294 3584 2113 3584 \nQ 2378 3584 2631 3529 \nQ 2884 3475 3122 3366 \nz\n\" transform=\"scale(0.015625)\"/>\n       <path id=\"DejaVuSans-68\" d=\"M 3513 2113 \nL 3513 0 \nL 2938 0 \nL 2938 2094 \nQ 2938 2591 2744 2837 \nQ 2550 3084 2163 3084 \nQ 1697 3084 1428 2787 \nQ 1159 2491 1159 1978 \nL 1159 0 \nL 581 0 \nL 581 4863 \nL 1159 4863 \nL 1159 2956 \nQ 1366 3272 1645 3428 \nQ 1925 3584 2291 3584 \nQ 2894 3584 3203 3211 \nQ 3513 2838 3513 2113 \nz\n\" transform=\"scale(0.015625)\"/>\n      </defs>\n      <use xlink:href=\"#DejaVuSans-65\"/>\n      <use xlink:href=\"#DejaVuSans-70\" x=\"61.523438\"/>\n      <use xlink:href=\"#DejaVuSans-6f\" x=\"125\"/>\n      <use xlink:href=\"#DejaVuSans-63\" x=\"186.181641\"/>\n      <use xlink:href=\"#DejaVuSans-68\" x=\"241.162109\"/>\n     </g>\n    </g>\n   </g>\n   <g id=\"matplotlib.axis_2\">\n    <g id=\"ytick_1\">\n     <g id=\"line2d_7\">\n      <defs>\n       <path id=\"mf7eee0e1d9\" d=\"M 0 0 \nL -3.5 0 \n\" style=\"stroke: #000000; stroke-width: 0.8\"/>\n      </defs>\n      <g>\n       <use xlink:href=\"#mf7eee0e1d9\" x=\"30.103125\" y=\"145.173326\" style=\"stroke: #000000; stroke-width: 0.8\"/>\n      </g>\n     </g>\n     <g id=\"text_8\">\n      <!-- 0.0 -->\n      <g transform=\"translate(7.2 148.972544) scale(0.1 -0.1)\">\n       <defs>\n        <path id=\"DejaVuSans-2e\" d=\"M 684 794 \nL 1344 794 \nL 1344 0 \nL 684 0 \nL 684 794 \nz\n\" transform=\"scale(0.015625)\"/>\n       </defs>\n       <use xlink:href=\"#DejaVuSans-30\"/>\n       <use xlink:href=\"#DejaVuSans-2e\" x=\"63.623047\"/>\n       <use xlink:href=\"#DejaVuSans-30\" x=\"95.410156\"/>\n      </g>\n     </g>\n    </g>\n    <g id=\"ytick_2\">\n     <g id=\"line2d_8\">\n      <g>\n       <use xlink:href=\"#mf7eee0e1d9\" x=\"30.103125\" y=\"116.688386\" style=\"stroke: #000000; stroke-width: 0.8\"/>\n      </g>\n     </g>\n     <g id=\"text_9\">\n      <!-- 0.5 -->\n      <g transform=\"translate(7.2 120.487605) scale(0.1 -0.1)\">\n       <defs>\n        <path id=\"DejaVuSans-35\" d=\"M 691 4666 \nL 3169 4666 \nL 3169 4134 \nL 1269 4134 \nL 1269 2991 \nQ 1406 3038 1543 3061 \nQ 1681 3084 1819 3084 \nQ 2600 3084 3056 2656 \nQ 3513 2228 3513 1497 \nQ 3513 744 3044 326 \nQ 2575 -91 1722 -91 \nQ 1428 -91 1123 -41 \nQ 819 9 494 109 \nL 494 744 \nQ 775 591 1075 516 \nQ 1375 441 1709 441 \nQ 2250 441 2565 725 \nQ 2881 1009 2881 1497 \nQ 2881 1984 2565 2268 \nQ 2250 2553 1709 2553 \nQ 1456 2553 1204 2497 \nQ 953 2441 691 2322 \nL 691 4666 \nz\n\" transform=\"scale(0.015625)\"/>\n       </defs>\n       <use xlink:href=\"#DejaVuSans-30\"/>\n       <use xlink:href=\"#DejaVuSans-2e\" x=\"63.623047\"/>\n       <use xlink:href=\"#DejaVuSans-35\" x=\"95.410156\"/>\n      </g>\n     </g>\n    </g>\n    <g id=\"ytick_3\">\n     <g id=\"line2d_9\">\n      <g>\n       <use xlink:href=\"#mf7eee0e1d9\" x=\"30.103125\" y=\"88.203447\" style=\"stroke: #000000; stroke-width: 0.8\"/>\n      </g>\n     </g>\n     <g id=\"text_10\">\n      <!-- 1.0 -->\n      <g transform=\"translate(7.2 92.002666) scale(0.1 -0.1)\">\n       <use xlink:href=\"#DejaVuSans-31\"/>\n       <use xlink:href=\"#DejaVuSans-2e\" x=\"63.623047\"/>\n       <use xlink:href=\"#DejaVuSans-30\" x=\"95.410156\"/>\n      </g>\n     </g>\n    </g>\n    <g id=\"ytick_4\">\n     <g id=\"line2d_10\">\n      <g>\n       <use xlink:href=\"#mf7eee0e1d9\" x=\"30.103125\" y=\"59.718508\" style=\"stroke: #000000; stroke-width: 0.8\"/>\n      </g>\n     </g>\n     <g id=\"text_11\">\n      <!-- 1.5 -->\n      <g transform=\"translate(7.2 63.517726) scale(0.1 -0.1)\">\n       <use xlink:href=\"#DejaVuSans-31\"/>\n       <use xlink:href=\"#DejaVuSans-2e\" x=\"63.623047\"/>\n       <use xlink:href=\"#DejaVuSans-35\" x=\"95.410156\"/>\n      </g>\n     </g>\n    </g>\n    <g id=\"ytick_5\">\n     <g id=\"line2d_11\">\n      <g>\n       <use xlink:href=\"#mf7eee0e1d9\" x=\"30.103125\" y=\"31.233568\" style=\"stroke: #000000; stroke-width: 0.8\"/>\n      </g>\n     </g>\n     <g id=\"text_12\">\n      <!-- 2.0 -->\n      <g transform=\"translate(7.2 35.032787) scale(0.1 -0.1)\">\n       <use xlink:href=\"#DejaVuSans-32\"/>\n       <use xlink:href=\"#DejaVuSans-2e\" x=\"63.623047\"/>\n       <use xlink:href=\"#DejaVuSans-30\" x=\"95.410156\"/>\n      </g>\n     </g>\n    </g>\n   </g>\n   <g id=\"line2d_12\">\n    <path d=\"M 34.954394 13.5 \n\" clip-path=\"url(#p101a6b16f2)\" style=\"fill: none; stroke: #1f77b4; stroke-width: 1.5; stroke-linecap: square\"/>\n   </g>\n   <g id=\"line2d_13\">\n    <path d=\"M 34.954394 13.5 \nL 44.698573 13.731587 \n\" clip-path=\"url(#p101a6b16f2)\" style=\"fill: none; stroke: #1f77b4; stroke-width: 1.5; stroke-linecap: square\"/>\n   </g>\n   <g id=\"line2d_14\">\n    <path d=\"M 34.954394 13.5 \nL 44.698573 13.731587 \n\" clip-path=\"url(#p101a6b16f2)\" style=\"fill: none; stroke: #1f77b4; stroke-width: 1.5; stroke-linecap: square\"/>\n   </g>\n   <g id=\"line2d_15\">\n    <path d=\"M 49.633125 13.672697 \n\" clip-path=\"url(#p101a6b16f2)\" style=\"fill: none; stroke-dasharray: 5.55,2.4; stroke-dashoffset: 0; stroke: #ff7f0e; stroke-width: 1.5\"/>\n   </g>\n   <g id=\"line2d_16\"/>\n   <g id=\"line2d_17\">\n    <path d=\"M 34.954394 13.5 \nL 44.698573 13.731587 \n\" clip-path=\"url(#p101a6b16f2)\" style=\"fill: none; stroke: #1f77b4; stroke-width: 1.5; stroke-linecap: square\"/>\n   </g>\n   <g id=\"line2d_18\">\n    <path d=\"M 49.633125 13.672697 \n\" clip-path=\"url(#p101a6b16f2)\" style=\"fill: none; stroke-dasharray: 5.55,2.4; stroke-dashoffset: 0; stroke: #ff7f0e; stroke-width: 1.5\"/>\n   </g>\n   <g id=\"line2d_19\">\n    <path d=\"M 49.633125 139.5 \n\" clip-path=\"url(#p101a6b16f2)\" style=\"fill: none; stroke-dasharray: 9.6,2.4,1.5,2.4; stroke-dashoffset: 0; stroke: #2ca02c; stroke-width: 1.5\"/>\n   </g>\n   <g id=\"line2d_20\">\n    <path d=\"M 34.954394 13.5 \nL 44.698573 13.731587 \nL 54.442752 13.731592 \n\" clip-path=\"url(#p101a6b16f2)\" style=\"fill: none; stroke: #1f77b4; stroke-width: 1.5; stroke-linecap: square\"/>\n   </g>\n   <g id=\"line2d_21\">\n    <path d=\"M 49.633125 13.672697 \n\" clip-path=\"url(#p101a6b16f2)\" style=\"fill: none; stroke-dasharray: 5.55,2.4; stroke-dashoffset: 0; stroke: #ff7f0e; stroke-width: 1.5\"/>\n   </g>\n   <g id=\"line2d_22\">\n    <path d=\"M 49.633125 139.5 \n\" clip-path=\"url(#p101a6b16f2)\" style=\"fill: none; stroke-dasharray: 9.6,2.4,1.5,2.4; stroke-dashoffset: 0; stroke: #2ca02c; stroke-width: 1.5\"/>\n   </g>\n   <g id=\"line2d_23\">\n    <path d=\"M 34.954394 13.5 \nL 44.698573 13.731587 \nL 54.442752 13.731592 \nL 64.186931 13.778121 \n\" clip-path=\"url(#p101a6b16f2)\" style=\"fill: none; stroke: #1f77b4; stroke-width: 1.5; stroke-linecap: square\"/>\n   </g>\n   <g id=\"line2d_24\">\n    <path d=\"M 49.633125 13.672697 \n\" clip-path=\"url(#p101a6b16f2)\" style=\"fill: none; stroke-dasharray: 5.55,2.4; stroke-dashoffset: 0; stroke: #ff7f0e; stroke-width: 1.5\"/>\n   </g>\n   <g id=\"line2d_25\">\n    <path d=\"M 49.633125 139.5 \n\" clip-path=\"url(#p101a6b16f2)\" style=\"fill: none; stroke-dasharray: 9.6,2.4,1.5,2.4; stroke-dashoffset: 0; stroke: #2ca02c; stroke-width: 1.5\"/>\n   </g>\n   <g id=\"line2d_26\">\n    <path d=\"M 34.954394 13.5 \nL 44.698573 13.731587 \nL 54.442752 13.731592 \nL 64.186931 13.778121 \n\" clip-path=\"url(#p101a6b16f2)\" style=\"fill: none; stroke: #1f77b4; stroke-width: 1.5; stroke-linecap: square\"/>\n   </g>\n   <g id=\"line2d_27\">\n    <path d=\"M 49.633125 13.672697 \nL 69.163125 14.005535 \n\" clip-path=\"url(#p101a6b16f2)\" style=\"fill: none; stroke-dasharray: 5.55,2.4; stroke-dashoffset: 0; stroke: #ff7f0e; stroke-width: 1.5\"/>\n   </g>\n   <g id=\"line2d_28\">\n    <path d=\"M 49.633125 139.5 \n\" clip-path=\"url(#p101a6b16f2)\" style=\"fill: none; stroke-dasharray: 9.6,2.4,1.5,2.4; stroke-dashoffset: 0; stroke: #2ca02c; stroke-width: 1.5\"/>\n   </g>\n   <g id=\"line2d_29\">\n    <path d=\"M 34.954394 13.5 \nL 44.698573 13.731587 \nL 54.442752 13.731592 \nL 64.186931 13.778121 \n\" clip-path=\"url(#p101a6b16f2)\" style=\"fill: none; stroke: #1f77b4; stroke-width: 1.5; stroke-linecap: square\"/>\n   </g>\n   <g id=\"line2d_30\">\n    <path d=\"M 49.633125 13.672697 \nL 69.163125 14.005535 \n\" clip-path=\"url(#p101a6b16f2)\" style=\"fill: none; stroke-dasharray: 5.55,2.4; stroke-dashoffset: 0; stroke: #ff7f0e; stroke-width: 1.5\"/>\n   </g>\n   <g id=\"line2d_31\">\n    <path d=\"M 49.633125 139.5 \nL 69.163125 139.5 \n\" clip-path=\"url(#p101a6b16f2)\" style=\"fill: none; stroke-dasharray: 9.6,2.4,1.5,2.4; stroke-dashoffset: 0; stroke: #2ca02c; stroke-width: 1.5\"/>\n   </g>\n   <g id=\"line2d_32\">\n    <path d=\"M 34.954394 13.5 \nL 44.698573 13.731587 \nL 54.442752 13.731592 \nL 64.186931 13.778121 \nL 73.93111 13.978567 \n\" clip-path=\"url(#p101a6b16f2)\" style=\"fill: none; stroke: #1f77b4; stroke-width: 1.5; stroke-linecap: square\"/>\n   </g>\n   <g id=\"line2d_33\">\n    <path d=\"M 49.633125 13.672697 \nL 69.163125 14.005535 \n\" clip-path=\"url(#p101a6b16f2)\" style=\"fill: none; stroke-dasharray: 5.55,2.4; stroke-dashoffset: 0; stroke: #ff7f0e; stroke-width: 1.5\"/>\n   </g>\n   <g id=\"line2d_34\">\n    <path d=\"M 49.633125 139.5 \nL 69.163125 139.5 \n\" clip-path=\"url(#p101a6b16f2)\" style=\"fill: none; stroke-dasharray: 9.6,2.4,1.5,2.4; stroke-dashoffset: 0; stroke: #2ca02c; stroke-width: 1.5\"/>\n   </g>\n   <g id=\"line2d_35\">\n    <path d=\"M 34.954394 13.5 \nL 44.698573 13.731587 \nL 54.442752 13.731592 \nL 64.186931 13.778121 \nL 73.93111 13.978567 \nL 83.675289 14.676528 \n\" clip-path=\"url(#p101a6b16f2)\" style=\"fill: none; stroke: #1f77b4; stroke-width: 1.5; stroke-linecap: square\"/>\n   </g>\n   <g id=\"line2d_36\">\n    <path d=\"M 49.633125 13.672697 \nL 69.163125 14.005535 \n\" clip-path=\"url(#p101a6b16f2)\" style=\"fill: none; stroke-dasharray: 5.55,2.4; stroke-dashoffset: 0; stroke: #ff7f0e; stroke-width: 1.5\"/>\n   </g>\n   <g id=\"line2d_37\">\n    <path d=\"M 49.633125 139.5 \nL 69.163125 139.5 \n\" clip-path=\"url(#p101a6b16f2)\" style=\"fill: none; stroke-dasharray: 9.6,2.4,1.5,2.4; stroke-dashoffset: 0; stroke: #2ca02c; stroke-width: 1.5\"/>\n   </g>\n   <g id=\"line2d_38\">\n    <path d=\"M 34.954394 13.5 \nL 44.698573 13.731587 \nL 54.442752 13.731592 \nL 64.186931 13.778121 \nL 73.93111 13.978567 \nL 83.675289 14.676528 \n\" clip-path=\"url(#p101a6b16f2)\" style=\"fill: none; stroke: #1f77b4; stroke-width: 1.5; stroke-linecap: square\"/>\n   </g>\n   <g id=\"line2d_39\">\n    <path d=\"M 49.633125 13.672697 \nL 69.163125 14.005535 \nL 88.693125 15.986895 \n\" clip-path=\"url(#p101a6b16f2)\" style=\"fill: none; stroke-dasharray: 5.55,2.4; stroke-dashoffset: 0; stroke: #ff7f0e; stroke-width: 1.5\"/>\n   </g>\n   <g id=\"line2d_40\">\n    <path d=\"M 49.633125 139.5 \nL 69.163125 139.5 \n\" clip-path=\"url(#p101a6b16f2)\" style=\"fill: none; stroke-dasharray: 9.6,2.4,1.5,2.4; stroke-dashoffset: 0; stroke: #2ca02c; stroke-width: 1.5\"/>\n   </g>\n   <g id=\"line2d_41\">\n    <path d=\"M 34.954394 13.5 \nL 44.698573 13.731587 \nL 54.442752 13.731592 \nL 64.186931 13.778121 \nL 73.93111 13.978567 \nL 83.675289 14.676528 \n\" clip-path=\"url(#p101a6b16f2)\" style=\"fill: none; stroke: #1f77b4; stroke-width: 1.5; stroke-linecap: square\"/>\n   </g>\n   <g id=\"line2d_42\">\n    <path d=\"M 49.633125 13.672697 \nL 69.163125 14.005535 \nL 88.693125 15.986895 \n\" clip-path=\"url(#p101a6b16f2)\" style=\"fill: none; stroke-dasharray: 5.55,2.4; stroke-dashoffset: 0; stroke: #ff7f0e; stroke-width: 1.5\"/>\n   </g>\n   <g id=\"line2d_43\">\n    <path d=\"M 49.633125 139.5 \nL 69.163125 139.5 \nL 88.693125 132.902717 \n\" clip-path=\"url(#p101a6b16f2)\" style=\"fill: none; stroke-dasharray: 9.6,2.4,1.5,2.4; stroke-dashoffset: 0; stroke: #2ca02c; stroke-width: 1.5\"/>\n   </g>\n   <g id=\"line2d_44\">\n    <path d=\"M 34.954394 13.5 \nL 44.698573 13.731587 \nL 54.442752 13.731592 \nL 64.186931 13.778121 \nL 73.93111 13.978567 \nL 83.675289 14.676528 \nL 93.419468 23.4675 \n\" clip-path=\"url(#p101a6b16f2)\" style=\"fill: none; stroke: #1f77b4; stroke-width: 1.5; stroke-linecap: square\"/>\n   </g>\n   <g id=\"line2d_45\">\n    <path d=\"M 49.633125 13.672697 \nL 69.163125 14.005535 \nL 88.693125 15.986895 \n\" clip-path=\"url(#p101a6b16f2)\" style=\"fill: none; stroke-dasharray: 5.55,2.4; stroke-dashoffset: 0; stroke: #ff7f0e; stroke-width: 1.5\"/>\n   </g>\n   <g id=\"line2d_46\">\n    <path d=\"M 49.633125 139.5 \nL 69.163125 139.5 \nL 88.693125 132.902717 \n\" clip-path=\"url(#p101a6b16f2)\" style=\"fill: none; stroke-dasharray: 9.6,2.4,1.5,2.4; stroke-dashoffset: 0; stroke: #2ca02c; stroke-width: 1.5\"/>\n   </g>\n   <g id=\"line2d_47\">\n    <path d=\"M 34.954394 13.5 \nL 44.698573 13.731587 \nL 54.442752 13.731592 \nL 64.186931 13.778121 \nL 73.93111 13.978567 \nL 83.675289 14.676528 \nL 93.419468 23.4675 \nL 103.163647 59.533817 \n\" clip-path=\"url(#p101a6b16f2)\" style=\"fill: none; stroke: #1f77b4; stroke-width: 1.5; stroke-linecap: square\"/>\n   </g>\n   <g id=\"line2d_48\">\n    <path d=\"M 49.633125 13.672697 \nL 69.163125 14.005535 \nL 88.693125 15.986895 \n\" clip-path=\"url(#p101a6b16f2)\" style=\"fill: none; stroke-dasharray: 5.55,2.4; stroke-dashoffset: 0; stroke: #ff7f0e; stroke-width: 1.5\"/>\n   </g>\n   <g id=\"line2d_49\">\n    <path d=\"M 49.633125 139.5 \nL 69.163125 139.5 \nL 88.693125 132.902717 \n\" clip-path=\"url(#p101a6b16f2)\" style=\"fill: none; stroke-dasharray: 9.6,2.4,1.5,2.4; stroke-dashoffset: 0; stroke: #2ca02c; stroke-width: 1.5\"/>\n   </g>\n   <g id=\"line2d_50\">\n    <path d=\"M 34.954394 13.5 \nL 44.698573 13.731587 \nL 54.442752 13.731592 \nL 64.186931 13.778121 \nL 73.93111 13.978567 \nL 83.675289 14.676528 \nL 93.419468 23.4675 \nL 103.163647 59.533817 \n\" clip-path=\"url(#p101a6b16f2)\" style=\"fill: none; stroke: #1f77b4; stroke-width: 1.5; stroke-linecap: square\"/>\n   </g>\n   <g id=\"line2d_51\">\n    <path d=\"M 49.633125 13.672697 \nL 69.163125 14.005535 \nL 88.693125 15.986895 \nL 108.223125 71.264501 \n\" clip-path=\"url(#p101a6b16f2)\" style=\"fill: none; stroke-dasharray: 5.55,2.4; stroke-dashoffset: 0; stroke: #ff7f0e; stroke-width: 1.5\"/>\n   </g>\n   <g id=\"line2d_52\">\n    <path d=\"M 49.633125 139.5 \nL 69.163125 139.5 \nL 88.693125 132.902717 \n\" clip-path=\"url(#p101a6b16f2)\" style=\"fill: none; stroke-dasharray: 9.6,2.4,1.5,2.4; stroke-dashoffset: 0; stroke: #2ca02c; stroke-width: 1.5\"/>\n   </g>\n   <g id=\"line2d_53\">\n    <path d=\"M 34.954394 13.5 \nL 44.698573 13.731587 \nL 54.442752 13.731592 \nL 64.186931 13.778121 \nL 73.93111 13.978567 \nL 83.675289 14.676528 \nL 93.419468 23.4675 \nL 103.163647 59.533817 \n\" clip-path=\"url(#p101a6b16f2)\" style=\"fill: none; stroke: #1f77b4; stroke-width: 1.5; stroke-linecap: square\"/>\n   </g>\n   <g id=\"line2d_54\">\n    <path d=\"M 49.633125 13.672697 \nL 69.163125 14.005535 \nL 88.693125 15.986895 \nL 108.223125 71.264501 \n\" clip-path=\"url(#p101a6b16f2)\" style=\"fill: none; stroke-dasharray: 5.55,2.4; stroke-dashoffset: 0; stroke: #ff7f0e; stroke-width: 1.5\"/>\n   </g>\n   <g id=\"line2d_55\">\n    <path d=\"M 49.633125 139.5 \nL 69.163125 139.5 \nL 88.693125 132.902717 \nL 108.223125 114.451733 \n\" clip-path=\"url(#p101a6b16f2)\" style=\"fill: none; stroke-dasharray: 9.6,2.4,1.5,2.4; stroke-dashoffset: 0; stroke: #2ca02c; stroke-width: 1.5\"/>\n   </g>\n   <g id=\"line2d_56\">\n    <path d=\"M 34.954394 13.5 \nL 44.698573 13.731587 \nL 54.442752 13.731592 \nL 64.186931 13.778121 \nL 73.93111 13.978567 \nL 83.675289 14.676528 \nL 93.419468 23.4675 \nL 103.163647 59.533817 \nL 112.907826 76.240603 \n\" clip-path=\"url(#p101a6b16f2)\" style=\"fill: none; stroke: #1f77b4; stroke-width: 1.5; stroke-linecap: square\"/>\n   </g>\n   <g id=\"line2d_57\">\n    <path d=\"M 49.633125 13.672697 \nL 69.163125 14.005535 \nL 88.693125 15.986895 \nL 108.223125 71.264501 \n\" clip-path=\"url(#p101a6b16f2)\" style=\"fill: none; stroke-dasharray: 5.55,2.4; stroke-dashoffset: 0; stroke: #ff7f0e; stroke-width: 1.5\"/>\n   </g>\n   <g id=\"line2d_58\">\n    <path d=\"M 49.633125 139.5 \nL 69.163125 139.5 \nL 88.693125 132.902717 \nL 108.223125 114.451733 \n\" clip-path=\"url(#p101a6b16f2)\" style=\"fill: none; stroke-dasharray: 9.6,2.4,1.5,2.4; stroke-dashoffset: 0; stroke: #2ca02c; stroke-width: 1.5\"/>\n   </g>\n   <g id=\"line2d_59\">\n    <path d=\"M 34.954394 13.5 \nL 44.698573 13.731587 \nL 54.442752 13.731592 \nL 64.186931 13.778121 \nL 73.93111 13.978567 \nL 83.675289 14.676528 \nL 93.419468 23.4675 \nL 103.163647 59.533817 \nL 112.907826 76.240603 \nL 122.652006 83.545142 \n\" clip-path=\"url(#p101a6b16f2)\" style=\"fill: none; stroke: #1f77b4; stroke-width: 1.5; stroke-linecap: square\"/>\n   </g>\n   <g id=\"line2d_60\">\n    <path d=\"M 49.633125 13.672697 \nL 69.163125 14.005535 \nL 88.693125 15.986895 \nL 108.223125 71.264501 \n\" clip-path=\"url(#p101a6b16f2)\" style=\"fill: none; stroke-dasharray: 5.55,2.4; stroke-dashoffset: 0; stroke: #ff7f0e; stroke-width: 1.5\"/>\n   </g>\n   <g id=\"line2d_61\">\n    <path d=\"M 49.633125 139.5 \nL 69.163125 139.5 \nL 88.693125 132.902717 \nL 108.223125 114.451733 \n\" clip-path=\"url(#p101a6b16f2)\" style=\"fill: none; stroke-dasharray: 9.6,2.4,1.5,2.4; stroke-dashoffset: 0; stroke: #2ca02c; stroke-width: 1.5\"/>\n   </g>\n   <g id=\"line2d_62\">\n    <path d=\"M 34.954394 13.5 \nL 44.698573 13.731587 \nL 54.442752 13.731592 \nL 64.186931 13.778121 \nL 73.93111 13.978567 \nL 83.675289 14.676528 \nL 93.419468 23.4675 \nL 103.163647 59.533817 \nL 112.907826 76.240603 \nL 122.652006 83.545142 \n\" clip-path=\"url(#p101a6b16f2)\" style=\"fill: none; stroke: #1f77b4; stroke-width: 1.5; stroke-linecap: square\"/>\n   </g>\n   <g id=\"line2d_63\">\n    <path d=\"M 49.633125 13.672697 \nL 69.163125 14.005535 \nL 88.693125 15.986895 \nL 108.223125 71.264501 \nL 127.753125 86.425804 \n\" clip-path=\"url(#p101a6b16f2)\" style=\"fill: none; stroke-dasharray: 5.55,2.4; stroke-dashoffset: 0; stroke: #ff7f0e; stroke-width: 1.5\"/>\n   </g>\n   <g id=\"line2d_64\">\n    <path d=\"M 49.633125 139.5 \nL 69.163125 139.5 \nL 88.693125 132.902717 \nL 108.223125 114.451733 \n\" clip-path=\"url(#p101a6b16f2)\" style=\"fill: none; stroke-dasharray: 9.6,2.4,1.5,2.4; stroke-dashoffset: 0; stroke: #2ca02c; stroke-width: 1.5\"/>\n   </g>\n   <g id=\"line2d_65\">\n    <path d=\"M 34.954394 13.5 \nL 44.698573 13.731587 \nL 54.442752 13.731592 \nL 64.186931 13.778121 \nL 73.93111 13.978567 \nL 83.675289 14.676528 \nL 93.419468 23.4675 \nL 103.163647 59.533817 \nL 112.907826 76.240603 \nL 122.652006 83.545142 \n\" clip-path=\"url(#p101a6b16f2)\" style=\"fill: none; stroke: #1f77b4; stroke-width: 1.5; stroke-linecap: square\"/>\n   </g>\n   <g id=\"line2d_66\">\n    <path d=\"M 49.633125 13.672697 \nL 69.163125 14.005535 \nL 88.693125 15.986895 \nL 108.223125 71.264501 \nL 127.753125 86.425804 \n\" clip-path=\"url(#p101a6b16f2)\" style=\"fill: none; stroke-dasharray: 5.55,2.4; stroke-dashoffset: 0; stroke: #ff7f0e; stroke-width: 1.5\"/>\n   </g>\n   <g id=\"line2d_67\">\n    <path d=\"M 49.633125 139.5 \nL 69.163125 139.5 \nL 88.693125 132.902717 \nL 108.223125 114.451733 \nL 127.753125 109.538982 \n\" clip-path=\"url(#p101a6b16f2)\" style=\"fill: none; stroke-dasharray: 9.6,2.4,1.5,2.4; stroke-dashoffset: 0; stroke: #2ca02c; stroke-width: 1.5\"/>\n   </g>\n   <g id=\"line2d_68\">\n    <path d=\"M 34.954394 13.5 \nL 44.698573 13.731587 \nL 54.442752 13.731592 \nL 64.186931 13.778121 \nL 73.93111 13.978567 \nL 83.675289 14.676528 \nL 93.419468 23.4675 \nL 103.163647 59.533817 \nL 112.907826 76.240603 \nL 122.652006 83.545142 \nL 132.396185 88.84814 \n\" clip-path=\"url(#p101a6b16f2)\" style=\"fill: none; stroke: #1f77b4; stroke-width: 1.5; stroke-linecap: square\"/>\n   </g>\n   <g id=\"line2d_69\">\n    <path d=\"M 49.633125 13.672697 \nL 69.163125 14.005535 \nL 88.693125 15.986895 \nL 108.223125 71.264501 \nL 127.753125 86.425804 \n\" clip-path=\"url(#p101a6b16f2)\" style=\"fill: none; stroke-dasharray: 5.55,2.4; stroke-dashoffset: 0; stroke: #ff7f0e; stroke-width: 1.5\"/>\n   </g>\n   <g id=\"line2d_70\">\n    <path d=\"M 49.633125 139.5 \nL 69.163125 139.5 \nL 88.693125 132.902717 \nL 108.223125 114.451733 \nL 127.753125 109.538982 \n\" clip-path=\"url(#p101a6b16f2)\" style=\"fill: none; stroke-dasharray: 9.6,2.4,1.5,2.4; stroke-dashoffset: 0; stroke: #2ca02c; stroke-width: 1.5\"/>\n   </g>\n   <g id=\"line2d_71\">\n    <path d=\"M 34.954394 13.5 \nL 44.698573 13.731587 \nL 54.442752 13.731592 \nL 64.186931 13.778121 \nL 73.93111 13.978567 \nL 83.675289 14.676528 \nL 93.419468 23.4675 \nL 103.163647 59.533817 \nL 112.907826 76.240603 \nL 122.652006 83.545142 \nL 132.396185 88.84814 \nL 142.140364 92.793806 \n\" clip-path=\"url(#p101a6b16f2)\" style=\"fill: none; stroke: #1f77b4; stroke-width: 1.5; stroke-linecap: square\"/>\n   </g>\n   <g id=\"line2d_72\">\n    <path d=\"M 49.633125 13.672697 \nL 69.163125 14.005535 \nL 88.693125 15.986895 \nL 108.223125 71.264501 \nL 127.753125 86.425804 \n\" clip-path=\"url(#p101a6b16f2)\" style=\"fill: none; stroke-dasharray: 5.55,2.4; stroke-dashoffset: 0; stroke: #ff7f0e; stroke-width: 1.5\"/>\n   </g>\n   <g id=\"line2d_73\">\n    <path d=\"M 49.633125 139.5 \nL 69.163125 139.5 \nL 88.693125 132.902717 \nL 108.223125 114.451733 \nL 127.753125 109.538982 \n\" clip-path=\"url(#p101a6b16f2)\" style=\"fill: none; stroke-dasharray: 9.6,2.4,1.5,2.4; stroke-dashoffset: 0; stroke: #2ca02c; stroke-width: 1.5\"/>\n   </g>\n   <g id=\"line2d_74\">\n    <path d=\"M 34.954394 13.5 \nL 44.698573 13.731587 \nL 54.442752 13.731592 \nL 64.186931 13.778121 \nL 73.93111 13.978567 \nL 83.675289 14.676528 \nL 93.419468 23.4675 \nL 103.163647 59.533817 \nL 112.907826 76.240603 \nL 122.652006 83.545142 \nL 132.396185 88.84814 \nL 142.140364 92.793806 \n\" clip-path=\"url(#p101a6b16f2)\" style=\"fill: none; stroke: #1f77b4; stroke-width: 1.5; stroke-linecap: square\"/>\n   </g>\n   <g id=\"line2d_75\">\n    <path d=\"M 49.633125 13.672697 \nL 69.163125 14.005535 \nL 88.693125 15.986895 \nL 108.223125 71.264501 \nL 127.753125 86.425804 \nL 147.283125 94.151529 \n\" clip-path=\"url(#p101a6b16f2)\" style=\"fill: none; stroke-dasharray: 5.55,2.4; stroke-dashoffset: 0; stroke: #ff7f0e; stroke-width: 1.5\"/>\n   </g>\n   <g id=\"line2d_76\">\n    <path d=\"M 49.633125 139.5 \nL 69.163125 139.5 \nL 88.693125 132.902717 \nL 108.223125 114.451733 \nL 127.753125 109.538982 \n\" clip-path=\"url(#p101a6b16f2)\" style=\"fill: none; stroke-dasharray: 9.6,2.4,1.5,2.4; stroke-dashoffset: 0; stroke: #2ca02c; stroke-width: 1.5\"/>\n   </g>\n   <g id=\"line2d_77\">\n    <path d=\"M 34.954394 13.5 \nL 44.698573 13.731587 \nL 54.442752 13.731592 \nL 64.186931 13.778121 \nL 73.93111 13.978567 \nL 83.675289 14.676528 \nL 93.419468 23.4675 \nL 103.163647 59.533817 \nL 112.907826 76.240603 \nL 122.652006 83.545142 \nL 132.396185 88.84814 \nL 142.140364 92.793806 \n\" clip-path=\"url(#p101a6b16f2)\" style=\"fill: none; stroke: #1f77b4; stroke-width: 1.5; stroke-linecap: square\"/>\n   </g>\n   <g id=\"line2d_78\">\n    <path d=\"M 49.633125 13.672697 \nL 69.163125 14.005535 \nL 88.693125 15.986895 \nL 108.223125 71.264501 \nL 127.753125 86.425804 \nL 147.283125 94.151529 \n\" clip-path=\"url(#p101a6b16f2)\" style=\"fill: none; stroke-dasharray: 5.55,2.4; stroke-dashoffset: 0; stroke: #ff7f0e; stroke-width: 1.5\"/>\n   </g>\n   <g id=\"line2d_79\">\n    <path d=\"M 49.633125 139.5 \nL 69.163125 139.5 \nL 88.693125 132.902717 \nL 108.223125 114.451733 \nL 127.753125 109.538982 \nL 147.283125 107.268525 \n\" clip-path=\"url(#p101a6b16f2)\" style=\"fill: none; stroke-dasharray: 9.6,2.4,1.5,2.4; stroke-dashoffset: 0; stroke: #2ca02c; stroke-width: 1.5\"/>\n   </g>\n   <g id=\"line2d_80\">\n    <path d=\"M 34.954394 13.5 \nL 44.698573 13.731587 \nL 54.442752 13.731592 \nL 64.186931 13.778121 \nL 73.93111 13.978567 \nL 83.675289 14.676528 \nL 93.419468 23.4675 \nL 103.163647 59.533817 \nL 112.907826 76.240603 \nL 122.652006 83.545142 \nL 132.396185 88.84814 \nL 142.140364 92.793806 \nL 151.884543 95.573558 \n\" clip-path=\"url(#p101a6b16f2)\" style=\"fill: none; stroke: #1f77b4; stroke-width: 1.5; stroke-linecap: square\"/>\n   </g>\n   <g id=\"line2d_81\">\n    <path d=\"M 49.633125 13.672697 \nL 69.163125 14.005535 \nL 88.693125 15.986895 \nL 108.223125 71.264501 \nL 127.753125 86.425804 \nL 147.283125 94.151529 \n\" clip-path=\"url(#p101a6b16f2)\" style=\"fill: none; stroke-dasharray: 5.55,2.4; stroke-dashoffset: 0; stroke: #ff7f0e; stroke-width: 1.5\"/>\n   </g>\n   <g id=\"line2d_82\">\n    <path d=\"M 49.633125 139.5 \nL 69.163125 139.5 \nL 88.693125 132.902717 \nL 108.223125 114.451733 \nL 127.753125 109.538982 \nL 147.283125 107.268525 \n\" clip-path=\"url(#p101a6b16f2)\" style=\"fill: none; stroke-dasharray: 9.6,2.4,1.5,2.4; stroke-dashoffset: 0; stroke: #2ca02c; stroke-width: 1.5\"/>\n   </g>\n   <g id=\"line2d_83\">\n    <path d=\"M 34.954394 13.5 \nL 44.698573 13.731587 \nL 54.442752 13.731592 \nL 64.186931 13.778121 \nL 73.93111 13.978567 \nL 83.675289 14.676528 \nL 93.419468 23.4675 \nL 103.163647 59.533817 \nL 112.907826 76.240603 \nL 122.652006 83.545142 \nL 132.396185 88.84814 \nL 142.140364 92.793806 \nL 151.884543 95.573558 \nL 161.628722 97.785116 \n\" clip-path=\"url(#p101a6b16f2)\" style=\"fill: none; stroke: #1f77b4; stroke-width: 1.5; stroke-linecap: square\"/>\n   </g>\n   <g id=\"line2d_84\">\n    <path d=\"M 49.633125 13.672697 \nL 69.163125 14.005535 \nL 88.693125 15.986895 \nL 108.223125 71.264501 \nL 127.753125 86.425804 \nL 147.283125 94.151529 \n\" clip-path=\"url(#p101a6b16f2)\" style=\"fill: none; stroke-dasharray: 5.55,2.4; stroke-dashoffset: 0; stroke: #ff7f0e; stroke-width: 1.5\"/>\n   </g>\n   <g id=\"line2d_85\">\n    <path d=\"M 49.633125 139.5 \nL 69.163125 139.5 \nL 88.693125 132.902717 \nL 108.223125 114.451733 \nL 127.753125 109.538982 \nL 147.283125 107.268525 \n\" clip-path=\"url(#p101a6b16f2)\" style=\"fill: none; stroke-dasharray: 9.6,2.4,1.5,2.4; stroke-dashoffset: 0; stroke: #2ca02c; stroke-width: 1.5\"/>\n   </g>\n   <g id=\"line2d_86\">\n    <path d=\"M 34.954394 13.5 \nL 44.698573 13.731587 \nL 54.442752 13.731592 \nL 64.186931 13.778121 \nL 73.93111 13.978567 \nL 83.675289 14.676528 \nL 93.419468 23.4675 \nL 103.163647 59.533817 \nL 112.907826 76.240603 \nL 122.652006 83.545142 \nL 132.396185 88.84814 \nL 142.140364 92.793806 \nL 151.884543 95.573558 \nL 161.628722 97.785116 \n\" clip-path=\"url(#p101a6b16f2)\" style=\"fill: none; stroke: #1f77b4; stroke-width: 1.5; stroke-linecap: square\"/>\n   </g>\n   <g id=\"line2d_87\">\n    <path d=\"M 49.633125 13.672697 \nL 69.163125 14.005535 \nL 88.693125 15.986895 \nL 108.223125 71.264501 \nL 127.753125 86.425804 \nL 147.283125 94.151529 \nL 166.813125 98.522699 \n\" clip-path=\"url(#p101a6b16f2)\" style=\"fill: none; stroke-dasharray: 5.55,2.4; stroke-dashoffset: 0; stroke: #ff7f0e; stroke-width: 1.5\"/>\n   </g>\n   <g id=\"line2d_88\">\n    <path d=\"M 49.633125 139.5 \nL 69.163125 139.5 \nL 88.693125 132.902717 \nL 108.223125 114.451733 \nL 127.753125 109.538982 \nL 147.283125 107.268525 \n\" clip-path=\"url(#p101a6b16f2)\" style=\"fill: none; stroke-dasharray: 9.6,2.4,1.5,2.4; stroke-dashoffset: 0; stroke: #2ca02c; stroke-width: 1.5\"/>\n   </g>\n   <g id=\"line2d_89\">\n    <path d=\"M 34.954394 13.5 \nL 44.698573 13.731587 \nL 54.442752 13.731592 \nL 64.186931 13.778121 \nL 73.93111 13.978567 \nL 83.675289 14.676528 \nL 93.419468 23.4675 \nL 103.163647 59.533817 \nL 112.907826 76.240603 \nL 122.652006 83.545142 \nL 132.396185 88.84814 \nL 142.140364 92.793806 \nL 151.884543 95.573558 \nL 161.628722 97.785116 \n\" clip-path=\"url(#p101a6b16f2)\" style=\"fill: none; stroke: #1f77b4; stroke-width: 1.5; stroke-linecap: square\"/>\n   </g>\n   <g id=\"line2d_90\">\n    <path d=\"M 49.633125 13.672697 \nL 69.163125 14.005535 \nL 88.693125 15.986895 \nL 108.223125 71.264501 \nL 127.753125 86.425804 \nL 147.283125 94.151529 \nL 166.813125 98.522699 \n\" clip-path=\"url(#p101a6b16f2)\" style=\"fill: none; stroke-dasharray: 5.55,2.4; stroke-dashoffset: 0; stroke: #ff7f0e; stroke-width: 1.5\"/>\n   </g>\n   <g id=\"line2d_91\">\n    <path d=\"M 49.633125 139.5 \nL 69.163125 139.5 \nL 88.693125 132.902717 \nL 108.223125 114.451733 \nL 127.753125 109.538982 \nL 147.283125 107.268525 \nL 166.813125 105.178352 \n\" clip-path=\"url(#p101a6b16f2)\" style=\"fill: none; stroke-dasharray: 9.6,2.4,1.5,2.4; stroke-dashoffset: 0; stroke: #2ca02c; stroke-width: 1.5\"/>\n   </g>\n   <g id=\"line2d_92\">\n    <path d=\"M 34.954394 13.5 \nL 44.698573 13.731587 \nL 54.442752 13.731592 \nL 64.186931 13.778121 \nL 73.93111 13.978567 \nL 83.675289 14.676528 \nL 93.419468 23.4675 \nL 103.163647 59.533817 \nL 112.907826 76.240603 \nL 122.652006 83.545142 \nL 132.396185 88.84814 \nL 142.140364 92.793806 \nL 151.884543 95.573558 \nL 161.628722 97.785116 \nL 171.372901 99.873417 \n\" clip-path=\"url(#p101a6b16f2)\" style=\"fill: none; stroke: #1f77b4; stroke-width: 1.5; stroke-linecap: square\"/>\n   </g>\n   <g id=\"line2d_93\">\n    <path d=\"M 49.633125 13.672697 \nL 69.163125 14.005535 \nL 88.693125 15.986895 \nL 108.223125 71.264501 \nL 127.753125 86.425804 \nL 147.283125 94.151529 \nL 166.813125 98.522699 \n\" clip-path=\"url(#p101a6b16f2)\" style=\"fill: none; stroke-dasharray: 5.55,2.4; stroke-dashoffset: 0; stroke: #ff7f0e; stroke-width: 1.5\"/>\n   </g>\n   <g id=\"line2d_94\">\n    <path d=\"M 49.633125 139.5 \nL 69.163125 139.5 \nL 88.693125 132.902717 \nL 108.223125 114.451733 \nL 127.753125 109.538982 \nL 147.283125 107.268525 \nL 166.813125 105.178352 \n\" clip-path=\"url(#p101a6b16f2)\" style=\"fill: none; stroke-dasharray: 9.6,2.4,1.5,2.4; stroke-dashoffset: 0; stroke: #2ca02c; stroke-width: 1.5\"/>\n   </g>\n   <g id=\"line2d_95\">\n    <path d=\"M 34.954394 13.5 \nL 44.698573 13.731587 \nL 54.442752 13.731592 \nL 64.186931 13.778121 \nL 73.93111 13.978567 \nL 83.675289 14.676528 \nL 93.419468 23.4675 \nL 103.163647 59.533817 \nL 112.907826 76.240603 \nL 122.652006 83.545142 \nL 132.396185 88.84814 \nL 142.140364 92.793806 \nL 151.884543 95.573558 \nL 161.628722 97.785116 \nL 171.372901 99.873417 \nL 181.11708 101.957396 \n\" clip-path=\"url(#p101a6b16f2)\" style=\"fill: none; stroke: #1f77b4; stroke-width: 1.5; stroke-linecap: square\"/>\n   </g>\n   <g id=\"line2d_96\">\n    <path d=\"M 49.633125 13.672697 \nL 69.163125 14.005535 \nL 88.693125 15.986895 \nL 108.223125 71.264501 \nL 127.753125 86.425804 \nL 147.283125 94.151529 \nL 166.813125 98.522699 \n\" clip-path=\"url(#p101a6b16f2)\" style=\"fill: none; stroke-dasharray: 5.55,2.4; stroke-dashoffset: 0; stroke: #ff7f0e; stroke-width: 1.5\"/>\n   </g>\n   <g id=\"line2d_97\">\n    <path d=\"M 49.633125 139.5 \nL 69.163125 139.5 \nL 88.693125 132.902717 \nL 108.223125 114.451733 \nL 127.753125 109.538982 \nL 147.283125 107.268525 \nL 166.813125 105.178352 \n\" clip-path=\"url(#p101a6b16f2)\" style=\"fill: none; stroke-dasharray: 9.6,2.4,1.5,2.4; stroke-dashoffset: 0; stroke: #2ca02c; stroke-width: 1.5\"/>\n   </g>\n   <g id=\"line2d_98\">\n    <path d=\"M 34.954394 13.5 \nL 44.698573 13.731587 \nL 54.442752 13.731592 \nL 64.186931 13.778121 \nL 73.93111 13.978567 \nL 83.675289 14.676528 \nL 93.419468 23.4675 \nL 103.163647 59.533817 \nL 112.907826 76.240603 \nL 122.652006 83.545142 \nL 132.396185 88.84814 \nL 142.140364 92.793806 \nL 151.884543 95.573558 \nL 161.628722 97.785116 \nL 171.372901 99.873417 \nL 181.11708 101.957396 \n\" clip-path=\"url(#p101a6b16f2)\" style=\"fill: none; stroke: #1f77b4; stroke-width: 1.5; stroke-linecap: square\"/>\n   </g>\n   <g id=\"line2d_99\">\n    <path d=\"M 49.633125 13.672697 \nL 69.163125 14.005535 \nL 88.693125 15.986895 \nL 108.223125 71.264501 \nL 127.753125 86.425804 \nL 147.283125 94.151529 \nL 166.813125 98.522699 \nL 186.343125 102.141072 \n\" clip-path=\"url(#p101a6b16f2)\" style=\"fill: none; stroke-dasharray: 5.55,2.4; stroke-dashoffset: 0; stroke: #ff7f0e; stroke-width: 1.5\"/>\n   </g>\n   <g id=\"line2d_100\">\n    <path d=\"M 49.633125 139.5 \nL 69.163125 139.5 \nL 88.693125 132.902717 \nL 108.223125 114.451733 \nL 127.753125 109.538982 \nL 147.283125 107.268525 \nL 166.813125 105.178352 \n\" clip-path=\"url(#p101a6b16f2)\" style=\"fill: none; stroke-dasharray: 9.6,2.4,1.5,2.4; stroke-dashoffset: 0; stroke: #2ca02c; stroke-width: 1.5\"/>\n   </g>\n   <g id=\"line2d_101\">\n    <path d=\"M 34.954394 13.5 \nL 44.698573 13.731587 \nL 54.442752 13.731592 \nL 64.186931 13.778121 \nL 73.93111 13.978567 \nL 83.675289 14.676528 \nL 93.419468 23.4675 \nL 103.163647 59.533817 \nL 112.907826 76.240603 \nL 122.652006 83.545142 \nL 132.396185 88.84814 \nL 142.140364 92.793806 \nL 151.884543 95.573558 \nL 161.628722 97.785116 \nL 171.372901 99.873417 \nL 181.11708 101.957396 \n\" clip-path=\"url(#p101a6b16f2)\" style=\"fill: none; stroke: #1f77b4; stroke-width: 1.5; stroke-linecap: square\"/>\n   </g>\n   <g id=\"line2d_102\">\n    <path d=\"M 49.633125 13.672697 \nL 69.163125 14.005535 \nL 88.693125 15.986895 \nL 108.223125 71.264501 \nL 127.753125 86.425804 \nL 147.283125 94.151529 \nL 166.813125 98.522699 \nL 186.343125 102.141072 \n\" clip-path=\"url(#p101a6b16f2)\" style=\"fill: none; stroke-dasharray: 5.55,2.4; stroke-dashoffset: 0; stroke: #ff7f0e; stroke-width: 1.5\"/>\n   </g>\n   <g id=\"line2d_103\">\n    <path d=\"M 49.633125 139.5 \nL 69.163125 139.5 \nL 88.693125 132.902717 \nL 108.223125 114.451733 \nL 127.753125 109.538982 \nL 147.283125 107.268525 \nL 166.813125 105.178352 \nL 186.343125 104.07411 \n\" clip-path=\"url(#p101a6b16f2)\" style=\"fill: none; stroke-dasharray: 9.6,2.4,1.5,2.4; stroke-dashoffset: 0; stroke: #2ca02c; stroke-width: 1.5\"/>\n   </g>\n   <g id=\"line2d_104\">\n    <path d=\"M 34.954394 13.5 \nL 44.698573 13.731587 \nL 54.442752 13.731592 \nL 64.186931 13.778121 \nL 73.93111 13.978567 \nL 83.675289 14.676528 \nL 93.419468 23.4675 \nL 103.163647 59.533817 \nL 112.907826 76.240603 \nL 122.652006 83.545142 \nL 132.396185 88.84814 \nL 142.140364 92.793806 \nL 151.884543 95.573558 \nL 161.628722 97.785116 \nL 171.372901 99.873417 \nL 181.11708 101.957396 \nL 190.861259 103.407842 \n\" clip-path=\"url(#p101a6b16f2)\" style=\"fill: none; stroke: #1f77b4; stroke-width: 1.5; stroke-linecap: square\"/>\n   </g>\n   <g id=\"line2d_105\">\n    <path d=\"M 49.633125 13.672697 \nL 69.163125 14.005535 \nL 88.693125 15.986895 \nL 108.223125 71.264501 \nL 127.753125 86.425804 \nL 147.283125 94.151529 \nL 166.813125 98.522699 \nL 186.343125 102.141072 \n\" clip-path=\"url(#p101a6b16f2)\" style=\"fill: none; stroke-dasharray: 5.55,2.4; stroke-dashoffset: 0; stroke: #ff7f0e; stroke-width: 1.5\"/>\n   </g>\n   <g id=\"line2d_106\">\n    <path d=\"M 49.633125 139.5 \nL 69.163125 139.5 \nL 88.693125 132.902717 \nL 108.223125 114.451733 \nL 127.753125 109.538982 \nL 147.283125 107.268525 \nL 166.813125 105.178352 \nL 186.343125 104.07411 \n\" clip-path=\"url(#p101a6b16f2)\" style=\"fill: none; stroke-dasharray: 9.6,2.4,1.5,2.4; stroke-dashoffset: 0; stroke: #2ca02c; stroke-width: 1.5\"/>\n   </g>\n   <g id=\"line2d_107\">\n    <path d=\"M 34.954394 13.5 \nL 44.698573 13.731587 \nL 54.442752 13.731592 \nL 64.186931 13.778121 \nL 73.93111 13.978567 \nL 83.675289 14.676528 \nL 93.419468 23.4675 \nL 103.163647 59.533817 \nL 112.907826 76.240603 \nL 122.652006 83.545142 \nL 132.396185 88.84814 \nL 142.140364 92.793806 \nL 151.884543 95.573558 \nL 161.628722 97.785116 \nL 171.372901 99.873417 \nL 181.11708 101.957396 \nL 190.861259 103.407842 \nL 200.605438 104.552478 \n\" clip-path=\"url(#p101a6b16f2)\" style=\"fill: none; stroke: #1f77b4; stroke-width: 1.5; stroke-linecap: square\"/>\n   </g>\n   <g id=\"line2d_108\">\n    <path d=\"M 49.633125 13.672697 \nL 69.163125 14.005535 \nL 88.693125 15.986895 \nL 108.223125 71.264501 \nL 127.753125 86.425804 \nL 147.283125 94.151529 \nL 166.813125 98.522699 \nL 186.343125 102.141072 \n\" clip-path=\"url(#p101a6b16f2)\" style=\"fill: none; stroke-dasharray: 5.55,2.4; stroke-dashoffset: 0; stroke: #ff7f0e; stroke-width: 1.5\"/>\n   </g>\n   <g id=\"line2d_109\">\n    <path d=\"M 49.633125 139.5 \nL 69.163125 139.5 \nL 88.693125 132.902717 \nL 108.223125 114.451733 \nL 127.753125 109.538982 \nL 147.283125 107.268525 \nL 166.813125 105.178352 \nL 186.343125 104.07411 \n\" clip-path=\"url(#p101a6b16f2)\" style=\"fill: none; stroke-dasharray: 9.6,2.4,1.5,2.4; stroke-dashoffset: 0; stroke: #2ca02c; stroke-width: 1.5\"/>\n   </g>\n   <g id=\"line2d_110\">\n    <path d=\"M 34.954394 13.5 \nL 44.698573 13.731587 \nL 54.442752 13.731592 \nL 64.186931 13.778121 \nL 73.93111 13.978567 \nL 83.675289 14.676528 \nL 93.419468 23.4675 \nL 103.163647 59.533817 \nL 112.907826 76.240603 \nL 122.652006 83.545142 \nL 132.396185 88.84814 \nL 142.140364 92.793806 \nL 151.884543 95.573558 \nL 161.628722 97.785116 \nL 171.372901 99.873417 \nL 181.11708 101.957396 \nL 190.861259 103.407842 \nL 200.605438 104.552478 \n\" clip-path=\"url(#p101a6b16f2)\" style=\"fill: none; stroke: #1f77b4; stroke-width: 1.5; stroke-linecap: square\"/>\n   </g>\n   <g id=\"line2d_111\">\n    <path d=\"M 49.633125 13.672697 \nL 69.163125 14.005535 \nL 88.693125 15.986895 \nL 108.223125 71.264501 \nL 127.753125 86.425804 \nL 147.283125 94.151529 \nL 166.813125 98.522699 \nL 186.343125 102.141072 \nL 205.873125 104.355361 \n\" clip-path=\"url(#p101a6b16f2)\" style=\"fill: none; stroke-dasharray: 5.55,2.4; stroke-dashoffset: 0; stroke: #ff7f0e; stroke-width: 1.5\"/>\n   </g>\n   <g id=\"line2d_112\">\n    <path d=\"M 49.633125 139.5 \nL 69.163125 139.5 \nL 88.693125 132.902717 \nL 108.223125 114.451733 \nL 127.753125 109.538982 \nL 147.283125 107.268525 \nL 166.813125 105.178352 \nL 186.343125 104.07411 \n\" clip-path=\"url(#p101a6b16f2)\" style=\"fill: none; stroke-dasharray: 9.6,2.4,1.5,2.4; stroke-dashoffset: 0; stroke: #2ca02c; stroke-width: 1.5\"/>\n   </g>\n   <g id=\"line2d_113\">\n    <path d=\"M 34.954394 13.5 \nL 44.698573 13.731587 \nL 54.442752 13.731592 \nL 64.186931 13.778121 \nL 73.93111 13.978567 \nL 83.675289 14.676528 \nL 93.419468 23.4675 \nL 103.163647 59.533817 \nL 112.907826 76.240603 \nL 122.652006 83.545142 \nL 132.396185 88.84814 \nL 142.140364 92.793806 \nL 151.884543 95.573558 \nL 161.628722 97.785116 \nL 171.372901 99.873417 \nL 181.11708 101.957396 \nL 190.861259 103.407842 \nL 200.605438 104.552478 \n\" clip-path=\"url(#p101a6b16f2)\" style=\"fill: none; stroke: #1f77b4; stroke-width: 1.5; stroke-linecap: square\"/>\n   </g>\n   <g id=\"line2d_114\">\n    <path d=\"M 49.633125 13.672697 \nL 69.163125 14.005535 \nL 88.693125 15.986895 \nL 108.223125 71.264501 \nL 127.753125 86.425804 \nL 147.283125 94.151529 \nL 166.813125 98.522699 \nL 186.343125 102.141072 \nL 205.873125 104.355361 \n\" clip-path=\"url(#p101a6b16f2)\" style=\"fill: none; stroke-dasharray: 5.55,2.4; stroke-dashoffset: 0; stroke: #ff7f0e; stroke-width: 1.5\"/>\n   </g>\n   <g id=\"line2d_115\">\n    <path d=\"M 49.633125 139.5 \nL 69.163125 139.5 \nL 88.693125 132.902717 \nL 108.223125 114.451733 \nL 127.753125 109.538982 \nL 147.283125 107.268525 \nL 166.813125 105.178352 \nL 186.343125 104.07411 \nL 205.873125 103.313535 \n\" clip-path=\"url(#p101a6b16f2)\" style=\"fill: none; stroke-dasharray: 9.6,2.4,1.5,2.4; stroke-dashoffset: 0; stroke: #2ca02c; stroke-width: 1.5\"/>\n   </g>\n   <g id=\"line2d_116\">\n    <path d=\"M 34.954394 13.5 \nL 44.698573 13.731587 \nL 54.442752 13.731592 \nL 64.186931 13.778121 \nL 73.93111 13.978567 \nL 83.675289 14.676528 \nL 93.419468 23.4675 \nL 103.163647 59.533817 \nL 112.907826 76.240603 \nL 122.652006 83.545142 \nL 132.396185 88.84814 \nL 142.140364 92.793806 \nL 151.884543 95.573558 \nL 161.628722 97.785116 \nL 171.372901 99.873417 \nL 181.11708 101.957396 \nL 190.861259 103.407842 \nL 200.605438 104.552478 \nL 210.349618 105.356689 \n\" clip-path=\"url(#p101a6b16f2)\" style=\"fill: none; stroke: #1f77b4; stroke-width: 1.5; stroke-linecap: square\"/>\n   </g>\n   <g id=\"line2d_117\">\n    <path d=\"M 49.633125 13.672697 \nL 69.163125 14.005535 \nL 88.693125 15.986895 \nL 108.223125 71.264501 \nL 127.753125 86.425804 \nL 147.283125 94.151529 \nL 166.813125 98.522699 \nL 186.343125 102.141072 \nL 205.873125 104.355361 \n\" clip-path=\"url(#p101a6b16f2)\" style=\"fill: none; stroke-dasharray: 5.55,2.4; stroke-dashoffset: 0; stroke: #ff7f0e; stroke-width: 1.5\"/>\n   </g>\n   <g id=\"line2d_118\">\n    <path d=\"M 49.633125 139.5 \nL 69.163125 139.5 \nL 88.693125 132.902717 \nL 108.223125 114.451733 \nL 127.753125 109.538982 \nL 147.283125 107.268525 \nL 166.813125 105.178352 \nL 186.343125 104.07411 \nL 205.873125 103.313535 \n\" clip-path=\"url(#p101a6b16f2)\" style=\"fill: none; stroke-dasharray: 9.6,2.4,1.5,2.4; stroke-dashoffset: 0; stroke: #2ca02c; stroke-width: 1.5\"/>\n   </g>\n   <g id=\"line2d_119\">\n    <path d=\"M 34.954394 13.5 \nL 44.698573 13.731587 \nL 54.442752 13.731592 \nL 64.186931 13.778121 \nL 73.93111 13.978567 \nL 83.675289 14.676528 \nL 93.419468 23.4675 \nL 103.163647 59.533817 \nL 112.907826 76.240603 \nL 122.652006 83.545142 \nL 132.396185 88.84814 \nL 142.140364 92.793806 \nL 151.884543 95.573558 \nL 161.628722 97.785116 \nL 171.372901 99.873417 \nL 181.11708 101.957396 \nL 190.861259 103.407842 \nL 200.605438 104.552478 \nL 210.349618 105.356689 \nL 220.093797 106.705357 \n\" clip-path=\"url(#p101a6b16f2)\" style=\"fill: none; stroke: #1f77b4; stroke-width: 1.5; stroke-linecap: square\"/>\n   </g>\n   <g id=\"line2d_120\">\n    <path d=\"M 49.633125 13.672697 \nL 69.163125 14.005535 \nL 88.693125 15.986895 \nL 108.223125 71.264501 \nL 127.753125 86.425804 \nL 147.283125 94.151529 \nL 166.813125 98.522699 \nL 186.343125 102.141072 \nL 205.873125 104.355361 \n\" clip-path=\"url(#p101a6b16f2)\" style=\"fill: none; stroke-dasharray: 5.55,2.4; stroke-dashoffset: 0; stroke: #ff7f0e; stroke-width: 1.5\"/>\n   </g>\n   <g id=\"line2d_121\">\n    <path d=\"M 49.633125 139.5 \nL 69.163125 139.5 \nL 88.693125 132.902717 \nL 108.223125 114.451733 \nL 127.753125 109.538982 \nL 147.283125 107.268525 \nL 166.813125 105.178352 \nL 186.343125 104.07411 \nL 205.873125 103.313535 \n\" clip-path=\"url(#p101a6b16f2)\" style=\"fill: none; stroke-dasharray: 9.6,2.4,1.5,2.4; stroke-dashoffset: 0; stroke: #2ca02c; stroke-width: 1.5\"/>\n   </g>\n   <g id=\"line2d_122\">\n    <path d=\"M 34.954394 13.5 \nL 44.698573 13.731587 \nL 54.442752 13.731592 \nL 64.186931 13.778121 \nL 73.93111 13.978567 \nL 83.675289 14.676528 \nL 93.419468 23.4675 \nL 103.163647 59.533817 \nL 112.907826 76.240603 \nL 122.652006 83.545142 \nL 132.396185 88.84814 \nL 142.140364 92.793806 \nL 151.884543 95.573558 \nL 161.628722 97.785116 \nL 171.372901 99.873417 \nL 181.11708 101.957396 \nL 190.861259 103.407842 \nL 200.605438 104.552478 \nL 210.349618 105.356689 \nL 220.093797 106.705357 \n\" clip-path=\"url(#p101a6b16f2)\" style=\"fill: none; stroke: #1f77b4; stroke-width: 1.5; stroke-linecap: square\"/>\n   </g>\n   <g id=\"line2d_123\">\n    <path d=\"M 49.633125 13.672697 \nL 69.163125 14.005535 \nL 88.693125 15.986895 \nL 108.223125 71.264501 \nL 127.753125 86.425804 \nL 147.283125 94.151529 \nL 166.813125 98.522699 \nL 186.343125 102.141072 \nL 205.873125 104.355361 \nL 225.403125 105.938152 \n\" clip-path=\"url(#p101a6b16f2)\" style=\"fill: none; stroke-dasharray: 5.55,2.4; stroke-dashoffset: 0; stroke: #ff7f0e; stroke-width: 1.5\"/>\n   </g>\n   <g id=\"line2d_124\">\n    <path d=\"M 49.633125 139.5 \nL 69.163125 139.5 \nL 88.693125 132.902717 \nL 108.223125 114.451733 \nL 127.753125 109.538982 \nL 147.283125 107.268525 \nL 166.813125 105.178352 \nL 186.343125 104.07411 \nL 205.873125 103.313535 \n\" clip-path=\"url(#p101a6b16f2)\" style=\"fill: none; stroke-dasharray: 9.6,2.4,1.5,2.4; stroke-dashoffset: 0; stroke: #2ca02c; stroke-width: 1.5\"/>\n   </g>\n   <g id=\"line2d_125\">\n    <path d=\"M 34.954394 13.5 \nL 44.698573 13.731587 \nL 54.442752 13.731592 \nL 64.186931 13.778121 \nL 73.93111 13.978567 \nL 83.675289 14.676528 \nL 93.419468 23.4675 \nL 103.163647 59.533817 \nL 112.907826 76.240603 \nL 122.652006 83.545142 \nL 132.396185 88.84814 \nL 142.140364 92.793806 \nL 151.884543 95.573558 \nL 161.628722 97.785116 \nL 171.372901 99.873417 \nL 181.11708 101.957396 \nL 190.861259 103.407842 \nL 200.605438 104.552478 \nL 210.349618 105.356689 \nL 220.093797 106.705357 \n\" clip-path=\"url(#p101a6b16f2)\" style=\"fill: none; stroke: #1f77b4; stroke-width: 1.5; stroke-linecap: square\"/>\n   </g>\n   <g id=\"line2d_126\">\n    <path d=\"M 49.633125 13.672697 \nL 69.163125 14.005535 \nL 88.693125 15.986895 \nL 108.223125 71.264501 \nL 127.753125 86.425804 \nL 147.283125 94.151529 \nL 166.813125 98.522699 \nL 186.343125 102.141072 \nL 205.873125 104.355361 \nL 225.403125 105.938152 \n\" clip-path=\"url(#p101a6b16f2)\" style=\"fill: none; stroke-dasharray: 5.55,2.4; stroke-dashoffset: 0; stroke: #ff7f0e; stroke-width: 1.5\"/>\n   </g>\n   <g id=\"line2d_127\">\n    <path d=\"M 49.633125 139.5 \nL 69.163125 139.5 \nL 88.693125 132.902717 \nL 108.223125 114.451733 \nL 127.753125 109.538982 \nL 147.283125 107.268525 \nL 166.813125 105.178352 \nL 186.343125 104.07411 \nL 205.873125 103.313535 \nL 225.403125 103.234661 \n\" clip-path=\"url(#p101a6b16f2)\" style=\"fill: none; stroke-dasharray: 9.6,2.4,1.5,2.4; stroke-dashoffset: 0; stroke: #2ca02c; stroke-width: 1.5\"/>\n   </g>\n   <g id=\"patch_3\">\n    <path d=\"M 30.103125 145.8 \nL 30.103125 7.2 \n\" style=\"fill: none; stroke: #000000; stroke-width: 0.8; stroke-linejoin: miter; stroke-linecap: square\"/>\n   </g>\n   <g id=\"patch_4\">\n    <path d=\"M 225.403125 145.8 \nL 225.403125 7.2 \n\" style=\"fill: none; stroke: #000000; stroke-width: 0.8; stroke-linejoin: miter; stroke-linecap: square\"/>\n   </g>\n   <g id=\"patch_5\">\n    <path d=\"M 30.103125 145.8 \nL 225.403125 145.8 \n\" style=\"fill: none; stroke: #000000; stroke-width: 0.8; stroke-linejoin: miter; stroke-linecap: square\"/>\n   </g>\n   <g id=\"patch_6\">\n    <path d=\"M 30.103125 7.2 \nL 225.403125 7.2 \n\" style=\"fill: none; stroke: #000000; stroke-width: 0.8; stroke-linejoin: miter; stroke-linecap: square\"/>\n   </g>\n   <g id=\"legend_1\">\n    <g id=\"patch_7\">\n     <path d=\"M 138.8125 60.06875 \nL 218.403125 60.06875 \nQ 220.403125 60.06875 220.403125 58.06875 \nL 220.403125 14.2 \nQ 220.403125 12.2 218.403125 12.2 \nL 138.8125 12.2 \nQ 136.8125 12.2 136.8125 14.2 \nL 136.8125 58.06875 \nQ 136.8125 60.06875 138.8125 60.06875 \nz\n\" style=\"fill: #ffffff; opacity: 0.8; stroke: #cccccc; stroke-linejoin: miter\"/>\n    </g>\n    <g id=\"line2d_128\">\n     <path d=\"M 140.8125 20.298438 \nL 150.8125 20.298438 \nL 160.8125 20.298438 \n\" style=\"fill: none; stroke: #1f77b4; stroke-width: 1.5; stroke-linecap: square\"/>\n    </g>\n    <g id=\"text_13\">\n     <!-- train_loss -->\n     <g transform=\"translate(168.8125 23.798438) scale(0.1 -0.1)\">\n      <defs>\n       <path id=\"DejaVuSans-74\" d=\"M 1172 4494 \nL 1172 3500 \nL 2356 3500 \nL 2356 3053 \nL 1172 3053 \nL 1172 1153 \nQ 1172 725 1289 603 \nQ 1406 481 1766 481 \nL 2356 481 \nL 2356 0 \nL 1766 0 \nQ 1100 0 847 248 \nQ 594 497 594 1153 \nL 594 3053 \nL 172 3053 \nL 172 3500 \nL 594 3500 \nL 594 4494 \nL 1172 4494 \nz\n\" transform=\"scale(0.015625)\"/>\n       <path id=\"DejaVuSans-72\" d=\"M 2631 2963 \nQ 2534 3019 2420 3045 \nQ 2306 3072 2169 3072 \nQ 1681 3072 1420 2755 \nQ 1159 2438 1159 1844 \nL 1159 0 \nL 581 0 \nL 581 3500 \nL 1159 3500 \nL 1159 2956 \nQ 1341 3275 1631 3429 \nQ 1922 3584 2338 3584 \nQ 2397 3584 2469 3576 \nQ 2541 3569 2628 3553 \nL 2631 2963 \nz\n\" transform=\"scale(0.015625)\"/>\n       <path id=\"DejaVuSans-61\" d=\"M 2194 1759 \nQ 1497 1759 1228 1600 \nQ 959 1441 959 1056 \nQ 959 750 1161 570 \nQ 1363 391 1709 391 \nQ 2188 391 2477 730 \nQ 2766 1069 2766 1631 \nL 2766 1759 \nL 2194 1759 \nz\nM 3341 1997 \nL 3341 0 \nL 2766 0 \nL 2766 531 \nQ 2569 213 2275 61 \nQ 1981 -91 1556 -91 \nQ 1019 -91 701 211 \nQ 384 513 384 1019 \nQ 384 1609 779 1909 \nQ 1175 2209 1959 2209 \nL 2766 2209 \nL 2766 2266 \nQ 2766 2663 2505 2880 \nQ 2244 3097 1772 3097 \nQ 1472 3097 1187 3025 \nQ 903 2953 641 2809 \nL 641 3341 \nQ 956 3463 1253 3523 \nQ 1550 3584 1831 3584 \nQ 2591 3584 2966 3190 \nQ 3341 2797 3341 1997 \nz\n\" transform=\"scale(0.015625)\"/>\n       <path id=\"DejaVuSans-69\" d=\"M 603 3500 \nL 1178 3500 \nL 1178 0 \nL 603 0 \nL 603 3500 \nz\nM 603 4863 \nL 1178 4863 \nL 1178 4134 \nL 603 4134 \nL 603 4863 \nz\n\" transform=\"scale(0.015625)\"/>\n       <path id=\"DejaVuSans-6e\" d=\"M 3513 2113 \nL 3513 0 \nL 2938 0 \nL 2938 2094 \nQ 2938 2591 2744 2837 \nQ 2550 3084 2163 3084 \nQ 1697 3084 1428 2787 \nQ 1159 2491 1159 1978 \nL 1159 0 \nL 581 0 \nL 581 3500 \nL 1159 3500 \nL 1159 2956 \nQ 1366 3272 1645 3428 \nQ 1925 3584 2291 3584 \nQ 2894 3584 3203 3211 \nQ 3513 2838 3513 2113 \nz\n\" transform=\"scale(0.015625)\"/>\n       <path id=\"DejaVuSans-5f\" d=\"M 3263 -1063 \nL 3263 -1509 \nL -63 -1509 \nL -63 -1063 \nL 3263 -1063 \nz\n\" transform=\"scale(0.015625)\"/>\n       <path id=\"DejaVuSans-6c\" d=\"M 603 4863 \nL 1178 4863 \nL 1178 0 \nL 603 0 \nL 603 4863 \nz\n\" transform=\"scale(0.015625)\"/>\n       <path id=\"DejaVuSans-73\" d=\"M 2834 3397 \nL 2834 2853 \nQ 2591 2978 2328 3040 \nQ 2066 3103 1784 3103 \nQ 1356 3103 1142 2972 \nQ 928 2841 928 2578 \nQ 928 2378 1081 2264 \nQ 1234 2150 1697 2047 \nL 1894 2003 \nQ 2506 1872 2764 1633 \nQ 3022 1394 3022 966 \nQ 3022 478 2636 193 \nQ 2250 -91 1575 -91 \nQ 1294 -91 989 -36 \nQ 684 19 347 128 \nL 347 722 \nQ 666 556 975 473 \nQ 1284 391 1588 391 \nQ 1994 391 2212 530 \nQ 2431 669 2431 922 \nQ 2431 1156 2273 1281 \nQ 2116 1406 1581 1522 \nL 1381 1569 \nQ 847 1681 609 1914 \nQ 372 2147 372 2553 \nQ 372 3047 722 3315 \nQ 1072 3584 1716 3584 \nQ 2034 3584 2315 3537 \nQ 2597 3491 2834 3397 \nz\n\" transform=\"scale(0.015625)\"/>\n      </defs>\n      <use xlink:href=\"#DejaVuSans-74\"/>\n      <use xlink:href=\"#DejaVuSans-72\" x=\"39.208984\"/>\n      <use xlink:href=\"#DejaVuSans-61\" x=\"80.322266\"/>\n      <use xlink:href=\"#DejaVuSans-69\" x=\"141.601562\"/>\n      <use xlink:href=\"#DejaVuSans-6e\" x=\"169.384766\"/>\n      <use xlink:href=\"#DejaVuSans-5f\" x=\"232.763672\"/>\n      <use xlink:href=\"#DejaVuSans-6c\" x=\"282.763672\"/>\n      <use xlink:href=\"#DejaVuSans-6f\" x=\"310.546875\"/>\n      <use xlink:href=\"#DejaVuSans-73\" x=\"371.728516\"/>\n      <use xlink:href=\"#DejaVuSans-73\" x=\"423.828125\"/>\n     </g>\n    </g>\n    <g id=\"line2d_129\">\n     <path d=\"M 140.8125 35.254688 \nL 150.8125 35.254688 \nL 160.8125 35.254688 \n\" style=\"fill: none; stroke-dasharray: 5.55,2.4; stroke-dashoffset: 0; stroke: #ff7f0e; stroke-width: 1.5\"/>\n    </g>\n    <g id=\"text_14\">\n     <!-- val_loss -->\n     <g transform=\"translate(168.8125 38.754688) scale(0.1 -0.1)\">\n      <defs>\n       <path id=\"DejaVuSans-76\" d=\"M 191 3500 \nL 800 3500 \nL 1894 563 \nL 2988 3500 \nL 3597 3500 \nL 2284 0 \nL 1503 0 \nL 191 3500 \nz\n\" transform=\"scale(0.015625)\"/>\n      </defs>\n      <use xlink:href=\"#DejaVuSans-76\"/>\n      <use xlink:href=\"#DejaVuSans-61\" x=\"59.179688\"/>\n      <use xlink:href=\"#DejaVuSans-6c\" x=\"120.458984\"/>\n      <use xlink:href=\"#DejaVuSans-5f\" x=\"148.242188\"/>\n      <use xlink:href=\"#DejaVuSans-6c\" x=\"198.242188\"/>\n      <use xlink:href=\"#DejaVuSans-6f\" x=\"226.025391\"/>\n      <use xlink:href=\"#DejaVuSans-73\" x=\"287.207031\"/>\n      <use xlink:href=\"#DejaVuSans-73\" x=\"339.306641\"/>\n     </g>\n    </g>\n    <g id=\"line2d_130\">\n     <path d=\"M 140.8125 50.210938 \nL 150.8125 50.210938 \nL 160.8125 50.210938 \n\" style=\"fill: none; stroke-dasharray: 9.6,2.4,1.5,2.4; stroke-dashoffset: 0; stroke: #2ca02c; stroke-width: 1.5\"/>\n    </g>\n    <g id=\"text_15\">\n     <!-- val_acc -->\n     <g transform=\"translate(168.8125 53.710938) scale(0.1 -0.1)\">\n      <use xlink:href=\"#DejaVuSans-76\"/>\n      <use xlink:href=\"#DejaVuSans-61\" x=\"59.179688\"/>\n      <use xlink:href=\"#DejaVuSans-6c\" x=\"120.458984\"/>\n      <use xlink:href=\"#DejaVuSans-5f\" x=\"148.242188\"/>\n      <use xlink:href=\"#DejaVuSans-61\" x=\"198.242188\"/>\n      <use xlink:href=\"#DejaVuSans-63\" x=\"259.521484\"/>\n      <use xlink:href=\"#DejaVuSans-63\" x=\"314.501953\"/>\n     </g>\n    </g>\n   </g>\n  </g>\n </g>\n <defs>\n  <clipPath id=\"p101a6b16f2\">\n   <rect x=\"30.103125\" y=\"7.2\" width=\"195.3\" height=\"138.6\"/>\n  </clipPath>\n </defs>\n</svg>\n",
            "text/plain": [
              "<Figure size 350x250 with 1 Axes>"
            ]
          },
          "metadata": {},
          "output_type": "display_data"
        }
      ],
      "source": [
        "# training\n",
        "trainer = d2l.Trainer(max_epochs=10, num_gpus=1)\n",
        "data = d2l.FashionMNIST(batch_size=128)\n",
        "model = LeNet(lr=0.1)\n",
        "model.apply_init([next(iter(data.get_dataloader(True)))[0]], init_cnn)\n",
        "trainer.fit(model, data)"
      ]
    },
    {
      "cell_type": "markdown",
      "metadata": {
        "id": "BdtmDnJNFA3F"
      },
      "source": [
        "## Exercises\n",
        "\n",
        "1. Let's modernize LeNet. Implement and test the following changes:\n",
        "    1. Replace average pooling with max-pooling.\n",
        "    1. Replace the softmax layer with ReLU.\n",
        "1. Try to change the size of the LeNet style network to improve its accuracy in addition to max-pooling and ReLU.\n",
        "    1. Adjust the convolution window size.\n",
        "    1. Adjust the number of output channels.\n",
        "    1. Adjust the number of convolution layers.\n",
        "    1. Adjust the number of fully connected layers.\n",
        "    1. Adjust the learning rates and other training details (e.g., initialization and number of epochs).\n",
        "1. Try out the improved network on the original MNIST dataset.\n",
        "1. Display the activations of the first and second layer of LeNet for different inputs (e.g., sweaters and coats).\n",
        "1. What happens to the activations when you feed significantly different images into the network (e.g., cats, cars, or even random noise)?"
      ]
    },
    {
      "cell_type": "markdown",
      "metadata": {
        "id": "FqG8dVqaGFwq"
      },
      "source": [
        "## Discussion Points\n",
        "- LeNet-5's architecture remains relevant and can be compared to modern models like ResNet.\n",
        "- Error Rate Comparison: LeNet-5 performs better than MLPs and is closer in performance to advanced architectures.\n",
        "- Computational Complexity: Increased computation allows for more complex architectures.\n",
        "- Ease of Implementation: Developing models has become much simpler, shifting from months of coding to minutes.\n"
      ]
    },
    {
      "cell_type": "markdown",
      "metadata": {
        "id": "z3FfwUmxFYVL"
      },
      "source": [
        "#8.2. Networks Using Blocks (VGG)"
      ]
    },
    {
      "cell_type": "code",
      "execution_count": null,
      "metadata": {
        "id": "CQfOCPgiFcbq"
      },
      "outputs": [],
      "source": [
        "import torch\n",
        "from torch import nn\n",
        "from d2l import torch as d2l"
      ]
    },
    {
      "cell_type": "code",
      "execution_count": null,
      "metadata": {
        "id": "PJe6XmBzFeUq"
      },
      "outputs": [],
      "source": [
        "def vgg_block(num_convs, out_channels):\n",
        "    layers = []\n",
        "    for _ in range(num_convs):\n",
        "        layers.append(nn.LazyConv2d(out_channels, kernel_size=3, padding=1))\n",
        "        layers.append(nn.ReLU())\n",
        "    layers.append(nn.MaxPool2d(kernel_size=2,stride=2))\n",
        "    return nn.Sequential(*layers)"
      ]
    },
    {
      "cell_type": "code",
      "execution_count": null,
      "metadata": {
        "id": "V5nPt_p2FhTz"
      },
      "outputs": [],
      "source": [
        "class VGG(d2l.Classifier):\n",
        "    def __init__(self, arch, lr=0.1, num_classes=10):\n",
        "        super().__init__()\n",
        "        self.save_hyperparameters()\n",
        "        conv_blks = []\n",
        "        for (num_convs, out_channels) in arch:\n",
        "            conv_blks.append(vgg_block(num_convs, out_channels))\n",
        "        self.net = nn.Sequential(\n",
        "            *conv_blks, nn.Flatten(),\n",
        "            nn.LazyLinear(4096), nn.ReLU(), nn.Dropout(0.5),\n",
        "            nn.LazyLinear(4096), nn.ReLU(), nn.Dropout(0.5),\n",
        "            nn.LazyLinear(num_classes))\n",
        "        self.net.apply(d2l.init_cnn)"
      ]
    },
    {
      "cell_type": "code",
      "execution_count": null,
      "metadata": {
        "colab": {
          "base_uri": "https://localhost:8080/"
        },
        "id": "78UqkZvgFjD_",
        "outputId": "eda9643c-9a3c-43a5-8a55-58a2229178e6"
      },
      "outputs": [
        {
          "name": "stdout",
          "output_type": "stream",
          "text": [
            "Sequential output shape:\t torch.Size([1, 64, 112, 112])\n",
            "Sequential output shape:\t torch.Size([1, 128, 56, 56])\n",
            "Sequential output shape:\t torch.Size([1, 256, 28, 28])\n",
            "Sequential output shape:\t torch.Size([1, 512, 14, 14])\n",
            "Sequential output shape:\t torch.Size([1, 512, 7, 7])\n",
            "Flatten output shape:\t torch.Size([1, 25088])\n",
            "Linear output shape:\t torch.Size([1, 4096])\n",
            "ReLU output shape:\t torch.Size([1, 4096])\n",
            "Dropout output shape:\t torch.Size([1, 4096])\n",
            "Linear output shape:\t torch.Size([1, 4096])\n",
            "ReLU output shape:\t torch.Size([1, 4096])\n",
            "Dropout output shape:\t torch.Size([1, 4096])\n",
            "Linear output shape:\t torch.Size([1, 10])\n"
          ]
        }
      ],
      "source": [
        "VGG(arch=((1, 64), (1, 128), (2, 256), (2, 512), (2, 512))).layer_summary(\n",
        "    (1, 1, 224, 224))"
      ]
    },
    {
      "cell_type": "code",
      "execution_count": null,
      "metadata": {
        "id": "JVx8T2-iOoSU"
      },
      "outputs": [],
      "source": [
        "# Training\n",
        "model = VGG(arch=((1, 16), (1, 32), (2, 64), (2, 128), (2, 128)), lr=0.01)\n",
        "trainer = d2l.Trainer(max_epochs=3, num_gpus=1)\n",
        "data = d2l.FashionMNIST(batch_size=512, resize=(224, 224))\n",
        "model.apply_init([next(iter(data.get_dataloader(True)))[0]], d2l.init_cnn)\n",
        "trainer.fit(model, data)"
      ]
    },
    {
      "cell_type": "markdown",
      "metadata": {
        "id": "DCVOfeNRG2Qj"
      },
      "source": [
        "## Discussion points\n",
        "- VGG is Considered the first truly modern convolutional neural network.\n",
        "Key Features: Introduced multiple convolution blocks and favored deep, narrow networks.\n",
        "- Model Family: VGG is a family of similarly parameterized models, allowing flexibility in complexity and speed.\n",
        "- Framework Advancements: Modern deep learning frameworks simplify network assembly using Python instead of XML configuration.\n"
      ]
    },
    {
      "cell_type": "markdown",
      "metadata": {
        "id": "yBqJxfe5HW_m"
      },
      "source": [
        "#8.6. (.1~.4) Residual Networks (ResNet)"
      ]
    },
    {
      "cell_type": "code",
      "execution_count": null,
      "metadata": {
        "id": "ENx5QHLCHYyy"
      },
      "outputs": [],
      "source": [
        "import torch\n",
        "from torch import nn\n",
        "from torch.nn import functional as F\n",
        "from d2l import torch as d2l"
      ]
    },
    {
      "cell_type": "code",
      "execution_count": null,
      "metadata": {
        "id": "etlcG6ewHacG"
      },
      "outputs": [],
      "source": [
        "class Residual(nn.Module):\n",
        "    def __init__(self, num_channels, use_1x1conv=False, strides=1):\n",
        "        super().__init__()\n",
        "        self.conv1 = nn.LazyConv2d(num_channels, kernel_size=3, padding=1,\n",
        "                                   stride=strides)\n",
        "        self.conv2 = nn.LazyConv2d(num_channels, kernel_size=3, padding=1)\n",
        "        if use_1x1conv:\n",
        "            self.conv3 = nn.LazyConv2d(num_channels, kernel_size=1,\n",
        "                                       stride=strides)\n",
        "        else:\n",
        "            self.conv3 = None\n",
        "        self.bn1 = nn.LazyBatchNorm2d()\n",
        "        self.bn2 = nn.LazyBatchNorm2d()\n",
        "\n",
        "    def forward(self, X):\n",
        "        Y = F.relu(self.bn1(self.conv1(X)))\n",
        "        Y = self.bn2(self.conv2(Y))\n",
        "        if self.conv3:\n",
        "            X = self.conv3(X)\n",
        "        Y += X\n",
        "        return F.relu(Y)"
      ]
    },
    {
      "cell_type": "code",
      "execution_count": null,
      "metadata": {
        "colab": {
          "base_uri": "https://localhost:8080/"
        },
        "id": "9UjmtZ2AHzZm",
        "outputId": "df9dd06e-d999-4d18-f487-805091abbde0"
      },
      "outputs": [
        {
          "data": {
            "text/plain": [
              "torch.Size([4, 3, 6, 6])"
            ]
          },
          "execution_count": 16,
          "metadata": {},
          "output_type": "execute_result"
        }
      ],
      "source": [
        "blk = Residual(3)\n",
        "X = torch.randn(4, 3, 6, 6)\n",
        "blk(X).shape"
      ]
    },
    {
      "cell_type": "code",
      "execution_count": null,
      "metadata": {
        "colab": {
          "base_uri": "https://localhost:8080/"
        },
        "id": "Dt4Ph930Hz1M",
        "outputId": "b2c01ea1-e4d2-496b-c580-c46b45081055"
      },
      "outputs": [
        {
          "data": {
            "text/plain": [
              "torch.Size([4, 6, 3, 3])"
            ]
          },
          "execution_count": 17,
          "metadata": {},
          "output_type": "execute_result"
        }
      ],
      "source": [
        "blk = Residual(6, use_1x1conv=True, strides=2)\n",
        "blk(X).shape"
      ]
    },
    {
      "cell_type": "code",
      "execution_count": null,
      "metadata": {
        "id": "7ysqiTdrH13K"
      },
      "outputs": [],
      "source": [
        "class ResNet(d2l.Classifier):\n",
        "    def b1(self):\n",
        "        return nn.Sequential(\n",
        "            nn.LazyConv2d(64, kernel_size=7, stride=2, padding=3),\n",
        "            nn.LazyBatchNorm2d(), nn.ReLU(),\n",
        "            nn.MaxPool2d(kernel_size=3, stride=2, padding=1))"
      ]
    },
    {
      "cell_type": "code",
      "execution_count": null,
      "metadata": {
        "id": "1BSWTbylH576"
      },
      "outputs": [],
      "source": [
        "@d2l.add_to_class(ResNet)\n",
        "def block(self, num_residuals, num_channels, first_block=False):\n",
        "    blk = []\n",
        "    for i in range(num_residuals):\n",
        "        if i == 0 and not first_block:\n",
        "            blk.append(Residual(num_channels, use_1x1conv=True, strides=2))\n",
        "        else:\n",
        "            blk.append(Residual(num_channels))\n",
        "    return nn.Sequential(*blk)"
      ]
    },
    {
      "cell_type": "code",
      "execution_count": null,
      "metadata": {
        "id": "m06b6sz3H71y"
      },
      "outputs": [],
      "source": [
        "@d2l.add_to_class(ResNet)\n",
        "def __init__(self, arch, lr=0.1, num_classes=10):\n",
        "    super(ResNet, self).__init__()\n",
        "    self.save_hyperparameters()\n",
        "    self.net = nn.Sequential(self.b1())\n",
        "    for i, b in enumerate(arch):\n",
        "        self.net.add_module(f'b{i+2}', self.block(*b, first_block=(i==0)))\n",
        "    self.net.add_module('last', nn.Sequential(\n",
        "        nn.AdaptiveAvgPool2d((1, 1)), nn.Flatten(),\n",
        "        nn.LazyLinear(num_classes)))\n",
        "    self.net.apply(d2l.init_cnn)"
      ]
    },
    {
      "cell_type": "code",
      "execution_count": null,
      "metadata": {
        "colab": {
          "base_uri": "https://localhost:8080/"
        },
        "id": "huiJxauzH9SR",
        "outputId": "a8f3178f-6547-4917-8e9a-1ebea3e8b38b"
      },
      "outputs": [
        {
          "name": "stdout",
          "output_type": "stream",
          "text": [
            "Sequential output shape:\t torch.Size([1, 64, 24, 24])\n",
            "Sequential output shape:\t torch.Size([1, 64, 24, 24])\n",
            "Sequential output shape:\t torch.Size([1, 128, 12, 12])\n",
            "Sequential output shape:\t torch.Size([1, 256, 6, 6])\n",
            "Sequential output shape:\t torch.Size([1, 512, 3, 3])\n",
            "Sequential output shape:\t torch.Size([1, 10])\n"
          ]
        }
      ],
      "source": [
        "class ResNet18(ResNet):\n",
        "    def __init__(self, lr=0.1, num_classes=10):\n",
        "        super().__init__(((2, 64), (2, 128), (2, 256), (2, 512)),\n",
        "                       lr, num_classes)\n",
        "\n",
        "ResNet18().layer_summary((1, 1, 96, 96))"
      ]
    },
    {
      "cell_type": "code",
      "execution_count": null,
      "metadata": {
        "colab": {
          "background_save": true
        },
        "id": "pvyj1w72H-jz",
        "outputId": "49293888-94ca-4248-91ad-3340dcf0284d"
      },
      "outputs": [
        {
          "data": {
            "image/svg+xml": "<?xml version=\"1.0\" encoding=\"utf-8\" standalone=\"no\"?>\n<!DOCTYPE svg PUBLIC \"-//W3C//DTD SVG 1.1//EN\"\n  \"http://www.w3.org/Graphics/SVG/1.1/DTD/svg11.dtd\">\n<svg xmlns:xlink=\"http://www.w3.org/1999/xlink\" width=\"246.917187pt\" height=\"183.35625pt\" viewBox=\"0 0 246.917187 183.35625\" xmlns=\"http://www.w3.org/2000/svg\" version=\"1.1\">\n <metadata>\n  <rdf:RDF xmlns:dc=\"http://purl.org/dc/elements/1.1/\" xmlns:cc=\"http://creativecommons.org/ns#\" xmlns:rdf=\"http://www.w3.org/1999/02/22-rdf-syntax-ns#\">\n   <cc:Work>\n    <dc:type rdf:resource=\"http://purl.org/dc/dcmitype/StillImage\"/>\n    <dc:date>2024-10-10T12:14:16.054770</dc:date>\n    <dc:format>image/svg+xml</dc:format>\n    <dc:creator>\n     <cc:Agent>\n      <dc:title>Matplotlib v3.7.2, https://matplotlib.org/</dc:title>\n     </cc:Agent>\n    </dc:creator>\n   </cc:Work>\n  </rdf:RDF>\n </metadata>\n <defs>\n  <style type=\"text/css\">*{stroke-linejoin: round; stroke-linecap: butt}</style>\n </defs>\n <g id=\"figure_1\">\n  <g id=\"patch_1\">\n   <path d=\"M 0 183.35625 \nL 246.917187 183.35625 \nL 246.917187 0 \nL 0 0 \nz\n\" style=\"fill: #ffffff\"/>\n  </g>\n  <g id=\"axes_1\">\n   <g id=\"patch_2\">\n    <path d=\"M 36.465625 145.8 \nL 231.765625 145.8 \nL 231.765625 7.2 \nL 36.465625 7.2 \nz\n\" style=\"fill: #ffffff\"/>\n   </g>\n   <g id=\"matplotlib.axis_1\">\n    <g id=\"xtick_1\">\n     <g id=\"line2d_1\">\n      <defs>\n       <path id=\"m96909b59b6\" d=\"M 0 0 \nL 0 3.5 \n\" style=\"stroke: #000000; stroke-width: 0.8\"/>\n      </defs>\n      <g>\n       <use xlink:href=\"#m96909b59b6\" x=\"36.465625\" y=\"145.8\" style=\"stroke: #000000; stroke-width: 0.8\"/>\n      </g>\n     </g>\n     <g id=\"text_1\">\n      <!-- 0.0 -->\n      <g transform=\"translate(28.514063 160.398438) scale(0.1 -0.1)\">\n       <defs>\n        <path id=\"DejaVuSans-30\" d=\"M 2034 4250 \nQ 1547 4250 1301 3770 \nQ 1056 3291 1056 2328 \nQ 1056 1369 1301 889 \nQ 1547 409 2034 409 \nQ 2525 409 2770 889 \nQ 3016 1369 3016 2328 \nQ 3016 3291 2770 3770 \nQ 2525 4250 2034 4250 \nz\nM 2034 4750 \nQ 2819 4750 3233 4129 \nQ 3647 3509 3647 2328 \nQ 3647 1150 3233 529 \nQ 2819 -91 2034 -91 \nQ 1250 -91 836 529 \nQ 422 1150 422 2328 \nQ 422 3509 836 4129 \nQ 1250 4750 2034 4750 \nz\n\" transform=\"scale(0.015625)\"/>\n        <path id=\"DejaVuSans-2e\" d=\"M 684 794 \nL 1344 794 \nL 1344 0 \nL 684 0 \nL 684 794 \nz\n\" transform=\"scale(0.015625)\"/>\n       </defs>\n       <use xlink:href=\"#DejaVuSans-30\"/>\n       <use xlink:href=\"#DejaVuSans-2e\" x=\"63.623047\"/>\n       <use xlink:href=\"#DejaVuSans-30\" x=\"95.410156\"/>\n      </g>\n     </g>\n    </g>\n    <g id=\"xtick_2\">\n     <g id=\"line2d_2\">\n      <g>\n       <use xlink:href=\"#m96909b59b6\" x=\"69.015625\" y=\"145.8\" style=\"stroke: #000000; stroke-width: 0.8\"/>\n      </g>\n     </g>\n     <g id=\"text_2\">\n      <!-- 0.5 -->\n      <g transform=\"translate(61.064062 160.398438) scale(0.1 -0.1)\">\n       <defs>\n        <path id=\"DejaVuSans-35\" d=\"M 691 4666 \nL 3169 4666 \nL 3169 4134 \nL 1269 4134 \nL 1269 2991 \nQ 1406 3038 1543 3061 \nQ 1681 3084 1819 3084 \nQ 2600 3084 3056 2656 \nQ 3513 2228 3513 1497 \nQ 3513 744 3044 326 \nQ 2575 -91 1722 -91 \nQ 1428 -91 1123 -41 \nQ 819 9 494 109 \nL 494 744 \nQ 775 591 1075 516 \nQ 1375 441 1709 441 \nQ 2250 441 2565 725 \nQ 2881 1009 2881 1497 \nQ 2881 1984 2565 2268 \nQ 2250 2553 1709 2553 \nQ 1456 2553 1204 2497 \nQ 953 2441 691 2322 \nL 691 4666 \nz\n\" transform=\"scale(0.015625)\"/>\n       </defs>\n       <use xlink:href=\"#DejaVuSans-30\"/>\n       <use xlink:href=\"#DejaVuSans-2e\" x=\"63.623047\"/>\n       <use xlink:href=\"#DejaVuSans-35\" x=\"95.410156\"/>\n      </g>\n     </g>\n    </g>\n    <g id=\"xtick_3\">\n     <g id=\"line2d_3\">\n      <g>\n       <use xlink:href=\"#m96909b59b6\" x=\"101.565625\" y=\"145.8\" style=\"stroke: #000000; stroke-width: 0.8\"/>\n      </g>\n     </g>\n     <g id=\"text_3\">\n      <!-- 1.0 -->\n      <g transform=\"translate(93.614063 160.398438) scale(0.1 -0.1)\">\n       <defs>\n        <path id=\"DejaVuSans-31\" d=\"M 794 531 \nL 1825 531 \nL 1825 4091 \nL 703 3866 \nL 703 4441 \nL 1819 4666 \nL 2450 4666 \nL 2450 531 \nL 3481 531 \nL 3481 0 \nL 794 0 \nL 794 531 \nz\n\" transform=\"scale(0.015625)\"/>\n       </defs>\n       <use xlink:href=\"#DejaVuSans-31\"/>\n       <use xlink:href=\"#DejaVuSans-2e\" x=\"63.623047\"/>\n       <use xlink:href=\"#DejaVuSans-30\" x=\"95.410156\"/>\n      </g>\n     </g>\n    </g>\n    <g id=\"xtick_4\">\n     <g id=\"line2d_4\">\n      <g>\n       <use xlink:href=\"#m96909b59b6\" x=\"134.115625\" y=\"145.8\" style=\"stroke: #000000; stroke-width: 0.8\"/>\n      </g>\n     </g>\n     <g id=\"text_4\">\n      <!-- 1.5 -->\n      <g transform=\"translate(126.164062 160.398438) scale(0.1 -0.1)\">\n       <use xlink:href=\"#DejaVuSans-31\"/>\n       <use xlink:href=\"#DejaVuSans-2e\" x=\"63.623047\"/>\n       <use xlink:href=\"#DejaVuSans-35\" x=\"95.410156\"/>\n      </g>\n     </g>\n    </g>\n    <g id=\"xtick_5\">\n     <g id=\"line2d_5\">\n      <g>\n       <use xlink:href=\"#m96909b59b6\" x=\"166.665625\" y=\"145.8\" style=\"stroke: #000000; stroke-width: 0.8\"/>\n      </g>\n     </g>\n     <g id=\"text_5\">\n      <!-- 2.0 -->\n      <g transform=\"translate(158.714062 160.398438) scale(0.1 -0.1)\">\n       <defs>\n        <path id=\"DejaVuSans-32\" d=\"M 1228 531 \nL 3431 531 \nL 3431 0 \nL 469 0 \nL 469 531 \nQ 828 903 1448 1529 \nQ 2069 2156 2228 2338 \nQ 2531 2678 2651 2914 \nQ 2772 3150 2772 3378 \nQ 2772 3750 2511 3984 \nQ 2250 4219 1831 4219 \nQ 1534 4219 1204 4116 \nQ 875 4013 500 3803 \nL 500 4441 \nQ 881 4594 1212 4672 \nQ 1544 4750 1819 4750 \nQ 2544 4750 2975 4387 \nQ 3406 4025 3406 3419 \nQ 3406 3131 3298 2873 \nQ 3191 2616 2906 2266 \nQ 2828 2175 2409 1742 \nQ 1991 1309 1228 531 \nz\n\" transform=\"scale(0.015625)\"/>\n       </defs>\n       <use xlink:href=\"#DejaVuSans-32\"/>\n       <use xlink:href=\"#DejaVuSans-2e\" x=\"63.623047\"/>\n       <use xlink:href=\"#DejaVuSans-30\" x=\"95.410156\"/>\n      </g>\n     </g>\n    </g>\n    <g id=\"xtick_6\">\n     <g id=\"line2d_6\">\n      <g>\n       <use xlink:href=\"#m96909b59b6\" x=\"199.215625\" y=\"145.8\" style=\"stroke: #000000; stroke-width: 0.8\"/>\n      </g>\n     </g>\n     <g id=\"text_6\">\n      <!-- 2.5 -->\n      <g transform=\"translate(191.264062 160.398438) scale(0.1 -0.1)\">\n       <use xlink:href=\"#DejaVuSans-32\"/>\n       <use xlink:href=\"#DejaVuSans-2e\" x=\"63.623047\"/>\n       <use xlink:href=\"#DejaVuSans-35\" x=\"95.410156\"/>\n      </g>\n     </g>\n    </g>\n    <g id=\"xtick_7\">\n     <g id=\"line2d_7\">\n      <g>\n       <use xlink:href=\"#m96909b59b6\" x=\"231.765625\" y=\"145.8\" style=\"stroke: #000000; stroke-width: 0.8\"/>\n      </g>\n     </g>\n     <g id=\"text_7\">\n      <!-- 3.0 -->\n      <g transform=\"translate(223.814063 160.398438) scale(0.1 -0.1)\">\n       <defs>\n        <path id=\"DejaVuSans-33\" d=\"M 2597 2516 \nQ 3050 2419 3304 2112 \nQ 3559 1806 3559 1356 \nQ 3559 666 3084 287 \nQ 2609 -91 1734 -91 \nQ 1441 -91 1130 -33 \nQ 819 25 488 141 \nL 488 750 \nQ 750 597 1062 519 \nQ 1375 441 1716 441 \nQ 2309 441 2620 675 \nQ 2931 909 2931 1356 \nQ 2931 1769 2642 2001 \nQ 2353 2234 1838 2234 \nL 1294 2234 \nL 1294 2753 \nL 1863 2753 \nQ 2328 2753 2575 2939 \nQ 2822 3125 2822 3475 \nQ 2822 3834 2567 4026 \nQ 2313 4219 1838 4219 \nQ 1578 4219 1281 4162 \nQ 984 4106 628 3988 \nL 628 4550 \nQ 988 4650 1302 4700 \nQ 1616 4750 1894 4750 \nQ 2613 4750 3031 4423 \nQ 3450 4097 3450 3541 \nQ 3450 3153 3228 2886 \nQ 3006 2619 2597 2516 \nz\n\" transform=\"scale(0.015625)\"/>\n       </defs>\n       <use xlink:href=\"#DejaVuSans-33\"/>\n       <use xlink:href=\"#DejaVuSans-2e\" x=\"63.623047\"/>\n       <use xlink:href=\"#DejaVuSans-30\" x=\"95.410156\"/>\n      </g>\n     </g>\n    </g>\n    <g id=\"text_8\">\n     <!-- epoch -->\n     <g transform=\"translate(118.8875 174.076563) scale(0.1 -0.1)\">\n      <defs>\n       <path id=\"DejaVuSans-65\" d=\"M 3597 1894 \nL 3597 1613 \nL 953 1613 \nQ 991 1019 1311 708 \nQ 1631 397 2203 397 \nQ 2534 397 2845 478 \nQ 3156 559 3463 722 \nL 3463 178 \nQ 3153 47 2828 -22 \nQ 2503 -91 2169 -91 \nQ 1331 -91 842 396 \nQ 353 884 353 1716 \nQ 353 2575 817 3079 \nQ 1281 3584 2069 3584 \nQ 2775 3584 3186 3129 \nQ 3597 2675 3597 1894 \nz\nM 3022 2063 \nQ 3016 2534 2758 2815 \nQ 2500 3097 2075 3097 \nQ 1594 3097 1305 2825 \nQ 1016 2553 972 2059 \nL 3022 2063 \nz\n\" transform=\"scale(0.015625)\"/>\n       <path id=\"DejaVuSans-70\" d=\"M 1159 525 \nL 1159 -1331 \nL 581 -1331 \nL 581 3500 \nL 1159 3500 \nL 1159 2969 \nQ 1341 3281 1617 3432 \nQ 1894 3584 2278 3584 \nQ 2916 3584 3314 3078 \nQ 3713 2572 3713 1747 \nQ 3713 922 3314 415 \nQ 2916 -91 2278 -91 \nQ 1894 -91 1617 61 \nQ 1341 213 1159 525 \nz\nM 3116 1747 \nQ 3116 2381 2855 2742 \nQ 2594 3103 2138 3103 \nQ 1681 3103 1420 2742 \nQ 1159 2381 1159 1747 \nQ 1159 1113 1420 752 \nQ 1681 391 2138 391 \nQ 2594 391 2855 752 \nQ 3116 1113 3116 1747 \nz\n\" transform=\"scale(0.015625)\"/>\n       <path id=\"DejaVuSans-6f\" d=\"M 1959 3097 \nQ 1497 3097 1228 2736 \nQ 959 2375 959 1747 \nQ 959 1119 1226 758 \nQ 1494 397 1959 397 \nQ 2419 397 2687 759 \nQ 2956 1122 2956 1747 \nQ 2956 2369 2687 2733 \nQ 2419 3097 1959 3097 \nz\nM 1959 3584 \nQ 2709 3584 3137 3096 \nQ 3566 2609 3566 1747 \nQ 3566 888 3137 398 \nQ 2709 -91 1959 -91 \nQ 1206 -91 779 398 \nQ 353 888 353 1747 \nQ 353 2609 779 3096 \nQ 1206 3584 1959 3584 \nz\n\" transform=\"scale(0.015625)\"/>\n       <path id=\"DejaVuSans-63\" d=\"M 3122 3366 \nL 3122 2828 \nQ 2878 2963 2633 3030 \nQ 2388 3097 2138 3097 \nQ 1578 3097 1268 2742 \nQ 959 2388 959 1747 \nQ 959 1106 1268 751 \nQ 1578 397 2138 397 \nQ 2388 397 2633 464 \nQ 2878 531 3122 666 \nL 3122 134 \nQ 2881 22 2623 -34 \nQ 2366 -91 2075 -91 \nQ 1284 -91 818 406 \nQ 353 903 353 1747 \nQ 353 2603 823 3093 \nQ 1294 3584 2113 3584 \nQ 2378 3584 2631 3529 \nQ 2884 3475 3122 3366 \nz\n\" transform=\"scale(0.015625)\"/>\n       <path id=\"DejaVuSans-68\" d=\"M 3513 2113 \nL 3513 0 \nL 2938 0 \nL 2938 2094 \nQ 2938 2591 2744 2837 \nQ 2550 3084 2163 3084 \nQ 1697 3084 1428 2787 \nQ 1159 2491 1159 1978 \nL 1159 0 \nL 581 0 \nL 581 4863 \nL 1159 4863 \nL 1159 2956 \nQ 1366 3272 1645 3428 \nQ 1925 3584 2291 3584 \nQ 2894 3584 3203 3211 \nQ 3513 2838 3513 2113 \nz\n\" transform=\"scale(0.015625)\"/>\n      </defs>\n      <use xlink:href=\"#DejaVuSans-65\"/>\n      <use xlink:href=\"#DejaVuSans-70\" x=\"61.523438\"/>\n      <use xlink:href=\"#DejaVuSans-6f\" x=\"125\"/>\n      <use xlink:href=\"#DejaVuSans-63\" x=\"186.181641\"/>\n      <use xlink:href=\"#DejaVuSans-68\" x=\"241.162109\"/>\n     </g>\n    </g>\n   </g>\n   <g id=\"matplotlib.axis_2\">\n    <g id=\"ytick_1\">\n     <g id=\"line2d_8\">\n      <defs>\n       <path id=\"m1fd3f70f66\" d=\"M 0 0 \nL -3.5 0 \n\" style=\"stroke: #000000; stroke-width: 0.8\"/>\n      </defs>\n      <g>\n       <use xlink:href=\"#m1fd3f70f66\" x=\"36.465625\" y=\"133.446889\" style=\"stroke: #000000; stroke-width: 0.8\"/>\n      </g>\n     </g>\n     <g id=\"text_9\">\n      <!-- 0.84 -->\n      <g transform=\"translate(7.2 137.246108) scale(0.1 -0.1)\">\n       <defs>\n        <path id=\"DejaVuSans-38\" d=\"M 2034 2216 \nQ 1584 2216 1326 1975 \nQ 1069 1734 1069 1313 \nQ 1069 891 1326 650 \nQ 1584 409 2034 409 \nQ 2484 409 2743 651 \nQ 3003 894 3003 1313 \nQ 3003 1734 2745 1975 \nQ 2488 2216 2034 2216 \nz\nM 1403 2484 \nQ 997 2584 770 2862 \nQ 544 3141 544 3541 \nQ 544 4100 942 4425 \nQ 1341 4750 2034 4750 \nQ 2731 4750 3128 4425 \nQ 3525 4100 3525 3541 \nQ 3525 3141 3298 2862 \nQ 3072 2584 2669 2484 \nQ 3125 2378 3379 2068 \nQ 3634 1759 3634 1313 \nQ 3634 634 3220 271 \nQ 2806 -91 2034 -91 \nQ 1263 -91 848 271 \nQ 434 634 434 1313 \nQ 434 1759 690 2068 \nQ 947 2378 1403 2484 \nz\nM 1172 3481 \nQ 1172 3119 1398 2916 \nQ 1625 2713 2034 2713 \nQ 2441 2713 2670 2916 \nQ 2900 3119 2900 3481 \nQ 2900 3844 2670 4047 \nQ 2441 4250 2034 4250 \nQ 1625 4250 1398 4047 \nQ 1172 3844 1172 3481 \nz\n\" transform=\"scale(0.015625)\"/>\n        <path id=\"DejaVuSans-34\" d=\"M 2419 4116 \nL 825 1625 \nL 2419 1625 \nL 2419 4116 \nz\nM 2253 4666 \nL 3047 4666 \nL 3047 1625 \nL 3713 1625 \nL 3713 1100 \nL 3047 1100 \nL 3047 0 \nL 2419 0 \nL 2419 1100 \nL 313 1100 \nL 313 1709 \nL 2253 4666 \nz\n\" transform=\"scale(0.015625)\"/>\n       </defs>\n       <use xlink:href=\"#DejaVuSans-30\"/>\n       <use xlink:href=\"#DejaVuSans-2e\" x=\"63.623047\"/>\n       <use xlink:href=\"#DejaVuSans-38\" x=\"95.410156\"/>\n       <use xlink:href=\"#DejaVuSans-34\" x=\"159.033203\"/>\n      </g>\n     </g>\n    </g>\n    <g id=\"ytick_2\">\n     <g id=\"line2d_9\">\n      <g>\n       <use xlink:href=\"#m1fd3f70f66\" x=\"36.465625\" y=\"104.802768\" style=\"stroke: #000000; stroke-width: 0.8\"/>\n      </g>\n     </g>\n     <g id=\"text_10\">\n      <!-- 0.86 -->\n      <g transform=\"translate(7.2 108.601986) scale(0.1 -0.1)\">\n       <defs>\n        <path id=\"DejaVuSans-36\" d=\"M 2113 2584 \nQ 1688 2584 1439 2293 \nQ 1191 2003 1191 1497 \nQ 1191 994 1439 701 \nQ 1688 409 2113 409 \nQ 2538 409 2786 701 \nQ 3034 994 3034 1497 \nQ 3034 2003 2786 2293 \nQ 2538 2584 2113 2584 \nz\nM 3366 4563 \nL 3366 3988 \nQ 3128 4100 2886 4159 \nQ 2644 4219 2406 4219 \nQ 1781 4219 1451 3797 \nQ 1122 3375 1075 2522 \nQ 1259 2794 1537 2939 \nQ 1816 3084 2150 3084 \nQ 2853 3084 3261 2657 \nQ 3669 2231 3669 1497 \nQ 3669 778 3244 343 \nQ 2819 -91 2113 -91 \nQ 1303 -91 875 529 \nQ 447 1150 447 2328 \nQ 447 3434 972 4092 \nQ 1497 4750 2381 4750 \nQ 2619 4750 2861 4703 \nQ 3103 4656 3366 4563 \nz\n\" transform=\"scale(0.015625)\"/>\n       </defs>\n       <use xlink:href=\"#DejaVuSans-30\"/>\n       <use xlink:href=\"#DejaVuSans-2e\" x=\"63.623047\"/>\n       <use xlink:href=\"#DejaVuSans-38\" x=\"95.410156\"/>\n       <use xlink:href=\"#DejaVuSans-36\" x=\"159.033203\"/>\n      </g>\n     </g>\n    </g>\n    <g id=\"ytick_3\">\n     <g id=\"line2d_10\">\n      <g>\n       <use xlink:href=\"#m1fd3f70f66\" x=\"36.465625\" y=\"76.158646\" style=\"stroke: #000000; stroke-width: 0.8\"/>\n      </g>\n     </g>\n     <g id=\"text_11\">\n      <!-- 0.88 -->\n      <g transform=\"translate(7.2 79.957865) scale(0.1 -0.1)\">\n       <use xlink:href=\"#DejaVuSans-30\"/>\n       <use xlink:href=\"#DejaVuSans-2e\" x=\"63.623047\"/>\n       <use xlink:href=\"#DejaVuSans-38\" x=\"95.410156\"/>\n       <use xlink:href=\"#DejaVuSans-38\" x=\"159.033203\"/>\n      </g>\n     </g>\n    </g>\n    <g id=\"ytick_4\">\n     <g id=\"line2d_11\">\n      <g>\n       <use xlink:href=\"#m1fd3f70f66\" x=\"36.465625\" y=\"47.514524\" style=\"stroke: #000000; stroke-width: 0.8\"/>\n      </g>\n     </g>\n     <g id=\"text_12\">\n      <!-- 0.90 -->\n      <g transform=\"translate(7.2 51.313743) scale(0.1 -0.1)\">\n       <defs>\n        <path id=\"DejaVuSans-39\" d=\"M 703 97 \nL 703 672 \nQ 941 559 1184 500 \nQ 1428 441 1663 441 \nQ 2288 441 2617 861 \nQ 2947 1281 2994 2138 \nQ 2813 1869 2534 1725 \nQ 2256 1581 1919 1581 \nQ 1219 1581 811 2004 \nQ 403 2428 403 3163 \nQ 403 3881 828 4315 \nQ 1253 4750 1959 4750 \nQ 2769 4750 3195 4129 \nQ 3622 3509 3622 2328 \nQ 3622 1225 3098 567 \nQ 2575 -91 1691 -91 \nQ 1453 -91 1209 -44 \nQ 966 3 703 97 \nz\nM 1959 2075 \nQ 2384 2075 2632 2365 \nQ 2881 2656 2881 3163 \nQ 2881 3666 2632 3958 \nQ 2384 4250 1959 4250 \nQ 1534 4250 1286 3958 \nQ 1038 3666 1038 3163 \nQ 1038 2656 1286 2365 \nQ 1534 2075 1959 2075 \nz\n\" transform=\"scale(0.015625)\"/>\n       </defs>\n       <use xlink:href=\"#DejaVuSans-30\"/>\n       <use xlink:href=\"#DejaVuSans-2e\" x=\"63.623047\"/>\n       <use xlink:href=\"#DejaVuSans-39\" x=\"95.410156\"/>\n       <use xlink:href=\"#DejaVuSans-30\" x=\"159.033203\"/>\n      </g>\n     </g>\n    </g>\n    <g id=\"ytick_5\">\n     <g id=\"line2d_12\">\n      <g>\n       <use xlink:href=\"#m1fd3f70f66\" x=\"36.465625\" y=\"18.870402\" style=\"stroke: #000000; stroke-width: 0.8\"/>\n      </g>\n     </g>\n     <g id=\"text_13\">\n      <!-- 0.92 -->\n      <g transform=\"translate(7.2 22.669621) scale(0.1 -0.1)\">\n       <use xlink:href=\"#DejaVuSans-30\"/>\n       <use xlink:href=\"#DejaVuSans-2e\" x=\"63.623047\"/>\n       <use xlink:href=\"#DejaVuSans-39\" x=\"95.410156\"/>\n       <use xlink:href=\"#DejaVuSans-32\" x=\"159.033203\"/>\n      </g>\n     </g>\n    </g>\n   </g>\n   <g id=\"line2d_13\">\n    <path d=\"M 52.464778 76.5 \n\" clip-path=\"url(#p80ddf5bbe9)\" style=\"fill: none; stroke: #1f77b4; stroke-width: 1.5; stroke-linecap: square\"/>\n   </g>\n   <g id=\"patch_3\">\n    <path d=\"M 36.465625 145.8 \nL 36.465625 7.2 \n\" style=\"fill: none; stroke: #000000; stroke-width: 0.8; stroke-linejoin: miter; stroke-linecap: square\"/>\n   </g>\n   <g id=\"patch_4\">\n    <path d=\"M 231.765625 145.8 \nL 231.765625 7.2 \n\" style=\"fill: none; stroke: #000000; stroke-width: 0.8; stroke-linejoin: miter; stroke-linecap: square\"/>\n   </g>\n   <g id=\"patch_5\">\n    <path d=\"M 36.465625 145.8 \nL 231.765625 145.8 \n\" style=\"fill: none; stroke: #000000; stroke-width: 0.8; stroke-linejoin: miter; stroke-linecap: square\"/>\n   </g>\n   <g id=\"patch_6\">\n    <path d=\"M 36.465625 7.2 \nL 231.765625 7.2 \n\" style=\"fill: none; stroke: #000000; stroke-width: 0.8; stroke-linejoin: miter; stroke-linecap: square\"/>\n   </g>\n   <g id=\"legend_1\">\n    <g id=\"patch_7\">\n     <path d=\"M 145.175 30.15625 \nL 224.765625 30.15625 \nQ 226.765625 30.15625 226.765625 28.15625 \nL 226.765625 14.2 \nQ 226.765625 12.2 224.765625 12.2 \nL 145.175 12.2 \nQ 143.175 12.2 143.175 14.2 \nL 143.175 28.15625 \nQ 143.175 30.15625 145.175 30.15625 \nz\n\" style=\"fill: #ffffff; opacity: 0.8; stroke: #cccccc; stroke-linejoin: miter\"/>\n    </g>\n    <g id=\"line2d_14\">\n     <path d=\"M 147.175 20.298438 \nL 157.175 20.298438 \nL 167.175 20.298438 \n\" style=\"fill: none; stroke: #1f77b4; stroke-width: 1.5; stroke-linecap: square\"/>\n    </g>\n    <g id=\"text_14\">\n     <!-- train_loss -->\n     <g transform=\"translate(175.175 23.798438) scale(0.1 -0.1)\">\n      <defs>\n       <path id=\"DejaVuSans-74\" d=\"M 1172 4494 \nL 1172 3500 \nL 2356 3500 \nL 2356 3053 \nL 1172 3053 \nL 1172 1153 \nQ 1172 725 1289 603 \nQ 1406 481 1766 481 \nL 2356 481 \nL 2356 0 \nL 1766 0 \nQ 1100 0 847 248 \nQ 594 497 594 1153 \nL 594 3053 \nL 172 3053 \nL 172 3500 \nL 594 3500 \nL 594 4494 \nL 1172 4494 \nz\n\" transform=\"scale(0.015625)\"/>\n       <path id=\"DejaVuSans-72\" d=\"M 2631 2963 \nQ 2534 3019 2420 3045 \nQ 2306 3072 2169 3072 \nQ 1681 3072 1420 2755 \nQ 1159 2438 1159 1844 \nL 1159 0 \nL 581 0 \nL 581 3500 \nL 1159 3500 \nL 1159 2956 \nQ 1341 3275 1631 3429 \nQ 1922 3584 2338 3584 \nQ 2397 3584 2469 3576 \nQ 2541 3569 2628 3553 \nL 2631 2963 \nz\n\" transform=\"scale(0.015625)\"/>\n       <path id=\"DejaVuSans-61\" d=\"M 2194 1759 \nQ 1497 1759 1228 1600 \nQ 959 1441 959 1056 \nQ 959 750 1161 570 \nQ 1363 391 1709 391 \nQ 2188 391 2477 730 \nQ 2766 1069 2766 1631 \nL 2766 1759 \nL 2194 1759 \nz\nM 3341 1997 \nL 3341 0 \nL 2766 0 \nL 2766 531 \nQ 2569 213 2275 61 \nQ 1981 -91 1556 -91 \nQ 1019 -91 701 211 \nQ 384 513 384 1019 \nQ 384 1609 779 1909 \nQ 1175 2209 1959 2209 \nL 2766 2209 \nL 2766 2266 \nQ 2766 2663 2505 2880 \nQ 2244 3097 1772 3097 \nQ 1472 3097 1187 3025 \nQ 903 2953 641 2809 \nL 641 3341 \nQ 956 3463 1253 3523 \nQ 1550 3584 1831 3584 \nQ 2591 3584 2966 3190 \nQ 3341 2797 3341 1997 \nz\n\" transform=\"scale(0.015625)\"/>\n       <path id=\"DejaVuSans-69\" d=\"M 603 3500 \nL 1178 3500 \nL 1178 0 \nL 603 0 \nL 603 3500 \nz\nM 603 4863 \nL 1178 4863 \nL 1178 4134 \nL 603 4134 \nL 603 4863 \nz\n\" transform=\"scale(0.015625)\"/>\n       <path id=\"DejaVuSans-6e\" d=\"M 3513 2113 \nL 3513 0 \nL 2938 0 \nL 2938 2094 \nQ 2938 2591 2744 2837 \nQ 2550 3084 2163 3084 \nQ 1697 3084 1428 2787 \nQ 1159 2491 1159 1978 \nL 1159 0 \nL 581 0 \nL 581 3500 \nL 1159 3500 \nL 1159 2956 \nQ 1366 3272 1645 3428 \nQ 1925 3584 2291 3584 \nQ 2894 3584 3203 3211 \nQ 3513 2838 3513 2113 \nz\n\" transform=\"scale(0.015625)\"/>\n       <path id=\"DejaVuSans-5f\" d=\"M 3263 -1063 \nL 3263 -1509 \nL -63 -1509 \nL -63 -1063 \nL 3263 -1063 \nz\n\" transform=\"scale(0.015625)\"/>\n       <path id=\"DejaVuSans-6c\" d=\"M 603 4863 \nL 1178 4863 \nL 1178 0 \nL 603 0 \nL 603 4863 \nz\n\" transform=\"scale(0.015625)\"/>\n       <path id=\"DejaVuSans-73\" d=\"M 2834 3397 \nL 2834 2853 \nQ 2591 2978 2328 3040 \nQ 2066 3103 1784 3103 \nQ 1356 3103 1142 2972 \nQ 928 2841 928 2578 \nQ 928 2378 1081 2264 \nQ 1234 2150 1697 2047 \nL 1894 2003 \nQ 2506 1872 2764 1633 \nQ 3022 1394 3022 966 \nQ 3022 478 2636 193 \nQ 2250 -91 1575 -91 \nQ 1294 -91 989 -36 \nQ 684 19 347 128 \nL 347 722 \nQ 666 556 975 473 \nQ 1284 391 1588 391 \nQ 1994 391 2212 530 \nQ 2431 669 2431 922 \nQ 2431 1156 2273 1281 \nQ 2116 1406 1581 1522 \nL 1381 1569 \nQ 847 1681 609 1914 \nQ 372 2147 372 2553 \nQ 372 3047 722 3315 \nQ 1072 3584 1716 3584 \nQ 2034 3584 2315 3537 \nQ 2597 3491 2834 3397 \nz\n\" transform=\"scale(0.015625)\"/>\n      </defs>\n      <use xlink:href=\"#DejaVuSans-74\"/>\n      <use xlink:href=\"#DejaVuSans-72\" x=\"39.208984\"/>\n      <use xlink:href=\"#DejaVuSans-61\" x=\"80.322266\"/>\n      <use xlink:href=\"#DejaVuSans-69\" x=\"141.601562\"/>\n      <use xlink:href=\"#DejaVuSans-6e\" x=\"169.384766\"/>\n      <use xlink:href=\"#DejaVuSans-5f\" x=\"232.763672\"/>\n      <use xlink:href=\"#DejaVuSans-6c\" x=\"282.763672\"/>\n      <use xlink:href=\"#DejaVuSans-6f\" x=\"310.546875\"/>\n      <use xlink:href=\"#DejaVuSans-73\" x=\"371.728516\"/>\n      <use xlink:href=\"#DejaVuSans-73\" x=\"423.828125\"/>\n     </g>\n    </g>\n   </g>\n  </g>\n </g>\n <defs>\n  <clipPath id=\"p80ddf5bbe9\">\n   <rect x=\"36.465625\" y=\"7.2\" width=\"195.3\" height=\"138.6\"/>\n  </clipPath>\n </defs>\n</svg>\n",
            "text/plain": [
              "<Figure size 350x250 with 1 Axes>"
            ]
          },
          "metadata": {},
          "output_type": "display_data"
        }
      ],
      "source": [
        "# training\n",
        "model = ResNet18(lr=0.01)\n",
        "trainer = d2l.Trainer(max_epochs=3, num_gpus=1)\n",
        "data = d2l.FashionMNIST(batch_size=512, resize=(96, 96))\n",
        "model.apply_init([next(iter(data.get_dataloader(True)))[0]], d2l.init_cnn)\n",
        "trainer.fit(model, data)"
      ]
    },
    {
      "cell_type": "markdown",
      "metadata": {
        "id": "LAuBSYhFIuwV"
      },
      "source": [
        "## Discusion Points\n",
        "- ResNet (Residual Network) improves deep learning models by using residual blocks to make training deep networks easier.\n",
        "- Key Idea: Every additional layer should ideally learn an identity function, simplifying the learning process.\n",
        "- Residual Block: Contains two convolutional layers and a shortcut connection that adds the input directly to the output.This  helps prevent issues like vanishing gradients in deep networks.\n",
        "- Larger function classes don’t always guarantee better results; nested classes are preferable.\n",
        "- Design Features:\n",
        "  - Uses batch normalization and ReLU activation functions after convolutional layers.\n",
        "  - The first two layers consist of a convolutional layer followed by max pooling.\n",
        "  - Several modules made of residual blocks are stacked to form deeper networks like ResNet-18 (18 layers) or ResNet-152 (152 layers).\n"
      ]
    }
  ],
  "metadata": {
    "colab": {
      "provenance": []
    },
    "kernelspec": {
      "display_name": "Python 3",
      "name": "python3"
    },
    "language_info": {
      "name": "python"
    }
  },
  "nbformat": 4,
  "nbformat_minor": 0
}